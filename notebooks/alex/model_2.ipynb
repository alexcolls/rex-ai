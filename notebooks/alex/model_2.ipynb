{
 "cells": [
  {
   "cell_type": "code",
   "execution_count": 67,
   "metadata": {},
   "outputs": [],
   "source": [
    "\n",
    "import pandas as pd\n",
    "from sklearn.metrics import mean_squared_error\n",
    "from sklearn.preprocessing import MinMaxScaler\n",
    "from keras.models import Sequential\n",
    "from keras.layers import Dense\n",
    "from keras.layers import LSTM\n",
    "from keras.layers import RepeatVector\n",
    "from keras.layers import TimeDistributed\n",
    "import tensorflow as tf\n"
   ]
  },
  {
   "cell_type": "code",
   "execution_count": 64,
   "metadata": {},
   "outputs": [],
   "source": [
    "\n",
    "y = pd.read_csv('../../db/data/secondary/2010/logs_.csv', index_col=0)\n",
    "\n",
    "y.reset_index(inplace=True, drop=True)\n",
    "\n",
    "y = y[1:]"
   ]
  },
  {
   "cell_type": "code",
   "execution_count": 65,
   "metadata": {},
   "outputs": [],
   "source": [
    "X = pd.read_csv('../../db/data/tertiary/2010/logs_.csv', index_col=0)\n",
    "\n",
    "X.reset_index(inplace=True, drop=True)\n",
    "\n",
    "X = X[:-1]"
   ]
  },
  {
   "cell_type": "code",
   "execution_count": 66,
   "metadata": {},
   "outputs": [
    {
     "data": {
      "text/plain": [
       "{'train':            AUD       CAD       CHF       EUR       GBP       JPY       NZD  \\\n",
       " 0     0.061881 -0.084664  0.028045 -0.037279  0.040824 -0.010721 -0.147664   \n",
       " 1    -0.033417  0.125230 -0.050101 -0.012460 -0.073844  0.025457 -0.096032   \n",
       " 2    -0.032196  0.252279  0.047114  0.011464 -0.026092 -0.043892 -0.052658   \n",
       " 3     0.052931 -0.112991  0.009011 -0.033590 -0.107902  0.156964  0.005096   \n",
       " 4     0.020095  0.010240 -0.020462  0.002050 -0.016285 -0.014165  0.046656   \n",
       " ...        ...       ...       ...       ...       ...       ...       ...   \n",
       " 4295 -0.019957  0.013731  0.014446 -0.058569 -0.035316  0.075773 -0.015720   \n",
       " 4296  0.073803  0.149694 -0.059562  0.012906 -0.010852 -0.246373  0.085951   \n",
       " 4297  0.114687  0.041749 -0.362267 -0.015757  0.075065 -0.013455 -0.013119   \n",
       " 4298 -0.153586 -0.053709  0.261702 -0.022577 -0.023860  0.074942 -0.098095   \n",
       " 4299 -0.071138 -0.031101  0.037765  0.046331  0.003691  0.097222 -0.037097   \n",
       " \n",
       "            USD  \n",
       " 0     0.149580  \n",
       " 1     0.115168  \n",
       " 2    -0.156018  \n",
       " 3     0.030482  \n",
       " 4    -0.028128  \n",
       " ...        ...  \n",
       " 4295  0.025612  \n",
       " 4296 -0.005568  \n",
       " 4297  0.173098  \n",
       " 4298  0.015182  \n",
       " 4299 -0.045673  \n",
       " \n",
       " [4300 rows x 8 columns],\n",
       " 'valid':            AUD       CAD       CHF       EUR       GBP       JPY       NZD  \\\n",
       " 4300  0.029879 -0.090331  0.048136  0.030283 -0.034083 -0.006606  0.162613   \n",
       " 4301  0.072949 -0.019105  0.015583 -0.045498 -0.097225  0.083001  0.024699   \n",
       " 4302  0.068498  0.114526 -0.231004  0.148813 -0.000810 -0.106411 -0.085653   \n",
       " 4303 -0.070184  0.005439 -0.324919  0.200160  0.275017 -0.015017  0.099442   \n",
       " 4304 -0.024223  0.032783 -0.163901  0.036354 -0.009622  0.171990 -0.062956   \n",
       " ...        ...       ...       ...       ...       ...       ...       ...   \n",
       " 5523  0.066681  0.058212  0.188319  0.203014  0.126366  0.133157 -0.882814   \n",
       " 5524 -0.030242  0.083267  0.013581  0.005074  0.037053  0.038492 -0.183407   \n",
       " 5525 -0.017038  0.059948 -0.034613 -0.030291  0.021315 -0.021975 -0.029723   \n",
       " 5526  0.020959  0.057888 -0.119400 -0.041072 -0.010653  0.006798  0.077510   \n",
       " 5527  0.034730 -0.158117  0.081075 -0.159113  0.098440 -0.037838  0.222972   \n",
       " \n",
       "            USD  \n",
       " 4300 -0.139891  \n",
       " 4301 -0.034403  \n",
       " 4302  0.092042  \n",
       " 4303 -0.169938  \n",
       " 4304  0.019575  \n",
       " ...        ...  \n",
       " 5523  0.107066  \n",
       " 5524  0.036182  \n",
       " 5525  0.052378  \n",
       " 5526  0.007968  \n",
       " 5527 -0.082148  \n",
       " \n",
       " [1228 rows x 8 columns],\n",
       " 'test':            AUD       CAD       CHF       EUR       GBP       JPY       NZD  \\\n",
       " 5528  0.000569  0.009838  0.161154 -0.017166  0.000775 -0.102621  0.075823   \n",
       " 5529 -0.101231  0.024641  0.032126  0.012515  0.135200  0.011775 -0.190567   \n",
       " 5530  0.032936  0.061711  0.071514  0.006356 -0.225917 -0.014601  0.081896   \n",
       " 5531 -0.098322 -0.054184  0.098648 -0.129647 -0.021986  0.110000 -0.084299   \n",
       " 5532 -0.093365  0.009465  0.134172 -0.121388 -0.080900  0.090660 -0.055154   \n",
       " ...        ...       ...       ...       ...       ...       ...       ...   \n",
       " 6138  0.102486 -0.107866 -0.001590  0.039943 -0.054282  0.002682  0.140173   \n",
       " 6139 -0.071324  0.108883  0.080836 -0.067406  0.020362 -0.006284 -0.070998   \n",
       " 6140 -0.020637 -0.002772 -0.002709  0.106780  0.032287 -0.045206 -0.055536   \n",
       " 6141  0.016866 -0.030659  0.024334 -0.010662  0.006116 -0.018669  0.075002   \n",
       " 6142 -0.012995  0.016503  0.015675  0.006758 -0.000358  0.043012 -0.078725   \n",
       " \n",
       "            USD  \n",
       " 5528 -0.128372  \n",
       " 5529  0.075542  \n",
       " 5530 -0.013896  \n",
       " 5531  0.179789  \n",
       " 5532  0.116510  \n",
       " ...        ...  \n",
       " 6138 -0.121546  \n",
       " 6139  0.005932  \n",
       " 6140 -0.012206  \n",
       " 6141 -0.062330  \n",
       " 6142  0.010130  \n",
       " \n",
       " [615 rows x 8 columns]}"
      ]
     },
     "execution_count": 66,
     "metadata": {},
     "output_type": "execute_result"
    }
   ],
   "source": [
    "\n",
    "train = 0.7\n",
    "valid = 0.9\n",
    "\n",
    "\n",
    "x_n = len(X)\n",
    "y_n = len(y)\n",
    "\n",
    "X_, y_ = {}, {}\n",
    "\n",
    "X_['train'] = X[0:int(x_n*train)]\n",
    "X_['valid'] = X[int(x_n*train):int(x_n*valid)]\n",
    "X_['test']  = X[int(x_n*valid):]\n",
    "\n",
    "y_['train'] = y[0:int(y_n*train)]\n",
    "y_['valid'] = y[int(y_n*train):int(y_n*valid)]\n",
    "y_['test']  = y[int(y_n*valid):]\n",
    "\n",
    "num_features = X.shape[1]\n",
    "\n",
    "num_features\n",
    "\n",
    "X_"
   ]
  },
  {
   "cell_type": "code",
   "execution_count": 60,
   "metadata": {},
   "outputs": [],
   "source": [
    "n_lag = 1\n",
    "n_neurons = 200\n",
    "n_epochs = 1000\n",
    "n_batch = 1\n",
    "n_neurons = 1\n",
    "\n",
    "# design network\n",
    "model = Sequential()\n",
    "\n",
    "model.add(LSTM(n_neurons, stateful=True))\n",
    "\n",
    "model.add(Dense(y.shape[1]))\n",
    "\n",
    "model.compile(optimizer='adam', loss='mse')"
   ]
  },
  {
   "cell_type": "code",
   "execution_count": 69,
   "metadata": {},
   "outputs": [],
   "source": [
    "\n",
    "MAX_EPOCHS = 10000\n",
    "\n",
    "def compile_and_fit(model, window, patience=2):\n",
    "  early_stopping = tf.keras.callbacks.EarlyStopping(monitor='val_loss',\n",
    "                                                    patience=patience,\n",
    "                                                    mode='min')\n",
    "\n",
    "  model.compile(loss=tf.keras.losses.MeanSquaredError(),\n",
    "                optimizer=tf.keras.optimizers.Adam(),\n",
    "                metrics=[tf.keras.metrics.MeanAbsoluteError(), tf.keras.metrics.Accuracy()])\n",
    "\n",
    "  history = model.fit(window.train, epochs=MAX_EPOCHS,\n",
    "                      validation_data=window.val,\n",
    "                      callbacks=[early_stopping])\n",
    "  \n",
    "  return history\n"
   ]
  },
  {
   "cell_type": "code",
   "execution_count": 22,
   "metadata": {},
   "outputs": [],
   "source": [
    "compile_and_fit(model, )"
   ]
  },
  {
   "cell_type": "code",
   "execution_count": 61,
   "metadata": {},
   "outputs": [
    {
     "ename": "ValueError",
     "evalue": "in user code:\n\n    File \"/home/quantium/.local/lib/python3.8/site-packages/keras/engine/training.py\", line 1051, in train_function  *\n        return step_function(self, iterator)\n    File \"/home/quantium/.local/lib/python3.8/site-packages/keras/engine/training.py\", line 1040, in step_function  **\n        outputs = model.distribute_strategy.run(run_step, args=(data,))\n    File \"/home/quantium/.local/lib/python3.8/site-packages/keras/engine/training.py\", line 1030, in run_step  **\n        outputs = model.train_step(data)\n    File \"/home/quantium/.local/lib/python3.8/site-packages/keras/engine/training.py\", line 889, in train_step\n        y_pred = self(x, training=True)\n    File \"/home/quantium/.local/lib/python3.8/site-packages/keras/utils/traceback_utils.py\", line 67, in error_handler\n        raise e.with_traceback(filtered_tb) from None\n    File \"/home/quantium/.local/lib/python3.8/site-packages/keras/engine/input_spec.py\", line 214, in assert_input_compatibility\n        raise ValueError(f'Input {input_index} of layer \"{layer_name}\" '\n\n    ValueError: Exception encountered when calling layer \"sequential_7\" (type Sequential).\n    \n    Input 0 of layer \"lstm_5\" is incompatible with the layer: expected ndim=3, found ndim=2. Full shape received: (None, 8)\n    \n    Call arguments received by layer \"sequential_7\" (type Sequential):\n      • inputs=tf.Tensor(shape=(None, 8), dtype=float64)\n      • training=True\n      • mask=None\n",
     "output_type": "error",
     "traceback": [
      "\u001b[0;31m---------------------------------------------------------------------------\u001b[0m",
      "\u001b[0;31mValueError\u001b[0m                                Traceback (most recent call last)",
      "\u001b[0;32m<ipython-input-61-d1cc6082e17a>\u001b[0m in \u001b[0;36m<module>\u001b[0;34m\u001b[0m\n\u001b[0;32m----> 1\u001b[0;31m \u001b[0mmodel\u001b[0m\u001b[0;34m.\u001b[0m\u001b[0mfit\u001b[0m\u001b[0;34m(\u001b[0m\u001b[0mx\u001b[0m\u001b[0;34m=\u001b[0m\u001b[0mX_\u001b[0m\u001b[0;34m[\u001b[0m\u001b[0;34m'train'\u001b[0m\u001b[0;34m]\u001b[0m\u001b[0;34m,\u001b[0m \u001b[0my\u001b[0m\u001b[0;34m=\u001b[0m\u001b[0my_\u001b[0m\u001b[0;34m[\u001b[0m\u001b[0;34m'train'\u001b[0m\u001b[0;34m]\u001b[0m\u001b[0;34m)\u001b[0m\u001b[0;34m\u001b[0m\u001b[0;34m\u001b[0m\u001b[0m\n\u001b[0m",
      "\u001b[0;32m~/.local/lib/python3.8/site-packages/keras/utils/traceback_utils.py\u001b[0m in \u001b[0;36merror_handler\u001b[0;34m(*args, **kwargs)\u001b[0m\n\u001b[1;32m     65\u001b[0m     \u001b[0;32mexcept\u001b[0m \u001b[0mException\u001b[0m \u001b[0;32mas\u001b[0m \u001b[0me\u001b[0m\u001b[0;34m:\u001b[0m  \u001b[0;31m# pylint: disable=broad-except\u001b[0m\u001b[0;34m\u001b[0m\u001b[0;34m\u001b[0m\u001b[0m\n\u001b[1;32m     66\u001b[0m       \u001b[0mfiltered_tb\u001b[0m \u001b[0;34m=\u001b[0m \u001b[0m_process_traceback_frames\u001b[0m\u001b[0;34m(\u001b[0m\u001b[0me\u001b[0m\u001b[0;34m.\u001b[0m\u001b[0m__traceback__\u001b[0m\u001b[0;34m)\u001b[0m\u001b[0;34m\u001b[0m\u001b[0;34m\u001b[0m\u001b[0m\n\u001b[0;32m---> 67\u001b[0;31m       \u001b[0;32mraise\u001b[0m \u001b[0me\u001b[0m\u001b[0;34m.\u001b[0m\u001b[0mwith_traceback\u001b[0m\u001b[0;34m(\u001b[0m\u001b[0mfiltered_tb\u001b[0m\u001b[0;34m)\u001b[0m \u001b[0;32mfrom\u001b[0m \u001b[0;32mNone\u001b[0m\u001b[0;34m\u001b[0m\u001b[0;34m\u001b[0m\u001b[0m\n\u001b[0m\u001b[1;32m     68\u001b[0m     \u001b[0;32mfinally\u001b[0m\u001b[0;34m:\u001b[0m\u001b[0;34m\u001b[0m\u001b[0;34m\u001b[0m\u001b[0m\n\u001b[1;32m     69\u001b[0m       \u001b[0;32mdel\u001b[0m \u001b[0mfiltered_tb\u001b[0m\u001b[0;34m\u001b[0m\u001b[0;34m\u001b[0m\u001b[0m\n",
      "\u001b[0;32m~/.local/lib/python3.8/site-packages/keras/engine/training.py\u001b[0m in \u001b[0;36mtf__train_function\u001b[0;34m(iterator)\u001b[0m\n\u001b[1;32m     13\u001b[0m                 \u001b[0;32mtry\u001b[0m\u001b[0;34m:\u001b[0m\u001b[0;34m\u001b[0m\u001b[0;34m\u001b[0m\u001b[0m\n\u001b[1;32m     14\u001b[0m                     \u001b[0mdo_return\u001b[0m \u001b[0;34m=\u001b[0m \u001b[0;32mTrue\u001b[0m\u001b[0;34m\u001b[0m\u001b[0;34m\u001b[0m\u001b[0m\n\u001b[0;32m---> 15\u001b[0;31m                     \u001b[0mretval_\u001b[0m \u001b[0;34m=\u001b[0m \u001b[0mag__\u001b[0m\u001b[0;34m.\u001b[0m\u001b[0mconverted_call\u001b[0m\u001b[0;34m(\u001b[0m\u001b[0mag__\u001b[0m\u001b[0;34m.\u001b[0m\u001b[0mld\u001b[0m\u001b[0;34m(\u001b[0m\u001b[0mstep_function\u001b[0m\u001b[0;34m)\u001b[0m\u001b[0;34m,\u001b[0m \u001b[0;34m(\u001b[0m\u001b[0mag__\u001b[0m\u001b[0;34m.\u001b[0m\u001b[0mld\u001b[0m\u001b[0;34m(\u001b[0m\u001b[0mself\u001b[0m\u001b[0;34m)\u001b[0m\u001b[0;34m,\u001b[0m \u001b[0mag__\u001b[0m\u001b[0;34m.\u001b[0m\u001b[0mld\u001b[0m\u001b[0;34m(\u001b[0m\u001b[0miterator\u001b[0m\u001b[0;34m)\u001b[0m\u001b[0;34m)\u001b[0m\u001b[0;34m,\u001b[0m \u001b[0;32mNone\u001b[0m\u001b[0;34m,\u001b[0m \u001b[0mfscope\u001b[0m\u001b[0;34m)\u001b[0m\u001b[0;34m\u001b[0m\u001b[0;34m\u001b[0m\u001b[0m\n\u001b[0m\u001b[1;32m     16\u001b[0m                 \u001b[0;32mexcept\u001b[0m\u001b[0;34m:\u001b[0m\u001b[0;34m\u001b[0m\u001b[0;34m\u001b[0m\u001b[0m\n\u001b[1;32m     17\u001b[0m                     \u001b[0mdo_return\u001b[0m \u001b[0;34m=\u001b[0m \u001b[0;32mFalse\u001b[0m\u001b[0;34m\u001b[0m\u001b[0;34m\u001b[0m\u001b[0m\n",
      "\u001b[0;31mValueError\u001b[0m: in user code:\n\n    File \"/home/quantium/.local/lib/python3.8/site-packages/keras/engine/training.py\", line 1051, in train_function  *\n        return step_function(self, iterator)\n    File \"/home/quantium/.local/lib/python3.8/site-packages/keras/engine/training.py\", line 1040, in step_function  **\n        outputs = model.distribute_strategy.run(run_step, args=(data,))\n    File \"/home/quantium/.local/lib/python3.8/site-packages/keras/engine/training.py\", line 1030, in run_step  **\n        outputs = model.train_step(data)\n    File \"/home/quantium/.local/lib/python3.8/site-packages/keras/engine/training.py\", line 889, in train_step\n        y_pred = self(x, training=True)\n    File \"/home/quantium/.local/lib/python3.8/site-packages/keras/utils/traceback_utils.py\", line 67, in error_handler\n        raise e.with_traceback(filtered_tb) from None\n    File \"/home/quantium/.local/lib/python3.8/site-packages/keras/engine/input_spec.py\", line 214, in assert_input_compatibility\n        raise ValueError(f'Input {input_index} of layer \"{layer_name}\" '\n\n    ValueError: Exception encountered when calling layer \"sequential_7\" (type Sequential).\n    \n    Input 0 of layer \"lstm_5\" is incompatible with the layer: expected ndim=3, found ndim=2. Full shape received: (None, 8)\n    \n    Call arguments received by layer \"sequential_7\" (type Sequential):\n      • inputs=tf.Tensor(shape=(None, 8), dtype=float64)\n      • training=True\n      • mask=None\n"
     ]
    }
   ],
   "source": [
    "model.fit(x=X_['train'], y=y_['train'])"
   ]
  },
  {
   "cell_type": "code",
   "execution_count": null,
   "metadata": {},
   "outputs": [],
   "source": []
  }
 ],
 "metadata": {
  "kernelspec": {
   "display_name": "Python 3.8.10 64-bit",
   "language": "python",
   "name": "python3"
  },
  "language_info": {
   "codemirror_mode": {
    "name": "ipython",
    "version": 3
   },
   "file_extension": ".py",
   "mimetype": "text/x-python",
   "name": "python",
   "nbconvert_exporter": "python",
   "pygments_lexer": "ipython3",
   "version": "3.8.10"
  },
  "orig_nbformat": 4,
  "vscode": {
   "interpreter": {
    "hash": "916dbcbb3f70747c44a77c7bcd40155683ae19c65e1c03b4aa3499c5328201f1"
   }
  }
 },
 "nbformat": 4,
 "nbformat_minor": 2
}
