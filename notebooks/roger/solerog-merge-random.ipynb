{
 "cells": [
  {
   "cell_type": "markdown",
   "metadata": {},
   "source": [
    "# Script for merging and randomizing data"
   ]
  },
  {
   "cell_type": "code",
   "execution_count": 3,
   "metadata": {},
   "outputs": [],
   "source": [
    "import os\n",
    "import pandas as pd\n",
    "from pathlib import Path"
   ]
  },
  {
   "cell_type": "code",
   "execution_count": 4,
   "metadata": {},
   "outputs": [],
   "source": [
    "DATA_PATH = os.path.join(os.path.abspath('../../'), 'model', 'db', 'data')\n",
    "PRIMARY_PATH = os.path.join(DATA_PATH, 'primary')\n",
    "SECONDARY_PATH = os.path.join(DATA_PATH, 'secondary')"
   ]
  },
  {
   "cell_type": "code",
   "execution_count": 5,
   "metadata": {},
   "outputs": [],
   "source": [
    "def merge_data(path,\n",
    "               wpath=os.path.join(os.path.abspath('../../'), 'model', 'db', 'data', 'merge'),\n",
    "               to_csv=True):\n",
    "    merge = {}\n",
    "\n",
    "    for year_folder in sorted(os.listdir(path)):\n",
    "        if '.' in year_folder:\n",
    "            continue\n",
    "        YEAR_PATH = os.path.join(path, year_folder)\n",
    "        for week_folder in sorted([int(w) for w in os.listdir(YEAR_PATH)]):\n",
    "            WEEK_PATH = os.path.join(YEAR_PATH, str(week_folder))\n",
    "            for file in os.listdir(WEEK_PATH):\n",
    "                filename = file.split('.')[0]\n",
    "                data = pd.read_csv(os.path.join(WEEK_PATH, file), index_col=0)\n",
    "                merge[filename] = pd.concat([merge.get(filename, pd.DataFrame()), data])\n",
    "                print(f'Processing {year_folder}-{format(str(week_folder).zfill(2))}', flush=True, end='\\r')\n",
    "\n",
    "    for k in merge:\n",
    "        if to_csv:\n",
    "            file_path = os.path.join(wpath, os.path.basename(path))\n",
    "            Path(file_path).mkdir(parents=True, exist_ok=True)\n",
    "            merge[k].to_csv(os.path.join(file_path, f'{k}.csv'))\n",
    "        print(f\"{k} shape {merge[k].shape}\")\n",
    "\n",
    "    return merge"
   ]
  },
  {
   "cell_type": "code",
   "execution_count": 8,
   "metadata": {},
   "outputs": [
    {
     "name": "stdout",
     "output_type": "stream",
     "text": [
      "Merge results:2-35\n",
      "spreads shape (108240, 28)\n",
      "volumes shape (108240, 28)\n",
      "asks shape (108240, 28)\n",
      "bids shape (108240, 28)\n",
      "mids shape (108240, 28)\n"
     ]
    }
   ],
   "source": [
    "data = merge_data(PRIMARY_PATH)"
   ]
  },
  {
   "cell_type": "code",
   "execution_count": 9,
   "metadata": {},
   "outputs": [
    {
     "name": "stdout",
     "output_type": "stream",
     "text": [
      "Merge results:2-35\n",
      "idxs_ shape (105840, 8)\n",
      "rets_ shape (105960, 28)\n",
      "mids_ shape (106029, 28)\n"
     ]
    }
   ],
   "source": [
    "data = merge_data(SECONDARY_PATH)"
   ]
  },
  {
   "cell_type": "code",
   "execution_count": null,
   "metadata": {},
   "outputs": [],
   "source": []
  }
 ],
 "metadata": {
  "kernelspec": {
   "display_name": "Python 3.8.12 64-bit ('rex-ai')",
   "language": "python",
   "name": "python3"
  },
  "language_info": {
   "codemirror_mode": {
    "name": "ipython",
    "version": 3
   },
   "file_extension": ".py",
   "mimetype": "text/x-python",
   "name": "python",
   "nbconvert_exporter": "python",
   "pygments_lexer": "ipython3",
   "version": "3.8.12"
  },
  "orig_nbformat": 4,
  "vscode": {
   "interpreter": {
    "hash": "c4ee8943f1e8738b78c7804c675ac8d50c650b92fef584ddc97e22247c1febaf"
   }
  }
 },
 "nbformat": 4,
 "nbformat_minor": 2
}
