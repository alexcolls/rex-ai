{
 "cells": [
  {
   "cell_type": "markdown",
   "metadata": {},
   "source": [
    "# Simple RNN model"
   ]
  },
  {
   "cell_type": "code",
   "execution_count": 1,
   "metadata": {},
   "outputs": [],
   "source": [
    "import os\n",
    "import numpy as np\n",
    "import pandas as pd\n",
    "import matplotlib.pyplot as plt\n",
    "import seaborn as sns"
   ]
  },
  {
   "cell_type": "code",
   "execution_count": 2,
   "metadata": {},
   "outputs": [
    {
     "data": {
      "text/html": [
       "<div>\n",
       "<style scoped>\n",
       "    .dataframe tbody tr th:only-of-type {\n",
       "        vertical-align: middle;\n",
       "    }\n",
       "\n",
       "    .dataframe tbody tr th {\n",
       "        vertical-align: top;\n",
       "    }\n",
       "\n",
       "    .dataframe thead th {\n",
       "        text-align: right;\n",
       "    }\n",
       "</style>\n",
       "<table border=\"1\" class=\"dataframe\">\n",
       "  <thead>\n",
       "    <tr style=\"text-align: right;\">\n",
       "      <th></th>\n",
       "      <th>AUD</th>\n",
       "      <th>CAD</th>\n",
       "      <th>CHF</th>\n",
       "      <th>EUR</th>\n",
       "      <th>GBP</th>\n",
       "      <th>JPY</th>\n",
       "      <th>NZD</th>\n",
       "      <th>USD</th>\n",
       "    </tr>\n",
       "  </thead>\n",
       "  <tbody>\n",
       "    <tr>\n",
       "      <th>2005-01-03 00:00:00+00:00</th>\n",
       "      <td>-0.064396</td>\n",
       "      <td>-0.014073</td>\n",
       "      <td>-0.105662</td>\n",
       "      <td>-0.127787</td>\n",
       "      <td>0.028474</td>\n",
       "      <td>0.172005</td>\n",
       "      <td>-0.015203</td>\n",
       "      <td>0.126642</td>\n",
       "    </tr>\n",
       "    <tr>\n",
       "      <th>2005-01-03 01:00:00+00:00</th>\n",
       "      <td>-0.006224</td>\n",
       "      <td>-0.067656</td>\n",
       "      <td>-0.119911</td>\n",
       "      <td>-0.035191</td>\n",
       "      <td>-0.030165</td>\n",
       "      <td>0.148821</td>\n",
       "      <td>0.088015</td>\n",
       "      <td>0.022311</td>\n",
       "    </tr>\n",
       "    <tr>\n",
       "      <th>2005-01-03 02:00:00+00:00</th>\n",
       "      <td>-0.085077</td>\n",
       "      <td>0.127799</td>\n",
       "      <td>-0.158482</td>\n",
       "      <td>-0.086595</td>\n",
       "      <td>-0.074298</td>\n",
       "      <td>0.183128</td>\n",
       "      <td>-0.067183</td>\n",
       "      <td>0.160709</td>\n",
       "    </tr>\n",
       "  </tbody>\n",
       "</table>\n",
       "</div>"
      ],
      "text/plain": [
       "                                AUD       CAD       CHF       EUR       GBP  \\\n",
       "2005-01-03 00:00:00+00:00 -0.064396 -0.014073 -0.105662 -0.127787  0.028474   \n",
       "2005-01-03 01:00:00+00:00 -0.006224 -0.067656 -0.119911 -0.035191 -0.030165   \n",
       "2005-01-03 02:00:00+00:00 -0.085077  0.127799 -0.158482 -0.086595 -0.074298   \n",
       "\n",
       "                                JPY       NZD       USD  \n",
       "2005-01-03 00:00:00+00:00  0.172005 -0.015203  0.126642  \n",
       "2005-01-03 01:00:00+00:00  0.148821  0.088015  0.022311  \n",
       "2005-01-03 02:00:00+00:00  0.183128 -0.067183  0.160709  "
      ]
     },
     "metadata": {},
     "output_type": "display_data"
    },
    {
     "data": {
      "text/html": [
       "<div>\n",
       "<style scoped>\n",
       "    .dataframe tbody tr th:only-of-type {\n",
       "        vertical-align: middle;\n",
       "    }\n",
       "\n",
       "    .dataframe tbody tr th {\n",
       "        vertical-align: top;\n",
       "    }\n",
       "\n",
       "    .dataframe thead th {\n",
       "        text-align: right;\n",
       "    }\n",
       "</style>\n",
       "<table border=\"1\" class=\"dataframe\">\n",
       "  <thead>\n",
       "    <tr style=\"text-align: right;\">\n",
       "      <th></th>\n",
       "      <th>AUD</th>\n",
       "      <th>CAD</th>\n",
       "      <th>CHF</th>\n",
       "      <th>EUR</th>\n",
       "      <th>GBP</th>\n",
       "      <th>JPY</th>\n",
       "      <th>NZD</th>\n",
       "      <th>USD</th>\n",
       "    </tr>\n",
       "  </thead>\n",
       "  <tbody>\n",
       "    <tr>\n",
       "      <th>2022-12-27 21:00:00+00:00</th>\n",
       "      <td>-0.093193</td>\n",
       "      <td>0.015155</td>\n",
       "      <td>-0.084192</td>\n",
       "      <td>0.179205</td>\n",
       "      <td>0.008747</td>\n",
       "      <td>-0.063549</td>\n",
       "      <td>-0.015301</td>\n",
       "      <td>0.053128</td>\n",
       "    </tr>\n",
       "    <tr>\n",
       "      <th>2022-12-27 22:00:00+00:00</th>\n",
       "      <td>-0.093193</td>\n",
       "      <td>0.015155</td>\n",
       "      <td>-0.084192</td>\n",
       "      <td>0.179205</td>\n",
       "      <td>0.008747</td>\n",
       "      <td>-0.063549</td>\n",
       "      <td>-0.015301</td>\n",
       "      <td>0.053128</td>\n",
       "    </tr>\n",
       "    <tr>\n",
       "      <th>2022-12-27 23:00:00+00:00</th>\n",
       "      <td>-0.093193</td>\n",
       "      <td>0.015155</td>\n",
       "      <td>-0.084192</td>\n",
       "      <td>0.179205</td>\n",
       "      <td>0.008747</td>\n",
       "      <td>-0.063549</td>\n",
       "      <td>-0.015301</td>\n",
       "      <td>0.053128</td>\n",
       "    </tr>\n",
       "  </tbody>\n",
       "</table>\n",
       "</div>"
      ],
      "text/plain": [
       "                                AUD       CAD       CHF       EUR       GBP  \\\n",
       "2022-12-27 21:00:00+00:00 -0.093193  0.015155 -0.084192  0.179205  0.008747   \n",
       "2022-12-27 22:00:00+00:00 -0.093193  0.015155 -0.084192  0.179205  0.008747   \n",
       "2022-12-27 23:00:00+00:00 -0.093193  0.015155 -0.084192  0.179205  0.008747   \n",
       "\n",
       "                                JPY       NZD       USD  \n",
       "2022-12-27 21:00:00+00:00 -0.063549 -0.015301  0.053128  \n",
       "2022-12-27 22:00:00+00:00 -0.063549 -0.015301  0.053128  \n",
       "2022-12-27 23:00:00+00:00 -0.063549 -0.015301  0.053128  "
      ]
     },
     "metadata": {},
     "output_type": "display_data"
    }
   ],
   "source": [
    "df = pd.read_csv('../../db/data/merge/tertiary/logs_.csv', index_col=0)\n",
    "df.index = pd.to_datetime(df.index)\n",
    "display(df.head(3))\n",
    "display(df.tail(3))"
   ]
  },
  {
   "cell_type": "code",
   "execution_count": 3,
   "metadata": {},
   "outputs": [
    {
     "data": {
      "text/plain": [
       "(111096, 8)"
      ]
     },
     "execution_count": 3,
     "metadata": {},
     "output_type": "execute_result"
    }
   ],
   "source": [
    "df.shape"
   ]
  },
  {
   "cell_type": "markdown",
   "metadata": {},
   "source": [
    "## Clean unknown data"
   ]
  },
  {
   "cell_type": "code",
   "execution_count": 4,
   "metadata": {},
   "outputs": [
    {
     "data": {
      "text/plain": [
       "(109067, 8)"
      ]
     },
     "execution_count": 4,
     "metadata": {},
     "output_type": "execute_result"
    }
   ],
   "source": [
    "df = df.loc[:'2022-08-31 10:00']\n",
    "df.shape"
   ]
  },
  {
   "cell_type": "markdown",
   "metadata": {},
   "source": [
    "## Split train and test data"
   ]
  },
  {
   "cell_type": "code",
   "execution_count": 5,
   "metadata": {},
   "outputs": [],
   "source": [
    "from datetime import datetime, timedelta\n",
    "from pytz import UTC"
   ]
  },
  {
   "cell_type": "code",
   "execution_count": 6,
   "metadata": {},
   "outputs": [],
   "source": [
    "DAY = datetime(2022, 7, 1, 0, 0, 0, 0, UTC)"
   ]
  },
  {
   "cell_type": "code",
   "execution_count": 7,
   "metadata": {},
   "outputs": [
    {
     "data": {
      "text/plain": [
       "((108024, 8), (1043, 8))"
      ]
     },
     "execution_count": 7,
     "metadata": {},
     "output_type": "execute_result"
    }
   ],
   "source": [
    "df_train = df.loc[:DAY - timedelta(hours=1)]\n",
    "df_test = df.loc[DAY:]\n",
    "df_train.shape, df_test.shape"
   ]
  },
  {
   "cell_type": "markdown",
   "metadata": {},
   "source": [
    "## Use just EUR column"
   ]
  },
  {
   "cell_type": "code",
   "execution_count": 8,
   "metadata": {},
   "outputs": [],
   "source": [
    "TARGETS = ['EUR']\n",
    "df_train_eur = df_train[TARGETS]\n",
    "df_test_eur = df_test[TARGETS]"
   ]
  },
  {
   "cell_type": "markdown",
   "metadata": {},
   "source": [
    "## Scaling"
   ]
  },
  {
   "cell_type": "code",
   "execution_count": 28,
   "metadata": {},
   "outputs": [],
   "source": [
    "from sklearn.preprocessing import MinMaxScaler"
   ]
  },
  {
   "cell_type": "code",
   "execution_count": 42,
   "metadata": {},
   "outputs": [],
   "source": [
    "scaler = MinMaxScaler()\n",
    "df_train_scaled = pd.DataFrame(scaler.fit_transform(df_train_eur), columns=df_train_eur.columns)\n",
    "df_test_scaled = pd.DataFrame(scaler.transform(df_test_eur), columns=df_test_eur.columns)"
   ]
  },
  {
   "cell_type": "markdown",
   "metadata": {},
   "source": [
    "## Create folds train and validation"
   ]
  },
  {
   "cell_type": "code",
   "execution_count": 43,
   "metadata": {},
   "outputs": [],
   "source": [
    "from typing import List"
   ]
  },
  {
   "cell_type": "code",
   "execution_count": 44,
   "metadata": {},
   "outputs": [],
   "source": [
    "FOLD_LENGTH = 12 * 21 * 24 # 1 year\n",
    "FOLD_STRIDE = 1 * 21 * 24 # 1 month\n",
    "TRAIN_TEST_RATIO = 0.8\n",
    "INPUT_LENGTH = 1 * 21 * 24 # ?"
   ]
  },
  {
   "cell_type": "code",
   "execution_count": 45,
   "metadata": {},
   "outputs": [],
   "source": [
    "def create_folds(df: pd.DataFrame,\n",
    "                 length: int,\n",
    "                 stride: int) -> List[pd.DataFrame]:\n",
    "    '''\n",
    "    This function slides through the Time Series dataframe of shape (n_timesteps, n_features) to create folds\n",
    "    - of equal `length`\n",
    "    - using `stride` between each fold\n",
    "    \n",
    "    Returns a list of folds, each as a DataFrame\n",
    "    '''\n",
    "    folds = []\n",
    "    \n",
    "    for i in range(len(df), 0, -stride):\n",
    "        if i - length < 0:\n",
    "            break\n",
    "        fold = df.iloc[i - length:i]\n",
    "        folds.insert(0, fold)\n",
    "            \n",
    "    return folds"
   ]
  },
  {
   "cell_type": "code",
   "execution_count": 46,
   "metadata": {},
   "outputs": [
    {
     "name": "stdout",
     "output_type": "stream",
     "text": [
      "The function generated 203 folds.\n",
      "Each fold has a shape equal to (6048, 1).\n"
     ]
    }
   ],
   "source": [
    "folds = create_folds(df_train_scaled, FOLD_LENGTH, FOLD_STRIDE)\n",
    "print(f'The function generated {len(folds)} folds.')\n",
    "print(f'Each fold has a shape equal to {folds[0].shape}.')"
   ]
  },
  {
   "cell_type": "code",
   "execution_count": 47,
   "metadata": {},
   "outputs": [
    {
     "data": {
      "text/html": [
       "<div>\n",
       "<style scoped>\n",
       "    .dataframe tbody tr th:only-of-type {\n",
       "        vertical-align: middle;\n",
       "    }\n",
       "\n",
       "    .dataframe tbody tr th {\n",
       "        vertical-align: top;\n",
       "    }\n",
       "\n",
       "    .dataframe thead th {\n",
       "        text-align: right;\n",
       "    }\n",
       "</style>\n",
       "<table border=\"1\" class=\"dataframe\">\n",
       "  <thead>\n",
       "    <tr style=\"text-align: right;\">\n",
       "      <th></th>\n",
       "      <th>EUR</th>\n",
       "    </tr>\n",
       "  </thead>\n",
       "  <tbody>\n",
       "    <tr>\n",
       "      <th>101976</th>\n",
       "      <td>0.441654</td>\n",
       "    </tr>\n",
       "    <tr>\n",
       "      <th>101977</th>\n",
       "      <td>0.429481</td>\n",
       "    </tr>\n",
       "    <tr>\n",
       "      <th>101978</th>\n",
       "      <td>0.420444</td>\n",
       "    </tr>\n",
       "    <tr>\n",
       "      <th>101979</th>\n",
       "      <td>0.428927</td>\n",
       "    </tr>\n",
       "    <tr>\n",
       "      <th>101980</th>\n",
       "      <td>0.427824</td>\n",
       "    </tr>\n",
       "    <tr>\n",
       "      <th>...</th>\n",
       "      <td>...</td>\n",
       "    </tr>\n",
       "    <tr>\n",
       "      <th>108019</th>\n",
       "      <td>0.432167</td>\n",
       "    </tr>\n",
       "    <tr>\n",
       "      <th>108020</th>\n",
       "      <td>0.437175</td>\n",
       "    </tr>\n",
       "    <tr>\n",
       "      <th>108021</th>\n",
       "      <td>0.412708</td>\n",
       "    </tr>\n",
       "    <tr>\n",
       "      <th>108022</th>\n",
       "      <td>0.416648</td>\n",
       "    </tr>\n",
       "    <tr>\n",
       "      <th>108023</th>\n",
       "      <td>0.425378</td>\n",
       "    </tr>\n",
       "  </tbody>\n",
       "</table>\n",
       "<p>6048 rows × 1 columns</p>\n",
       "</div>"
      ],
      "text/plain": [
       "             EUR\n",
       "101976  0.441654\n",
       "101977  0.429481\n",
       "101978  0.420444\n",
       "101979  0.428927\n",
       "101980  0.427824\n",
       "...          ...\n",
       "108019  0.432167\n",
       "108020  0.437175\n",
       "108021  0.412708\n",
       "108022  0.416648\n",
       "108023  0.425378\n",
       "\n",
       "[6048 rows x 1 columns]"
      ]
     },
     "execution_count": 47,
     "metadata": {},
     "output_type": "execute_result"
    }
   ],
   "source": [
    "folds[-1]"
   ]
  },
  {
   "cell_type": "markdown",
   "metadata": {},
   "source": [
    "### Create `train` and `test` splits for each fold"
   ]
  },
  {
   "cell_type": "code",
   "execution_count": 74,
   "metadata": {},
   "outputs": [],
   "source": [
    "def train_val_split(fold: pd.DataFrame,\n",
    "                    train_ratio: float,\n",
    "                    input_length: int):\n",
    "    '''\n",
    "    Returns a train dataframe and a val dataframe (fold_train, fold_val)\n",
    "    from which one can sample (X,y) sequences.\n",
    "    df_train should contain all the timesteps until round(train_val_ratio * len(fold))   \n",
    "    '''\n",
    "    last_train_i = round(train_ratio * len(fold))\n",
    "    fold_train = fold.iloc[:last_train_i]\n",
    "    fold_val = fold.iloc[last_train_i - input_length:]\n",
    "    \n",
    "    return fold_train, fold_val"
   ]
  },
  {
   "cell_type": "code",
   "execution_count": 75,
   "metadata": {},
   "outputs": [
    {
     "data": {
      "text/plain": [
       "((4838, 1), (1714, 1))"
      ]
     },
     "execution_count": 75,
     "metadata": {},
     "output_type": "execute_result"
    }
   ],
   "source": [
    "fold_train, fold_val = train_val_split(folds[-1], TRAIN_TEST_RATIO, INPUT_LENGTH)\n",
    "fold_train.shape, fold_val.shape"
   ]
  },
  {
   "cell_type": "code",
   "execution_count": null,
   "metadata": {},
   "outputs": [],
   "source": [
    "fold_test"
   ]
  },
  {
   "cell_type": "markdown",
   "metadata": {},
   "source": [
    "### Create X and y sequences from each fold"
   ]
  },
  {
   "cell_type": "markdown",
   "metadata": {},
   "source": [
    "#### Get chronological X, y (Option 1)"
   ]
  },
  {
   "cell_type": "code",
   "execution_count": 50,
   "metadata": {},
   "outputs": [],
   "source": [
    "def get_X_y_strides(fold: pd.DataFrame,\n",
    "                    input_length: int,\n",
    "                    output_length: int,\n",
    "                    stride: int):\n",
    "    '''\n",
    "    - slides through a `fold` Time Series (2D array) to create sequences of equal\n",
    "        * `input_length` for X,\n",
    "        * `output_length` for y,\n",
    "    using a temporal gap `sequence_stride` between each sequence\n",
    "    - returns a list of sequences, each as a 2D-array time series\n",
    "    '''\n",
    "    X, y = [], []\n",
    "    \n",
    "    for i in range(len(fold), 0, -stride):\n",
    "        if i - input_length - output_length < 0:\n",
    "            break\n",
    "        X_i = fold.iloc[i - input_length: i]\n",
    "        y_i = fold.iloc[i - input_length - output_length: i - input_length][TARGETS]\n",
    "        X.insert(0, X_i)\n",
    "        y.insert(0, y_i)\n",
    "        \n",
    "    return np.array(X), np.array(y)"
   ]
  },
  {
   "cell_type": "code",
   "execution_count": 51,
   "metadata": {},
   "outputs": [
    {
     "data": {
      "text/plain": [
       "((723, 504, 1), (723, 1, 1), (202, 504, 1), (202, 1, 1))"
      ]
     },
     "execution_count": 51,
     "metadata": {},
     "output_type": "execute_result"
    }
   ],
   "source": [
    "SEQUENCE_STRIDE = 6 # Every 6 hours\n",
    "OUTPUT_LENGTH = 1 # Number of values to predict\n",
    "\n",
    "X_train, y_train = get_X_y_strides(fold_train, INPUT_LENGTH, OUTPUT_LENGTH, SEQUENCE_STRIDE)\n",
    "X_val, y_val = get_X_y_strides(fold_val, INPUT_LENGTH, OUTPUT_LENGTH, SEQUENCE_STRIDE)\n",
    "\n",
    "X_train.shape, y_train.shape, X_val.shape, y_val.shape"
   ]
  },
  {
   "cell_type": "markdown",
   "metadata": {},
   "source": [
    "#### Get random n sequences (Option 2) "
   ]
  },
  {
   "cell_type": "code",
   "execution_count": 52,
   "metadata": {},
   "outputs": [],
   "source": [
    "def get_Xi_yi(fold:pd.DataFrame, \n",
    "              input_length:int, \n",
    "              output_length:int):\n",
    "    '''\n",
    "    - given a fold, it returns one sequence (X_i, y_i)\n",
    "    - with the starting point of the sequence being chosen at random\n",
    "    '''\n",
    "    \n",
    "    first_possible_start = 0\n",
    "    last_possible_start = len(fold) - input_length - output_length + 1\n",
    "    start = np.random.randint(first_possible_start, last_possible_start)\n",
    "    X_i = fold.iloc[start:start+input_length]    \n",
    "    y_i = fold.iloc[start+input_length:\n",
    "                  start+input_length+output_length][TARGETS]\n",
    "    \n",
    "    return X_i, y_i"
   ]
  },
  {
   "cell_type": "code",
   "execution_count": 53,
   "metadata": {},
   "outputs": [],
   "source": [
    "def get_X_y(fold:pd.DataFrame,\n",
    "            number_of_sequences:int,\n",
    "            input_length:int,\n",
    "            output_length:int):\n",
    "        \n",
    "    X, y = [], []\n",
    "\n",
    "    for i in range(number_of_sequences):\n",
    "        Xi, yi = get_Xi_yi(fold, input_length, output_length)\n",
    "        X.append(Xi)\n",
    "        y.append(yi)\n",
    "        \n",
    "    return np.array(X), np.array(y)"
   ]
  },
  {
   "cell_type": "code",
   "execution_count": 54,
   "metadata": {},
   "outputs": [],
   "source": [
    "N_TRAIN_SEQ = 500\n",
    "N_TEST_SEQ = round(500 * (1 - TRAIN_TEST_RATIO))"
   ]
  },
  {
   "cell_type": "code",
   "execution_count": 56,
   "metadata": {},
   "outputs": [
    {
     "data": {
      "text/plain": [
       "((500, 504, 1), (500, 1, 1), (100, 504, 1), (100, 1, 1))"
      ]
     },
     "execution_count": 56,
     "metadata": {},
     "output_type": "execute_result"
    }
   ],
   "source": [
    "X_train, y_train = get_X_y(fold_train, N_TRAIN_SEQ, INPUT_LENGTH, OUTPUT_LENGTH)\n",
    "X_val, y_val = get_X_y(fold_val, N_TEST_SEQ, INPUT_LENGTH, OUTPUT_LENGTH)\n",
    "X_train.shape, y_train.shape, X_val.shape, y_val.shape"
   ]
  },
  {
   "cell_type": "markdown",
   "metadata": {},
   "source": [
    "## Prepare X_test, y_test"
   ]
  },
  {
   "cell_type": "code",
   "execution_count": 77,
   "metadata": {},
   "outputs": [
    {
     "data": {
      "text/plain": [
       "((100, 504, 1), (100, 1, 1))"
      ]
     },
     "execution_count": 77,
     "metadata": {},
     "output_type": "execute_result"
    }
   ],
   "source": [
    "X_test, y_test = get_X_y(df_test_scaled, N_TEST_SEQ, INPUT_LENGTH, OUTPUT_LENGTH)\n",
    "X_test.shape, y_test.shape"
   ]
  },
  {
   "cell_type": "markdown",
   "metadata": {},
   "source": [
    "## Modelling"
   ]
  },
  {
   "cell_type": "code",
   "execution_count": 78,
   "metadata": {},
   "outputs": [],
   "source": [
    "from typing import Union\n",
    "from keras.api._v2.keras import Model\n",
    "from keras.api._v2.keras.optimizers import Optimizer, Adam\n",
    "from keras.api._v2.keras.models import Sequential\n",
    "from keras.api._v2.keras.layers import Dense, SimpleRNN, Dropout, LSTM, Lambda\n",
    "from keras.api._v2.keras.callbacks import EarlyStopping\n",
    "from keras.api._v2.keras.layers.experimental.preprocessing import Normalization"
   ]
  },
  {
   "cell_type": "markdown",
   "metadata": {},
   "source": [
    "### Create normalizer (works but not inside the model)"
   ]
  },
  {
   "cell_type": "code",
   "execution_count": 79,
   "metadata": {},
   "outputs": [],
   "source": [
    "def init_normalizer(X_train):\n",
    "    n = Normalization()\n",
    "    n.adapt(X_train)\n",
    "    return n"
   ]
  },
  {
   "cell_type": "markdown",
   "metadata": {},
   "source": [
    "### Create baseline model\n",
    "\n",
    "It will predict the last temperature, no need to `fit` it as it has no params."
   ]
  },
  {
   "cell_type": "code",
   "execution_count": 80,
   "metadata": {},
   "outputs": [],
   "source": [
    "def init_baseline():\n",
    "\n",
    "    model = Sequential()\n",
    "    model.add(Lambda(lambda x: x[:,-1,:, None]))\n",
    "\n",
    "    return model"
   ]
  },
  {
   "cell_type": "markdown",
   "metadata": {},
   "source": [
    "### Create simple RNN model"
   ]
  },
  {
   "cell_type": "code",
   "execution_count": 81,
   "metadata": {},
   "outputs": [],
   "source": [
    "def init_srnn_model(X_train, y_train):\n",
    "    \n",
    "    regressor = Sequential()\n",
    "\n",
    "    regressor.add(SimpleRNN(50, return_sequences=True, input_shape=X_train[0].shape))\n",
    "    regressor.add(Dropout(0.2))\n",
    "\n",
    "    regressor.add(SimpleRNN(50, return_sequences=True))\n",
    "    regressor.add(Dropout(0.2))\n",
    "\n",
    "    regressor.add(SimpleRNN(50, return_sequences=True))\n",
    "    regressor.add(Dropout(0.2))\n",
    "\n",
    "    regressor.add(SimpleRNN(50))\n",
    "\n",
    "    regressor.add(Dense(y_train.shape[1], activation=\"linear\"))\n",
    "    \n",
    "    return regressor"
   ]
  },
  {
   "cell_type": "markdown",
   "metadata": {},
   "source": [
    "### Create LSTM model"
   ]
  },
  {
   "cell_type": "code",
   "execution_count": 82,
   "metadata": {},
   "outputs": [],
   "source": [
    "def init_lstm_model(X_train, y_train):\n",
    "    \n",
    "    # norm = Normalization()\n",
    "    # norm.adapt(X_train)\n",
    "    \n",
    "    lstm = Sequential()\n",
    "    \n",
    "    # lstm.add(norm)\n",
    "    \n",
    "    lstm.add(LSTM(32, return_sequences=True, recurrent_dropout=0.2))\n",
    "    lstm.add(LSTM(32, recurrent_dropout=0.2))\n",
    "    \n",
    "    lstm.add(Dense(y_train.shape[1], activation='linear'))\n",
    "    \n",
    "    return lstm"
   ]
  },
  {
   "cell_type": "markdown",
   "metadata": {},
   "source": [
    "### Create compile and fit functions"
   ]
  },
  {
   "cell_type": "code",
   "execution_count": 83,
   "metadata": {},
   "outputs": [],
   "source": [
    "def compile_model(model: Model,\n",
    "                  optimizer:Union[str, Optimizer]='adam',\n",
    "                  loss='mse',\n",
    "                  metrics:list=['mae']):\n",
    "    \n",
    "    model.compile(optimizer=optimizer, loss=loss, metrics=metrics)\n",
    "    \n",
    "    return model"
   ]
  },
  {
   "cell_type": "code",
   "execution_count": 84,
   "metadata": {},
   "outputs": [],
   "source": [
    "def fit_model(model: Model,\n",
    "              X, y,\n",
    "              X_val, y_val,\n",
    "              epochs:int=50,\n",
    "              batch_size:int=16,\n",
    "              verbose:int=1):\n",
    "    \n",
    "    es = EarlyStopping(patience=3,\n",
    "                       mode=\"min\",\n",
    "                       restore_best_weights=True)\n",
    "\n",
    "    history = model.fit(X, y,\n",
    "                        epochs=epochs,\n",
    "                        batch_size=batch_size,\n",
    "                        validation_data=(X_val, y_val),\n",
    "                        callbacks=[es])\n",
    "    \n",
    "    return model, history"
   ]
  },
  {
   "cell_type": "markdown",
   "metadata": {},
   "source": [
    "### Initialise, compile and train the models"
   ]
  },
  {
   "cell_type": "code",
   "execution_count": 85,
   "metadata": {},
   "outputs": [
    {
     "name": "stdout",
     "output_type": "stream",
     "text": [
      "4/4 [==============================] - 0s 2ms/step - loss: 0.0017 - mae: 0.0309\n",
      "- The Baseline MAE on the test set is equal to 0.030887 log return\n"
     ]
    }
   ],
   "source": [
    "baseline = init_baseline()\n",
    "baseline = compile_model(baseline)\n",
    "baseline_score = baseline.evaluate(X_test, y_test)\n",
    "\n",
    "print(f\"- The Baseline MAE on the test set is equal to {round(baseline_score[1],6)} log return\")"
   ]
  },
  {
   "cell_type": "code",
   "execution_count": 86,
   "metadata": {},
   "outputs": [
    {
     "name": "stdout",
     "output_type": "stream",
     "text": [
      "Epoch 1/50\n",
      "32/32 [==============================] - 16s 473ms/step - loss: 0.1578 - mae: 0.3005 - val_loss: 0.0021 - val_mae: 0.0354\n",
      "Epoch 2/50\n",
      "32/32 [==============================] - 14s 449ms/step - loss: 0.0264 - mae: 0.1313 - val_loss: 0.0014 - val_mae: 0.0290\n",
      "Epoch 3/50\n",
      "32/32 [==============================] - 14s 453ms/step - loss: 0.0151 - mae: 0.0965 - val_loss: 0.0012 - val_mae: 0.0238\n",
      "Epoch 4/50\n",
      "32/32 [==============================] - 15s 454ms/step - loss: 0.0099 - mae: 0.0754 - val_loss: 0.0019 - val_mae: 0.0334\n",
      "Epoch 5/50\n",
      "32/32 [==============================] - 15s 467ms/step - loss: 0.0059 - mae: 0.0611 - val_loss: 0.0015 - val_mae: 0.0282\n",
      "Epoch 6/50\n",
      "32/32 [==============================] - 15s 479ms/step - loss: 0.0052 - mae: 0.0562 - val_loss: 0.0024 - val_mae: 0.0398\n",
      "4/4 [==============================] - 0s 121ms/step - loss: 0.0012 - mae: 0.0252\n",
      "- The Simple RNN MAE on the test set is equal to 0.025223 log return\n"
     ]
    }
   ],
   "source": [
    "srnn = init_srnn_model(X_train, y_train)\n",
    "srnn = compile_model(srnn)\n",
    "srnn, history = fit_model(srnn, X_train, y_train, X_val, y_val)\n",
    "srnn_score = srnn.evaluate(X_test, y_test)\n",
    "\n",
    "print(f\"- The Simple RNN MAE on the test set is equal to {round(srnn_score[1],6)} log return\")"
   ]
  },
  {
   "cell_type": "code",
   "execution_count": 87,
   "metadata": {},
   "outputs": [
    {
     "name": "stdout",
     "output_type": "stream",
     "text": [
      "Epoch 1/50\n",
      "32/32 [==============================] - 28s 801ms/step - loss: 0.0504 - mae: 0.1673 - val_loss: 0.0046 - val_mae: 0.0603\n",
      "Epoch 2/50\n",
      "32/32 [==============================] - 25s 782ms/step - loss: 0.0016 - mae: 0.0307 - val_loss: 0.0013 - val_mae: 0.0257\n",
      "Epoch 3/50\n",
      "32/32 [==============================] - 29s 914ms/step - loss: 9.1734e-04 - mae: 0.0209 - val_loss: 0.0012 - val_mae: 0.0235\n",
      "Epoch 4/50\n",
      "32/32 [==============================] - 31s 969ms/step - loss: 8.6676e-04 - mae: 0.0202 - val_loss: 0.0012 - val_mae: 0.0239\n",
      "Epoch 5/50\n",
      "32/32 [==============================] - 31s 964ms/step - loss: 8.5085e-04 - mae: 0.0206 - val_loss: 0.0012 - val_mae: 0.0235\n",
      "Epoch 6/50\n",
      "32/32 [==============================] - 31s 974ms/step - loss: 9.1162e-04 - mae: 0.0210 - val_loss: 0.0012 - val_mae: 0.0241\n",
      "Epoch 7/50\n",
      "32/32 [==============================] - 31s 968ms/step - loss: 8.3586e-04 - mae: 0.0201 - val_loss: 0.0012 - val_mae: 0.0235\n",
      "4/4 [==============================] - 1s 251ms/step - loss: 0.0011 - mae: 0.0238\n",
      "- The LSTM MAE on the test set is equal to 0.023822 log return\n"
     ]
    }
   ],
   "source": [
    "lstm = init_lstm_model(X_train, y_train)\n",
    "lstm = compile_model(lstm)\n",
    "lstm, history = fit_model(lstm, X_train, y_train, X_val, y_val)\n",
    "lstm_score = lstm.evaluate(X_test, y_test)\n",
    "\n",
    "print(f\"- The LSTM MAE on the test set is equal to {round(lstm_score[1],6)} log return\")"
   ]
  },
  {
   "cell_type": "code",
   "execution_count": null,
   "metadata": {},
   "outputs": [],
   "source": []
  }
 ],
 "metadata": {
  "kernelspec": {
   "display_name": "Python 3.8.12 64-bit ('rex-ai')",
   "language": "python",
   "name": "python3"
  },
  "language_info": {
   "codemirror_mode": {
    "name": "ipython",
    "version": 3
   },
   "file_extension": ".py",
   "mimetype": "text/x-python",
   "name": "python",
   "nbconvert_exporter": "python",
   "pygments_lexer": "ipython3",
   "version": "3.8.12"
  },
  "orig_nbformat": 4,
  "vscode": {
   "interpreter": {
    "hash": "c4ee8943f1e8738b78c7804c675ac8d50c650b92fef584ddc97e22247c1febaf"
   }
  }
 },
 "nbformat": 4,
 "nbformat_minor": 2
}
