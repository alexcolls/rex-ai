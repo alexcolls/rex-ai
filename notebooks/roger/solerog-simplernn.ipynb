{
 "cells": [
  {
   "cell_type": "markdown",
   "metadata": {},
   "source": [
    "# Simple RNN model"
   ]
  },
  {
   "cell_type": "code",
   "execution_count": 354,
   "metadata": {},
   "outputs": [],
   "source": [
    "import os\n",
    "import numpy as np\n",
    "import pandas as pd\n",
    "import matplotlib.pyplot as plt\n",
    "import seaborn as sns"
   ]
  },
  {
   "cell_type": "code",
   "execution_count": 355,
   "metadata": {},
   "outputs": [
    {
     "data": {
      "text/html": [
       "<div>\n",
       "<style scoped>\n",
       "    .dataframe tbody tr th:only-of-type {\n",
       "        vertical-align: middle;\n",
       "    }\n",
       "\n",
       "    .dataframe tbody tr th {\n",
       "        vertical-align: top;\n",
       "    }\n",
       "\n",
       "    .dataframe thead th {\n",
       "        text-align: right;\n",
       "    }\n",
       "</style>\n",
       "<table border=\"1\" class=\"dataframe\">\n",
       "  <thead>\n",
       "    <tr style=\"text-align: right;\">\n",
       "      <th></th>\n",
       "      <th>AUD</th>\n",
       "      <th>CAD</th>\n",
       "      <th>CHF</th>\n",
       "      <th>EUR</th>\n",
       "      <th>GBP</th>\n",
       "      <th>JPY</th>\n",
       "      <th>NZD</th>\n",
       "      <th>USD</th>\n",
       "    </tr>\n",
       "  </thead>\n",
       "  <tbody>\n",
       "    <tr>\n",
       "      <th>2005-01-03 00:00:00+00:00</th>\n",
       "      <td>-0.064396</td>\n",
       "      <td>-0.014073</td>\n",
       "      <td>-0.105662</td>\n",
       "      <td>-0.127787</td>\n",
       "      <td>0.028474</td>\n",
       "      <td>0.172005</td>\n",
       "      <td>-0.015203</td>\n",
       "      <td>0.126642</td>\n",
       "    </tr>\n",
       "    <tr>\n",
       "      <th>2005-01-03 01:00:00+00:00</th>\n",
       "      <td>-0.006224</td>\n",
       "      <td>-0.067656</td>\n",
       "      <td>-0.119911</td>\n",
       "      <td>-0.035191</td>\n",
       "      <td>-0.030165</td>\n",
       "      <td>0.148821</td>\n",
       "      <td>0.088015</td>\n",
       "      <td>0.022311</td>\n",
       "    </tr>\n",
       "    <tr>\n",
       "      <th>2005-01-03 02:00:00+00:00</th>\n",
       "      <td>-0.085077</td>\n",
       "      <td>0.127799</td>\n",
       "      <td>-0.158482</td>\n",
       "      <td>-0.086595</td>\n",
       "      <td>-0.074298</td>\n",
       "      <td>0.183128</td>\n",
       "      <td>-0.067183</td>\n",
       "      <td>0.160709</td>\n",
       "    </tr>\n",
       "  </tbody>\n",
       "</table>\n",
       "</div>"
      ],
      "text/plain": [
       "                                AUD       CAD       CHF       EUR       GBP  \\\n",
       "2005-01-03 00:00:00+00:00 -0.064396 -0.014073 -0.105662 -0.127787  0.028474   \n",
       "2005-01-03 01:00:00+00:00 -0.006224 -0.067656 -0.119911 -0.035191 -0.030165   \n",
       "2005-01-03 02:00:00+00:00 -0.085077  0.127799 -0.158482 -0.086595 -0.074298   \n",
       "\n",
       "                                JPY       NZD       USD  \n",
       "2005-01-03 00:00:00+00:00  0.172005 -0.015203  0.126642  \n",
       "2005-01-03 01:00:00+00:00  0.148821  0.088015  0.022311  \n",
       "2005-01-03 02:00:00+00:00  0.183128 -0.067183  0.160709  "
      ]
     },
     "metadata": {},
     "output_type": "display_data"
    },
    {
     "data": {
      "text/html": [
       "<div>\n",
       "<style scoped>\n",
       "    .dataframe tbody tr th:only-of-type {\n",
       "        vertical-align: middle;\n",
       "    }\n",
       "\n",
       "    .dataframe tbody tr th {\n",
       "        vertical-align: top;\n",
       "    }\n",
       "\n",
       "    .dataframe thead th {\n",
       "        text-align: right;\n",
       "    }\n",
       "</style>\n",
       "<table border=\"1\" class=\"dataframe\">\n",
       "  <thead>\n",
       "    <tr style=\"text-align: right;\">\n",
       "      <th></th>\n",
       "      <th>AUD</th>\n",
       "      <th>CAD</th>\n",
       "      <th>CHF</th>\n",
       "      <th>EUR</th>\n",
       "      <th>GBP</th>\n",
       "      <th>JPY</th>\n",
       "      <th>NZD</th>\n",
       "      <th>USD</th>\n",
       "    </tr>\n",
       "  </thead>\n",
       "  <tbody>\n",
       "    <tr>\n",
       "      <th>2022-12-27 21:00:00+00:00</th>\n",
       "      <td>-0.093193</td>\n",
       "      <td>0.015155</td>\n",
       "      <td>-0.084192</td>\n",
       "      <td>0.179205</td>\n",
       "      <td>0.008747</td>\n",
       "      <td>-0.063549</td>\n",
       "      <td>-0.015301</td>\n",
       "      <td>0.053128</td>\n",
       "    </tr>\n",
       "    <tr>\n",
       "      <th>2022-12-27 22:00:00+00:00</th>\n",
       "      <td>-0.093193</td>\n",
       "      <td>0.015155</td>\n",
       "      <td>-0.084192</td>\n",
       "      <td>0.179205</td>\n",
       "      <td>0.008747</td>\n",
       "      <td>-0.063549</td>\n",
       "      <td>-0.015301</td>\n",
       "      <td>0.053128</td>\n",
       "    </tr>\n",
       "    <tr>\n",
       "      <th>2022-12-27 23:00:00+00:00</th>\n",
       "      <td>-0.093193</td>\n",
       "      <td>0.015155</td>\n",
       "      <td>-0.084192</td>\n",
       "      <td>0.179205</td>\n",
       "      <td>0.008747</td>\n",
       "      <td>-0.063549</td>\n",
       "      <td>-0.015301</td>\n",
       "      <td>0.053128</td>\n",
       "    </tr>\n",
       "  </tbody>\n",
       "</table>\n",
       "</div>"
      ],
      "text/plain": [
       "                                AUD       CAD       CHF       EUR       GBP  \\\n",
       "2022-12-27 21:00:00+00:00 -0.093193  0.015155 -0.084192  0.179205  0.008747   \n",
       "2022-12-27 22:00:00+00:00 -0.093193  0.015155 -0.084192  0.179205  0.008747   \n",
       "2022-12-27 23:00:00+00:00 -0.093193  0.015155 -0.084192  0.179205  0.008747   \n",
       "\n",
       "                                JPY       NZD       USD  \n",
       "2022-12-27 21:00:00+00:00 -0.063549 -0.015301  0.053128  \n",
       "2022-12-27 22:00:00+00:00 -0.063549 -0.015301  0.053128  \n",
       "2022-12-27 23:00:00+00:00 -0.063549 -0.015301  0.053128  "
      ]
     },
     "metadata": {},
     "output_type": "display_data"
    }
   ],
   "source": [
    "df = pd.read_csv('../../db/data/merge/tertiary/logs_.csv', index_col=0)\n",
    "df.index = pd.to_datetime(df.index)\n",
    "display(df.head(3))\n",
    "display(df.tail(3))"
   ]
  },
  {
   "cell_type": "code",
   "execution_count": 356,
   "metadata": {},
   "outputs": [
    {
     "data": {
      "text/plain": [
       "(111096, 8)"
      ]
     },
     "execution_count": 356,
     "metadata": {},
     "output_type": "execute_result"
    }
   ],
   "source": [
    "df.shape"
   ]
  },
  {
   "cell_type": "markdown",
   "metadata": {},
   "source": [
    "## Clean unknown data"
   ]
  },
  {
   "cell_type": "code",
   "execution_count": 357,
   "metadata": {},
   "outputs": [
    {
     "data": {
      "text/plain": [
       "(109067, 8)"
      ]
     },
     "execution_count": 357,
     "metadata": {},
     "output_type": "execute_result"
    }
   ],
   "source": [
    "df = df.loc[:'2022-08-31 10:00']\n",
    "df.shape"
   ]
  },
  {
   "cell_type": "markdown",
   "metadata": {},
   "source": [
    "## Split train and test data"
   ]
  },
  {
   "cell_type": "code",
   "execution_count": 358,
   "metadata": {},
   "outputs": [],
   "source": [
    "from datetime import datetime, timedelta\n",
    "from pytz import UTC"
   ]
  },
  {
   "cell_type": "code",
   "execution_count": 359,
   "metadata": {},
   "outputs": [],
   "source": [
    "DAY = datetime(2022, 7, 1, 0, 0, 0, 0, UTC)"
   ]
  },
  {
   "cell_type": "code",
   "execution_count": 360,
   "metadata": {},
   "outputs": [
    {
     "data": {
      "text/plain": [
       "((108024, 8), (1043, 8))"
      ]
     },
     "execution_count": 360,
     "metadata": {},
     "output_type": "execute_result"
    }
   ],
   "source": [
    "df_train = df.loc[:DAY - timedelta(hours=1)]\n",
    "df_test = df.loc[DAY:]\n",
    "df_train.shape, df_test.shape"
   ]
  },
  {
   "cell_type": "markdown",
   "metadata": {},
   "source": [
    "## Use just EUR column"
   ]
  },
  {
   "cell_type": "code",
   "execution_count": 361,
   "metadata": {},
   "outputs": [],
   "source": [
    "TARGETS = ['EUR']\n",
    "df_train_eur = df_train[TARGETS]\n",
    "df_test_eur = df_test[TARGETS]"
   ]
  },
  {
   "cell_type": "markdown",
   "metadata": {},
   "source": [
    "## Create folds train and validation"
   ]
  },
  {
   "cell_type": "code",
   "execution_count": 362,
   "metadata": {},
   "outputs": [],
   "source": [
    "from typing import List"
   ]
  },
  {
   "cell_type": "code",
   "execution_count": 363,
   "metadata": {},
   "outputs": [],
   "source": [
    "FOLD_LENGTH = 12 * 21 * 24 # 1 year\n",
    "FOLD_STRIDE = 1 * 21 * 24 # 1 month\n",
    "TRAIN_TEST_RATIO = 0.8\n",
    "INPUT_LENGTH = 1 * 21 * 24 # ?"
   ]
  },
  {
   "cell_type": "code",
   "execution_count": 364,
   "metadata": {},
   "outputs": [],
   "source": [
    "def create_folds(df: pd.DataFrame,\n",
    "                 length: int,\n",
    "                 stride: int) -> List[pd.DataFrame]:\n",
    "    '''\n",
    "    This function slides through the Time Series dataframe of shape (n_timesteps, n_features) to create folds\n",
    "    - of equal `length`\n",
    "    - using `stride` between each fold\n",
    "    \n",
    "    Returns a list of folds, each as a DataFrame\n",
    "    '''\n",
    "    folds = []\n",
    "    \n",
    "    for i in range(len(df), 0, -stride):\n",
    "        if i - length < 0:\n",
    "            break\n",
    "        fold = df.iloc[i - length:i]\n",
    "        folds.insert(0, fold)\n",
    "            \n",
    "    return folds"
   ]
  },
  {
   "cell_type": "code",
   "execution_count": 365,
   "metadata": {},
   "outputs": [
    {
     "name": "stdout",
     "output_type": "stream",
     "text": [
      "The function generated 203 folds.\n",
      "Each fold has a shape equal to (6048, 1).\n"
     ]
    }
   ],
   "source": [
    "folds = create_folds(df_train_eur, FOLD_LENGTH, FOLD_STRIDE)\n",
    "print(f'The function generated {len(folds)} folds.')\n",
    "print(f'Each fold has a shape equal to {folds[0].shape}.')"
   ]
  },
  {
   "cell_type": "code",
   "execution_count": 366,
   "metadata": {},
   "outputs": [
    {
     "data": {
      "text/html": [
       "<div>\n",
       "<style scoped>\n",
       "    .dataframe tbody tr th:only-of-type {\n",
       "        vertical-align: middle;\n",
       "    }\n",
       "\n",
       "    .dataframe tbody tr th {\n",
       "        vertical-align: top;\n",
       "    }\n",
       "\n",
       "    .dataframe thead th {\n",
       "        text-align: right;\n",
       "    }\n",
       "</style>\n",
       "<table border=\"1\" class=\"dataframe\">\n",
       "  <thead>\n",
       "    <tr style=\"text-align: right;\">\n",
       "      <th></th>\n",
       "      <th>EUR</th>\n",
       "    </tr>\n",
       "  </thead>\n",
       "  <tbody>\n",
       "    <tr>\n",
       "      <th>2005-01-12 00:00:00+00:00</th>\n",
       "      <td>-0.001971</td>\n",
       "    </tr>\n",
       "    <tr>\n",
       "      <th>2005-01-12 01:00:00+00:00</th>\n",
       "      <td>0.046016</td>\n",
       "    </tr>\n",
       "    <tr>\n",
       "      <th>2005-01-12 02:00:00+00:00</th>\n",
       "      <td>0.070945</td>\n",
       "    </tr>\n",
       "    <tr>\n",
       "      <th>2005-01-12 03:00:00+00:00</th>\n",
       "      <td>-0.023252</td>\n",
       "    </tr>\n",
       "    <tr>\n",
       "      <th>2005-01-12 04:00:00+00:00</th>\n",
       "      <td>-0.035238</td>\n",
       "    </tr>\n",
       "    <tr>\n",
       "      <th>...</th>\n",
       "      <td>...</td>\n",
       "    </tr>\n",
       "    <tr>\n",
       "      <th>2006-01-03 19:00:00+00:00</th>\n",
       "      <td>0.168694</td>\n",
       "    </tr>\n",
       "    <tr>\n",
       "      <th>2006-01-03 20:00:00+00:00</th>\n",
       "      <td>-0.046943</td>\n",
       "    </tr>\n",
       "    <tr>\n",
       "      <th>2006-01-03 21:00:00+00:00</th>\n",
       "      <td>0.038524</td>\n",
       "    </tr>\n",
       "    <tr>\n",
       "      <th>2006-01-03 22:00:00+00:00</th>\n",
       "      <td>-0.026421</td>\n",
       "    </tr>\n",
       "    <tr>\n",
       "      <th>2006-01-03 23:00:00+00:00</th>\n",
       "      <td>0.033228</td>\n",
       "    </tr>\n",
       "  </tbody>\n",
       "</table>\n",
       "<p>6048 rows × 1 columns</p>\n",
       "</div>"
      ],
      "text/plain": [
       "                                EUR\n",
       "2005-01-12 00:00:00+00:00 -0.001971\n",
       "2005-01-12 01:00:00+00:00  0.046016\n",
       "2005-01-12 02:00:00+00:00  0.070945\n",
       "2005-01-12 03:00:00+00:00 -0.023252\n",
       "2005-01-12 04:00:00+00:00 -0.035238\n",
       "...                             ...\n",
       "2006-01-03 19:00:00+00:00  0.168694\n",
       "2006-01-03 20:00:00+00:00 -0.046943\n",
       "2006-01-03 21:00:00+00:00  0.038524\n",
       "2006-01-03 22:00:00+00:00 -0.026421\n",
       "2006-01-03 23:00:00+00:00  0.033228\n",
       "\n",
       "[6048 rows x 1 columns]"
      ]
     },
     "execution_count": 366,
     "metadata": {},
     "output_type": "execute_result"
    }
   ],
   "source": [
    "folds[0]"
   ]
  },
  {
   "cell_type": "markdown",
   "metadata": {},
   "source": [
    "### Create `train` and `test` splits for each fold"
   ]
  },
  {
   "cell_type": "code",
   "execution_count": 367,
   "metadata": {},
   "outputs": [],
   "source": [
    "def train_test_split(fold: pd.DataFrame,\n",
    "                     train_ratio: float,\n",
    "                     input_length: int):\n",
    "    '''\n",
    "    Returns a train dataframe and a test dataframe (fold_train, fold_test)\n",
    "    from which one can sample (X,y) sequences.\n",
    "    df_train should contain all the timesteps until round(train_test_ratio * len(fold))   \n",
    "    '''\n",
    "    last_train_i = round(train_ratio * len(fold))\n",
    "    fold_train = fold.iloc[:last_train_i]\n",
    "    fold_test = fold.iloc[last_train_i - input_length:]\n",
    "    \n",
    "    return fold_train, fold_test"
   ]
  },
  {
   "cell_type": "code",
   "execution_count": 368,
   "metadata": {},
   "outputs": [
    {
     "data": {
      "text/plain": [
       "((4838, 1), (1714, 1))"
      ]
     },
     "execution_count": 368,
     "metadata": {},
     "output_type": "execute_result"
    }
   ],
   "source": [
    "fold_train, fold_test = train_test_split(folds[0], TRAIN_TEST_RATIO, INPUT_LENGTH)\n",
    "fold_train.shape, fold_test.shape"
   ]
  },
  {
   "cell_type": "markdown",
   "metadata": {},
   "source": [
    "### Create X and y sequences from each fold"
   ]
  },
  {
   "cell_type": "markdown",
   "metadata": {},
   "source": [
    "#### Get chronological X, y (Option 1)"
   ]
  },
  {
   "cell_type": "code",
   "execution_count": 369,
   "metadata": {},
   "outputs": [],
   "source": [
    "def get_X_y_strides(fold: pd.DataFrame,\n",
    "                    input_length: int,\n",
    "                    output_length: int,\n",
    "                    stride: int):\n",
    "    '''\n",
    "    - slides through a `fold` Time Series (2D array) to create sequences of equal\n",
    "        * `input_length` for X,\n",
    "        * `output_length` for y,\n",
    "    using a temporal gap `sequence_stride` between each sequence\n",
    "    - returns a list of sequences, each as a 2D-array time series\n",
    "    '''\n",
    "    X, y = [], []\n",
    "    \n",
    "    for i in range(len(fold), 0, -stride):\n",
    "        if i - input_length - output_length < 0:\n",
    "            break\n",
    "        X_i = fold.iloc[i - input_length: i]\n",
    "        y_i = fold.iloc[i - input_length - output_length: i - input_length][TARGETS]\n",
    "        X.insert(0, X_i)\n",
    "        y.insert(0, y_i)\n",
    "        \n",
    "    return np.array(X), np.array(y)"
   ]
  },
  {
   "cell_type": "code",
   "execution_count": 370,
   "metadata": {},
   "outputs": [
    {
     "data": {
      "text/plain": [
       "((723, 504, 1), (723, 1, 1))"
      ]
     },
     "execution_count": 370,
     "metadata": {},
     "output_type": "execute_result"
    }
   ],
   "source": [
    "SEQUENCE_STRIDE = 6 # Every 6 hours\n",
    "OUTPUT_LENGTH = 1 # Number of values to predict\n",
    "\n",
    "X_train, y_train = get_X_y_strides(fold_train, INPUT_LENGTH, OUTPUT_LENGTH, SEQUENCE_STRIDE)\n",
    "X_test, y_test = get_X_y_strides(fold_test, INPUT_LENGTH, OUTPUT_LENGTH, SEQUENCE_STRIDE)\n",
    "\n",
    "X_train.shape, y_train.shape"
   ]
  },
  {
   "cell_type": "markdown",
   "metadata": {},
   "source": [
    "#### Get random n sequences (Option 2) "
   ]
  },
  {
   "cell_type": "code",
   "execution_count": 371,
   "metadata": {},
   "outputs": [],
   "source": [
    "def get_Xi_yi(fold:pd.DataFrame, \n",
    "              input_length:int, \n",
    "              output_length:int):\n",
    "    '''\n",
    "    - given a fold, it returns one sequence (X_i, y_i)\n",
    "    - with the starting point of the sequence being chosen at random\n",
    "    '''\n",
    "    \n",
    "    first_possible_start = 0\n",
    "    last_possible_start = len(fold) - input_length - output_length + 1\n",
    "    start = np.random.randint(first_possible_start, last_possible_start)\n",
    "    X_i = fold.iloc[start:start+input_length]    \n",
    "    y_i = fold.iloc[start+input_length:\n",
    "                  start+input_length+output_length][TARGETS]\n",
    "    \n",
    "    return X_i, y_i"
   ]
  },
  {
   "cell_type": "code",
   "execution_count": 372,
   "metadata": {},
   "outputs": [],
   "source": [
    "def get_X_y(fold:pd.DataFrame,\n",
    "            number_of_sequences:int,\n",
    "            input_length:int,\n",
    "            output_length:int):\n",
    "        \n",
    "    X, y = [], []\n",
    "\n",
    "    for i in range(number_of_sequences):\n",
    "        Xi, yi = get_Xi_yi(fold, input_length, output_length)\n",
    "        X.append(Xi)\n",
    "        y.append(yi)\n",
    "        \n",
    "    return np.array(X), np.array(y)"
   ]
  },
  {
   "cell_type": "code",
   "execution_count": 373,
   "metadata": {},
   "outputs": [],
   "source": [
    "N_TRAIN_SEQ = 200\n",
    "N_TEST_SEQ = round(200 * (1 - TRAIN_TEST_RATIO))"
   ]
  },
  {
   "cell_type": "code",
   "execution_count": 374,
   "metadata": {},
   "outputs": [
    {
     "data": {
      "text/plain": [
       "((200, 504, 1), (200, 1, 1), (40, 504, 1), (40, 1, 1))"
      ]
     },
     "execution_count": 374,
     "metadata": {},
     "output_type": "execute_result"
    }
   ],
   "source": [
    "X_train, y_train = get_X_y(fold_train, N_TRAIN_SEQ, INPUT_LENGTH, OUTPUT_LENGTH)\n",
    "X_test, y_test = get_X_y(fold_test, N_TEST_SEQ, INPUT_LENGTH, OUTPUT_LENGTH)\n",
    "X_train.shape, y_train.shape, X_test.shape, y_test.shape"
   ]
  },
  {
   "cell_type": "markdown",
   "metadata": {},
   "source": [
    "## Modelling"
   ]
  },
  {
   "cell_type": "code",
   "execution_count": 384,
   "metadata": {},
   "outputs": [],
   "source": [
    "from typing import Union\n",
    "from keras.api._v2.keras import Model\n",
    "from keras.api._v2.keras.optimizers import Optimizer, Adam\n",
    "from keras.api._v2.keras.models import Sequential\n",
    "from keras.api._v2.keras.layers import Dense, SimpleRNN, Dropout, LSTM, Lambda\n",
    "from keras.api._v2.keras.callbacks import EarlyStopping\n",
    "from keras.api._v2.keras.layers.experimental.preprocessing import Normalization"
   ]
  },
  {
   "cell_type": "markdown",
   "metadata": {},
   "source": [
    "### Create normalizer"
   ]
  },
  {
   "cell_type": "code",
   "execution_count": 421,
   "metadata": {},
   "outputs": [],
   "source": [
    "def init_normalizer(X_train):\n",
    "    n = Normalization()\n",
    "    n.adapt(X_train)\n",
    "    return n"
   ]
  },
  {
   "cell_type": "markdown",
   "metadata": {},
   "source": [
    "### Create baseline model\n",
    "\n",
    "It will predict the last temperature, no need to `fit` it as it has no params."
   ]
  },
  {
   "cell_type": "code",
   "execution_count": 413,
   "metadata": {},
   "outputs": [],
   "source": [
    "def init_baseline():\n",
    "\n",
    "    model = Sequential()\n",
    "    model.add(Lambda(lambda x: x[:,-1,:, None]))\n",
    "\n",
    "    return model"
   ]
  },
  {
   "cell_type": "markdown",
   "metadata": {},
   "source": [
    "### Create simple RNN model"
   ]
  },
  {
   "cell_type": "code",
   "execution_count": 414,
   "metadata": {},
   "outputs": [],
   "source": [
    "def init_srnn_model(X_train, y_train):\n",
    "    \n",
    "    regressor = Sequential()\n",
    "\n",
    "    regressor.add(SimpleRNN(50, return_sequences=True, input_shape=X_train[0].shape))\n",
    "    regressor.add(Dropout(0.2))\n",
    "\n",
    "    regressor.add(SimpleRNN(50, return_sequences=True))\n",
    "    regressor.add(Dropout(0.2))\n",
    "\n",
    "    regressor.add(SimpleRNN(50, return_sequences=True))\n",
    "    regressor.add(Dropout(0.2))\n",
    "\n",
    "    regressor.add(SimpleRNN(50))\n",
    "\n",
    "    regressor.add(Dense(y_train.shape[1], activation=\"linear\"))\n",
    "    \n",
    "    return regressor"
   ]
  },
  {
   "cell_type": "markdown",
   "metadata": {},
   "source": [
    "### Create LSTM model"
   ]
  },
  {
   "cell_type": "code",
   "execution_count": 427,
   "metadata": {},
   "outputs": [],
   "source": [
    "def init_lstm_model(X_train, y_train):\n",
    "    \n",
    "    # norm = Normalization()\n",
    "    # norm.adapt(X_train)\n",
    "    \n",
    "    lstm = Sequential()\n",
    "    \n",
    "    # lstm.add(norm)\n",
    "    \n",
    "    lstm.add(LSTM(32, return_sequences=True, recurrent_dropout=0.2))\n",
    "    lstm.add(LSTM(32, recurrent_dropout=0.2))\n",
    "    \n",
    "    lstm.add(Dense(y_train.shape[1], activation='linear'))\n",
    "    \n",
    "    return lstm"
   ]
  },
  {
   "cell_type": "markdown",
   "metadata": {},
   "source": [
    "### Create compile and fit functions"
   ]
  },
  {
   "cell_type": "code",
   "execution_count": 424,
   "metadata": {},
   "outputs": [],
   "source": [
    "def compile_model(model: Model,\n",
    "                  optimizer:Union[str, Optimizer]='adam',\n",
    "                  loss='mse',\n",
    "                  metrics:list=['mae']):\n",
    "    \n",
    "    model.compile(optimizer=optimizer, loss=loss, metrics=metrics)\n",
    "    \n",
    "    return model"
   ]
  },
  {
   "cell_type": "code",
   "execution_count": 425,
   "metadata": {},
   "outputs": [],
   "source": [
    "def fit_model(model: Model,\n",
    "              X, y,\n",
    "              X_val, y_val,\n",
    "              epochs:int=50,\n",
    "              batch_size:int=16,\n",
    "              verbose:int=1):\n",
    "    \n",
    "    es = EarlyStopping(patience=3,\n",
    "                       mode=\"min\",\n",
    "                       restore_best_weights=True)\n",
    "\n",
    "    history = model.fit(X, y,\n",
    "                        epochs=epochs,\n",
    "                        batch_size=batch_size,\n",
    "                        validation_data=(X_val, y_val),\n",
    "                        callbacks=[es])\n",
    "    \n",
    "    return model, history"
   ]
  },
  {
   "cell_type": "markdown",
   "metadata": {},
   "source": [
    "### Initialise, compile and train the models"
   ]
  },
  {
   "cell_type": "code",
   "execution_count": 418,
   "metadata": {},
   "outputs": [
    {
     "name": "stdout",
     "output_type": "stream",
     "text": [
      "2/2 [==============================] - 0s 19ms/step - loss: 0.0059 - mae: 0.0533\n",
      "- The Baseline MAE on the test set is equal to 0.053309 log return\n"
     ]
    }
   ],
   "source": [
    "baseline = init_baseline()\n",
    "baseline = compile_model(baseline)\n",
    "baseline_score = baseline.evaluate(X_test, y_test)\n",
    "\n",
    "print(f\"- The Baseline MAE on the test set is equal to {round(baseline_score[1],6)} log return\")"
   ]
  },
  {
   "cell_type": "code",
   "execution_count": 419,
   "metadata": {},
   "outputs": [
    {
     "name": "stdout",
     "output_type": "stream",
     "text": [
      "Epoch 1/50\n",
      "13/13 [==============================] - 23s 1s/step - loss: 0.5364 - mae: 0.5547 - val_loss: 0.0699 - val_mae: 0.2254\n",
      "Epoch 2/50\n",
      "13/13 [==============================] - 17s 1s/step - loss: 0.2011 - mae: 0.3578 - val_loss: 0.0433 - val_mae: 0.1864\n",
      "Epoch 3/50\n",
      "13/13 [==============================] - 17s 1s/step - loss: 0.1110 - mae: 0.2721 - val_loss: 0.0214 - val_mae: 0.1268\n",
      "Epoch 4/50\n",
      "13/13 [==============================] - 17s 1s/step - loss: 0.0757 - mae: 0.2174 - val_loss: 0.0080 - val_mae: 0.0672\n",
      "Epoch 5/50\n",
      "13/13 [==============================] - 17s 1s/step - loss: 0.0395 - mae: 0.1596 - val_loss: 0.0044 - val_mae: 0.0440\n",
      "Epoch 6/50\n",
      "13/13 [==============================] - 17s 1s/step - loss: 0.0245 - mae: 0.1233 - val_loss: 0.0052 - val_mae: 0.0588\n",
      "Epoch 7/50\n",
      "13/13 [==============================] - 17s 1s/step - loss: 0.0185 - mae: 0.1077 - val_loss: 0.0041 - val_mae: 0.0417\n",
      "Epoch 8/50\n",
      "13/13 [==============================] - 16s 1s/step - loss: 0.0219 - mae: 0.1190 - val_loss: 0.0043 - val_mae: 0.0505\n",
      "Epoch 9/50\n",
      "13/13 [==============================] - 16s 1s/step - loss: 0.0158 - mae: 0.0977 - val_loss: 0.0053 - val_mae: 0.0482\n",
      "Epoch 10/50\n",
      "13/13 [==============================] - 16s 1s/step - loss: 0.0146 - mae: 0.0937 - val_loss: 0.0039 - val_mae: 0.0427\n",
      "Epoch 11/50\n",
      "13/13 [==============================] - 18s 1s/step - loss: 0.0115 - mae: 0.0850 - val_loss: 0.0039 - val_mae: 0.0415\n",
      "Epoch 12/50\n",
      "13/13 [==============================] - 18s 1s/step - loss: 0.0092 - mae: 0.0724 - val_loss: 0.0038 - val_mae: 0.0418\n",
      "Epoch 13/50\n",
      "13/13 [==============================] - 18s 1s/step - loss: 0.0093 - mae: 0.0751 - val_loss: 0.0050 - val_mae: 0.0461\n",
      "Epoch 14/50\n",
      "13/13 [==============================] - 18s 1s/step - loss: 0.0080 - mae: 0.0675 - val_loss: 0.0039 - val_mae: 0.0444\n",
      "Epoch 15/50\n",
      "13/13 [==============================] - 18s 1s/step - loss: 0.0086 - mae: 0.0723 - val_loss: 0.0041 - val_mae: 0.0407\n"
     ]
    }
   ],
   "source": [
    "srnn = init_srnn_model(X_train, y_train)\n",
    "srnn = compile_model(srnn)\n",
    "srnn, history = fit_model(srnn, X_train, y_train, X_test, y_test)"
   ]
  },
  {
   "cell_type": "code",
   "execution_count": 428,
   "metadata": {},
   "outputs": [
    {
     "name": "stdout",
     "output_type": "stream",
     "text": [
      "Epoch 1/50\n",
      "13/13 [==============================] - 39s 2s/step - loss: 0.0032 - mae: 0.0418 - val_loss: 0.0049 - val_mae: 0.0471\n",
      "Epoch 2/50\n",
      "13/13 [==============================] - 27s 2s/step - loss: 0.0031 - mae: 0.0400 - val_loss: 0.0048 - val_mae: 0.0463\n",
      "Epoch 3/50\n",
      "13/13 [==============================] - 28s 2s/step - loss: 0.0031 - mae: 0.0398 - val_loss: 0.0051 - val_mae: 0.0483\n",
      "Epoch 4/50\n",
      "13/13 [==============================] - 28s 2s/step - loss: 0.0031 - mae: 0.0398 - val_loss: 0.0047 - val_mae: 0.0460\n",
      "Epoch 5/50\n",
      "13/13 [==============================] - 28s 2s/step - loss: 0.0031 - mae: 0.0399 - val_loss: 0.0048 - val_mae: 0.0469\n",
      "Epoch 6/50\n",
      "13/13 [==============================] - 31s 2s/step - loss: 0.0031 - mae: 0.0398 - val_loss: 0.0050 - val_mae: 0.0478\n",
      "Epoch 7/50\n",
      "13/13 [==============================] - 30s 2s/step - loss: 0.0031 - mae: 0.0396 - val_loss: 0.0049 - val_mae: 0.0473\n"
     ]
    }
   ],
   "source": [
    "lstm = init_lstm_model(X_train, y_train)\n",
    "lstm = compile_model(lstm)\n",
    "lstm, history = fit_model(lstm, X_train, y_train, X_test, y_test)"
   ]
  },
  {
   "cell_type": "markdown",
   "metadata": {},
   "source": [
    "# Old notebook!"
   ]
  },
  {
   "cell_type": "code",
   "execution_count": 351,
   "metadata": {},
   "outputs": [],
   "source": [
    "data_len = len(df_train_eur)"
   ]
  },
  {
   "cell_type": "code",
   "execution_count": 352,
   "metadata": {},
   "outputs": [
    {
     "name": "stdout",
     "output_type": "stream",
     "text": [
      "Data length: 108024\n",
      "Train length: 23068\n",
      "Validation length: 5767\n"
     ]
    }
   ],
   "source": [
    "X_train = df_eur.iloc[:train_len]\n",
    "X_val = df_eur.iloc[train_len:]\n",
    "print(f'Data length: {data_len}')\n",
    "print(f'Train length: {len(X_train)}')\n",
    "print(f'Validation length: {len(X_val)}')"
   ]
  },
  {
   "cell_type": "code",
   "execution_count": 353,
   "metadata": {},
   "outputs": [
    {
     "data": {
      "image/png": "[encoded data removed]",
      "text/plain": [
       "<Figure size 640x480 with 1 Axes>"
      ]
     },
     "metadata": {},
     "output_type": "display_data"
    }
   ],
   "source": [
    "X_train.hist(bins=100);"
   ]
  },
  {
   "cell_type": "markdown",
   "metadata": {},
   "source": [
    "## Normalization"
   ]
  },
  {
   "cell_type": "code",
   "execution_count": 78,
   "metadata": {},
   "outputs": [],
   "source": [
    "from sklearn.preprocessing import MinMaxScaler"
   ]
  },
  {
   "cell_type": "code",
   "execution_count": 79,
   "metadata": {},
   "outputs": [
    {
     "data": {
      "image/png": "[encoded data removed]",
      "text/plain": [
       "<Figure size 640x480 with 1 Axes>"
      ]
     },
     "metadata": {},
     "output_type": "display_data"
    }
   ],
   "source": [
    "scaler = MinMaxScaler()\n",
    "X_train_scaled = scaler.fit_transform(X_train)\n",
    "pd.DataFrame(X_train_scaled).hist(bins=100);"
   ]
  },
  {
   "cell_type": "code",
   "execution_count": 80,
   "metadata": {},
   "outputs": [
    {
     "data": {
      "image/png": "[encoded data removed]",
      "text/plain": [
       "<Figure size 1400x400 with 1 Axes>"
      ]
     },
     "metadata": {},
     "output_type": "display_data"
    }
   ],
   "source": [
    "plt.figure(figsize=(14,4))\n",
    "sns.lineplot(data=df_eur[0:500]);"
   ]
  },
  {
   "cell_type": "markdown",
   "metadata": {},
   "source": [
    "## X_train and y_train"
   ]
  },
  {
   "cell_type": "markdown",
   "metadata": {},
   "source": [
    "- 109.067 rows representing each hour in weekdays from 2005 to August 2022\n",
    "- 8 columns representing the logarithmic return for each currency (AUD, CAD, CHF, EUR, GBP, JPY, NZD, USD)\n",
    "\n",
    "The aim is to predict the logarithmic return for the next day (24h)\n",
    "\n",
    "We will use $n$-day windows, with $n=6*21*24=1512$ initially (3 months by 21 days/month by 24h/day) and predict the next day (24 rows)"
   ]
  },
  {
   "cell_type": "code",
   "execution_count": 113,
   "metadata": {},
   "outputs": [],
   "source": [
    "def create_train_test_windows(X: pd.DataFrame,\n",
    "                              train_window: int,\n",
    "                              test_window: int,\n",
    "                              shift: int = 1,\n",
    "                              gap: int = 0,\n",
    "                              step: int = 1):\n",
    "    '''\n",
    "    X: TimeSeries DataFrame\n",
    "    train_window: output rows for X_train\n",
    "    test_window: output rows for X_tes\n",
    "    shift: rows to shift to build y_train and y_test\n",
    "    gap: row gap between train and test. If 0 the first value of X_test is equal to last value of y_train.\n",
    "    step: row distance between consecutive windows\n",
    "    \n",
    "    Returns:\n",
    "    X_train, X_test, y_train, y_test as ndarrays of DataFrames.\n",
    "    '''\n",
    "    \n",
    "    X_train_dfs, X_test_dfs, y_train_dfs, y_test_dfs = [], [], [], []\n",
    "\n",
    "    window = train_window + test_window + shift + gap\n",
    "\n",
    "    for i in range(window, len(X), step):\n",
    "        X_train_dfs.append(X[i - window: i - window + train_window])\n",
    "        X_test_dfs.append(X[i - test_window - shift: i - shift])\n",
    "        y_train_dfs.append(X[i - window + shift: i - window + train_window + shift])\n",
    "        y_test_dfs.append(X[i - test_window: i])\n",
    "\n",
    "    X_train_dfs = np.array(X_train_dfs)\n",
    "    X_test_dfs = np.array(X_test_dfs)\n",
    "    y_train_dfs = np.array(y_train_dfs)\n",
    "    y_test_dfs = np.array(y_test_dfs)\n",
    "    \n",
    "    return X_train_dfs, X_test_dfs, y_train_dfs, y_test_dfs"
   ]
  },
  {
   "cell_type": "markdown",
   "metadata": {},
   "source": [
    "Check if data is correct"
   ]
  },
  {
   "cell_type": "code",
   "execution_count": 114,
   "metadata": {},
   "outputs": [
    {
     "data": {
      "text/plain": [
       "((835, 3024, 1), (835, 24, 1), (835, 3024, 1), (835, 24, 1))"
      ]
     },
     "execution_count": 114,
     "metadata": {},
     "output_type": "execute_result"
    }
   ],
   "source": [
    "train_window = 6 * 21 * 24 # rows in X\n",
    "test_window = 24 # rows in y\n",
    "\n",
    "X_trains, X_tests, y_trains, y_tests = create_train_test_windows(X_train_scaled, train_window=train_window, test_window=test_window, shift=1, gap=1, step=24)\n",
    "X_trains.shape, X_tests.shape, y_trains.shape, y_tests.shape"
   ]
  },
  {
   "cell_type": "code",
   "execution_count": 116,
   "metadata": {},
   "outputs": [
    {
     "data": {
      "text/plain": [
       "(array([[0.45285467],\n",
       "        [0.46239415],\n",
       "        [0.4627367 ]]),\n",
       " array([[0.46239415],\n",
       "        [0.4627367 ],\n",
       "        [0.45993631]]),\n",
       " array([[0.51235751],\n",
       "        [0.45893813],\n",
       "        [0.44879269]]),\n",
       " array([[0.45893813],\n",
       "        [0.44879269],\n",
       "        [0.45069654]]))"
      ]
     },
     "execution_count": 116,
     "metadata": {},
     "output_type": "execute_result"
    }
   ],
   "source": [
    "X_trains[0, -3:], y_trains[0, -3:], X_tests[0, :3], y_tests[0, :3]"
   ]
  },
  {
   "cell_type": "markdown",
   "metadata": {},
   "source": [
    "## Create simple RNN model"
   ]
  },
  {
   "cell_type": "code",
   "execution_count": 118,
   "metadata": {},
   "outputs": [],
   "source": [
    "def initialize_model(input_shape, output_size):\n",
    "    \n",
    "    regressor = Sequential()\n",
    "\n",
    "    regressor.add(SimpleRNN(50, return_sequences=True, input_shape=input_shape))\n",
    "    regressor.add(Dropout(0.2))\n",
    "\n",
    "    regressor.add(SimpleRNN(50, return_sequences=True))\n",
    "    regressor.add(Dropout(0.2))\n",
    "\n",
    "    regressor.add(SimpleRNN(50, return_sequences=True))\n",
    "    regressor.add(Dropout(0.2))\n",
    "\n",
    "    regressor.add(SimpleRNN(50))\n",
    "    regressor.add(Dropout(0.2))\n",
    "\n",
    "    regressor.add(Dense(output_size, activation=\"linear\"))\n",
    "    \n",
    "    return regressor"
   ]
  },
  {
   "cell_type": "code",
   "execution_count": 58,
   "metadata": {},
   "outputs": [],
   "source": [
    "def compile_model(model: Model,\n",
    "                  optimizer:Union[str, Optimizer]='adam',\n",
    "                  loss='mse',\n",
    "                  metrics:list=['mae']):\n",
    "    \n",
    "    model.compile(optimizer=optimizer, loss=loss, metrics=metrics)\n",
    "    \n",
    "    return model"
   ]
  },
  {
   "cell_type": "code",
   "execution_count": 131,
   "metadata": {},
   "outputs": [],
   "source": [
    "def train_model(model: Model, X, y, X_val, y_val,\n",
    "                epochs:int=10,\n",
    "                batch_size:int=64,\n",
    "                es:bool=False,\n",
    "                callback=None):\n",
    "\n",
    "    return model.fit(X, y, epochs=epochs, batch_size=batch_size, validation_data=(X_val, y_val), callbacks=[callback])"
   ]
  },
  {
   "cell_type": "code",
   "execution_count": 132,
   "metadata": {},
   "outputs": [
    {
     "name": "stdout",
     "output_type": "stream",
     "text": [
      "Epoch 1/10\n",
      "WARNING:tensorflow:Model was constructed with shape (None, 3024, 1) for input KerasTensor(type_spec=TensorSpec(shape=(None, 3024, 1), dtype=tf.float32, name='simple_rnn_34_input'), name='simple_rnn_34_input', description=\"created by layer 'simple_rnn_34_input'\"), but it was called on an input with incompatible shape (None, 1, 1).\n",
      "WARNING:tensorflow:Model was constructed with shape (None, 3024, 1) for input KerasTensor(type_spec=TensorSpec(shape=(None, 3024, 1), dtype=tf.float32, name='simple_rnn_34_input'), name='simple_rnn_34_input', description=\"created by layer 'simple_rnn_34_input'\"), but it was called on an input with incompatible shape (None, 1, 1).\n",
      "45/48 [===========================>..] - ETA: 0s - loss: 0.0742 - mae: 0.2194WARNING:tensorflow:Model was constructed with shape (None, 3024, 1) for input KerasTensor(type_spec=TensorSpec(shape=(None, 3024, 1), dtype=tf.float32, name='simple_rnn_34_input'), name='simple_rnn_34_input', description=\"created by layer 'simple_rnn_34_input'\"), but it was called on an input with incompatible shape (None, 1, 1).\n",
      "48/48 [==============================] - 4s 23ms/step - loss: 0.0719 - mae: 0.2152 - val_loss: 0.0032 - val_mae: 0.0443\n",
      "Epoch 2/10\n",
      "48/48 [==============================] - 1s 12ms/step - loss: 0.0180 - mae: 0.1070 - val_loss: 0.0024 - val_mae: 0.0387\n",
      "Epoch 3/10\n",
      "48/48 [==============================] - 1s 12ms/step - loss: 0.0115 - mae: 0.0850 - val_loss: 0.0020 - val_mae: 0.0355\n",
      "Epoch 4/10\n",
      "48/48 [==============================] - 1s 11ms/step - loss: 0.0082 - mae: 0.0717 - val_loss: 0.0017 - val_mae: 0.0328\n",
      "Epoch 5/10\n",
      "48/48 [==============================] - 1s 10ms/step - loss: 0.0066 - mae: 0.0639 - val_loss: 0.0016 - val_mae: 0.0330\n",
      "Epoch 6/10\n",
      "48/48 [==============================] - 1s 12ms/step - loss: 0.0055 - mae: 0.0584 - val_loss: 0.0014 - val_mae: 0.0306\n",
      "Epoch 7/10\n",
      "48/48 [==============================] - 1s 12ms/step - loss: 0.0050 - mae: 0.0553 - val_loss: 0.0015 - val_mae: 0.0323\n",
      "Epoch 8/10\n",
      "48/48 [==============================] - 1s 11ms/step - loss: 0.0046 - mae: 0.0532 - val_loss: 0.0015 - val_mae: 0.0320\n",
      "Epoch 9/10\n",
      "48/48 [==============================] - 1s 11ms/step - loss: 0.0042 - mae: 0.0504 - val_loss: 0.0014 - val_mae: 0.0292\n",
      "Epoch 10/10\n",
      "48/48 [==============================] - 1s 11ms/step - loss: 0.0039 - mae: 0.0487 - val_loss: 0.0015 - val_mae: 0.0315\n"
     ]
    }
   ],
   "source": [
    "es = EarlyStopping(patience=3, restore_best_weights=True)\n",
    "\n",
    "history = []\n",
    "\n",
    "for X, X_val, y, y_val in zip(X_trains, X_tests, y_trains, y_tests):\n",
    "    model = initialize_model(X.shape, 24)\n",
    "    model = compile_model(model)\n",
    "    history.append(train_model(model, X, y, X_val, y_val, epochs=10, batch_size=64, es=True, callback=es))\n",
    "    break\n"
   ]
  },
  {
   "cell_type": "code",
   "execution_count": 65,
   "metadata": {},
   "outputs": [
    {
     "data": {
      "text/plain": [
       "(835, 3024, 1)"
      ]
     },
     "execution_count": 65,
     "metadata": {},
     "output_type": "execute_result"
    }
   ],
   "source": [
    "X_train_dfs.shape"
   ]
  },
  {
   "cell_type": "code",
   "execution_count": 66,
   "metadata": {},
   "outputs": [
    {
     "data": {
      "text/plain": [
       "array([[0.43841714],\n",
       "       [0.43841714],\n",
       "       [0.41135111],\n",
       "       ...,\n",
       "       [0.45285467],\n",
       "       [0.46239415],\n",
       "       [0.4627367 ]])"
      ]
     },
     "execution_count": 66,
     "metadata": {},
     "output_type": "execute_result"
    }
   ],
   "source": [
    "X_train_dfs[0]"
   ]
  },
  {
   "cell_type": "code",
   "execution_count": 69,
   "metadata": {},
   "outputs": [
    {
     "data": {
      "text/plain": [
       "(array([[0.43841714],\n",
       "        [0.43841714],\n",
       "        [0.41135111],\n",
       "        [0.42345713],\n",
       "        [0.48039322],\n",
       "        [0.46146529],\n",
       "        [0.46312557],\n",
       "        [0.4829428 ],\n",
       "        [0.45122757],\n",
       "        [0.57246269],\n",
       "        [0.4243019 ],\n",
       "        [0.45754262],\n",
       "        [0.43024565],\n",
       "        [0.44132976],\n",
       "        [0.3886886 ],\n",
       "        [0.40271603],\n",
       "        [0.47802636],\n",
       "        [0.45095477],\n",
       "        [0.44263394],\n",
       "        [0.47346052],\n",
       "        [0.4756616 ],\n",
       "        [0.46481404],\n",
       "        [0.45606837],\n",
       "        [0.45952995]]),\n",
       " array([0.46300924]))"
      ]
     },
     "execution_count": 69,
     "metadata": {},
     "output_type": "execute_result"
    }
   ],
   "source": [
    "X_train_dfs[0][24 - 24: 24], X_train_dfs[0][24],"
   ]
  },
  {
   "cell_type": "code",
   "execution_count": null,
   "metadata": {},
   "outputs": [],
   "source": [
    "X_train_dfs_window = []\n",
    "y_train_dfs_window = []\n",
    "\n",
    "time_window = 24\n",
    "step = 1\n",
    "window = time_window\n",
    "\n",
    "for i in range(window, len(X_train_dfs[0])):\n",
    "    X_train_dfs_window.append(X_train_dfs[0][i - window: i])\n",
    "    y_train_dfs_window.append(X_train_dfs[0][i])\n",
    "\n",
    "X_train_dfs_window = np.array(X_train_dfs_window)\n",
    "y_train_dfs_window = np.array(y_train_dfs_window)\n",
    "X_train_dfs_window.shape, y_train_dfs_window.shape"
   ]
  }
 ],
 "metadata": {
  "kernelspec": {
   "display_name": "Python 3.8.12 64-bit ('rex-ai')",
   "language": "python",
   "name": "python3"
  },
  "language_info": {
   "codemirror_mode": {
    "name": "ipython",
    "version": 3
   },
   "file_extension": ".py",
   "mimetype": "text/x-python",
   "name": "python",
   "nbconvert_exporter": "python",
   "pygments_lexer": "ipython3",
   "version": "3.8.12"
  },
  "orig_nbformat": 4,
  "vscode": {
   "interpreter": {
    "hash": "c4ee8943f1e8738b78c7804c675ac8d50c650b92fef584ddc97e22247c1febaf"
   }
  }
 },
 "nbformat": 4,
 "nbformat_minor": 2
}
