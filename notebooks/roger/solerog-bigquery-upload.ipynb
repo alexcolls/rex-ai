{
 "cells": [
  {
   "cell_type": "markdown",
   "metadata": {},
   "source": [
    "# Load data in Google Big Query"
   ]
  },
  {
   "cell_type": "markdown",
   "metadata": {},
   "source": [
    "## Using Terminal"
   ]
  },
  {
   "cell_type": "markdown",
   "metadata": {},
   "source": [
    "### Create new dataset in existing project"
   ]
  },
  {
   "cell_type": "code",
   "execution_count": null,
   "metadata": {},
   "outputs": [],
   "source": [
    "!export PROJECT=artful-talon-355716\n",
    "!export DATASET=rex_ai\n",
    "!export LOCATION=EU"
   ]
  },
  {
   "cell_type": "markdown",
   "metadata": {},
   "source": [
    "Command below should output `Dataset 'artful-talon-355716:rex_ai' successfully created.`"
   ]
  },
  {
   "cell_type": "code",
   "execution_count": null,
   "metadata": {},
   "outputs": [],
   "source": [
    "!bq mk --sync --project_id $PROJECT --data_location $LOCATION $DATASET"
   ]
  },
  {
   "cell_type": "markdown",
   "metadata": {},
   "source": [
    "### Create new table in dataset"
   ]
  },
  {
   "cell_type": "code",
   "execution_count": 1,
   "metadata": {},
   "outputs": [],
   "source": [
    "!export REGION=europe-southwest1\n",
    "# europe-southwest1 (Madrid)\n",
    "!export TABLE=idxs"
   ]
  },
  {
   "cell_type": "code",
   "execution_count": null,
   "metadata": {},
   "outputs": [],
   "source": [
    "!bq mk --sync --location=$REGION $DATASET.$TABLE"
   ]
  },
  {
   "cell_type": "markdown",
   "metadata": {},
   "source": [
    "## Using Python"
   ]
  },
  {
   "cell_type": "code",
   "execution_count": 1,
   "metadata": {},
   "outputs": [],
   "source": [
    "import pandas as pd\n",
    "from google.cloud import bigquery"
   ]
  },
  {
   "cell_type": "code",
   "execution_count": 2,
   "metadata": {},
   "outputs": [],
   "source": [
    "project_id = 'artful-talon-355716'\n",
    "dataset_id = 'rex_ai'\n",
    "location = 'EU'\n",
    "\n",
    "client = bigquery.Client()\n",
    "dataset_id = f'{project_id}.{dataset_id}'\n",
    "dataset = bigquery.Dataset(dataset_id)\n",
    "dataset.location = location"
   ]
  },
  {
   "cell_type": "code",
   "execution_count": 7,
   "metadata": {},
   "outputs": [
    {
     "name": "stdout",
     "output_type": "stream",
     "text": [
      "Created dataset artful-talon-355716.artful-talon-355716.rex_ai_test\n"
     ]
    }
   ],
   "source": [
    "dataset = client.create_dataset(dataset, timeout=30)\n",
    "print(f'Created dataset {project_id}.{dataset_id}')"
   ]
  },
  {
   "cell_type": "code",
   "execution_count": 8,
   "metadata": {},
   "outputs": [
    {
     "name": "stdout",
     "output_type": "stream",
     "text": [
      "<class 'pandas.core.frame.DataFrame'>\n",
      "DatetimeIndex: 105840 entries, 2005-01-03 00:00:00+00:00 to 2022-09-02 23:00:00+00:00\n",
      "Data columns (total 8 columns):\n",
      " #   Column  Non-Null Count   Dtype  \n",
      "---  ------  --------------   -----  \n",
      " 0   AUD     105840 non-null  float64\n",
      " 1   CAD     105840 non-null  float64\n",
      " 2   CHF     105840 non-null  float64\n",
      " 3   EUR     105840 non-null  float64\n",
      " 4   GBP     105840 non-null  float64\n",
      " 5   JPY     105840 non-null  float64\n",
      " 6   NZD     105840 non-null  float64\n",
      " 7   USD     105840 non-null  float64\n",
      "dtypes: float64(8)\n",
      "memory usage: 7.3 MB\n"
     ]
    }
   ],
   "source": [
    "df = pd.read_csv('../../model/db/data/merge/secondary/idxs_.csv', index_col=0)\n",
    "df.index = pd.to_datetime(df.index)\n",
    "df.index.name = 'Datetime'\n",
    "df.info()"
   ]
  },
  {
   "cell_type": "code",
   "execution_count": 3,
   "metadata": {},
   "outputs": [
    {
     "ename": "NameError",
     "evalue": "name 'df' is not defined",
     "output_type": "error",
     "traceback": [
      "\u001b[0;31m---------------------------------------------------------------------------\u001b[0m",
      "\u001b[0;31mNameError\u001b[0m                                 Traceback (most recent call last)",
      "\u001b[1;32m/home/rsole/code/quantium-rock/rex-ai/notebooks/solerog/solerog-bigquery-upload.ipynb Cell 15\u001b[0m in \u001b[0;36m<cell line: 1>\u001b[0;34m()\u001b[0m\n\u001b[0;32m----> <a href='vscode-notebook-cell://wsl%2Bubuntu/home/rsole/code/quantium-rock/rex-ai/notebooks/solerog/solerog-bigquery-upload.ipynb#X20sdnNjb2RlLXJlbW90ZQ%3D%3D?line=0'>1</a>\u001b[0m df\u001b[39m.\u001b[39mhead()\n",
      "\u001b[0;31mNameError\u001b[0m: name 'df' is not defined"
     ]
    }
   ],
   "source": [
    "df.head()"
   ]
  },
  {
   "cell_type": "code",
   "execution_count": 10,
   "metadata": {},
   "outputs": [
    {
     "data": {
      "text/plain": [
       "LoadJob<project=artful-talon-355716, location=EU, id=a5e530b3-6c35-4007-baf3-abc7dbe2efce>"
      ]
     },
     "execution_count": 10,
     "metadata": {},
     "output_type": "execute_result"
    }
   ],
   "source": [
    "job_config = bigquery.LoadJobConfig(write_disposition=\"WRITE_TRUNCATE\")\n",
    "job = client.load_table_from_dataframe(\n",
    "    df, f'{dataset_id}.idxs_', job_config=job_config\n",
    ")  # Make an API request.\n",
    "job.result()"
   ]
  },
  {
   "cell_type": "markdown",
   "metadata": {},
   "source": [
    "## Upload all data"
   ]
  },
  {
   "cell_type": "code",
   "execution_count": 3,
   "metadata": {},
   "outputs": [],
   "source": [
    "import os\n",
    "import time"
   ]
  },
  {
   "cell_type": "code",
   "execution_count": 14,
   "metadata": {},
   "outputs": [],
   "source": [
    "def upload_data(path, dataset_id):\n",
    "    \n",
    "    try:\n",
    "        client.create_dataset(bigquery.Dataset(dataset_id), timeout=30)\n",
    "        print(f'Created dataset {dataset_id}', flush=True, end='\\r')\n",
    "    except Exception:\n",
    "        print(f'Dataset {dataset_id} already exists', flush=True, end='\\r')\n",
    "        \n",
    "    for file in os.listdir(path):    \n",
    "        \n",
    "        start_time = time.time()\n",
    "        print(f'Uploading {file} to {dataset_id}', flush=True, end='\\r')\n",
    "        data = pd.read_csv(os.path.join(path, file), index_col=0)\n",
    "        data.index = pd.to_datetime(data.index)\n",
    "        data.index.name = 'Datetime'\n",
    "        \n",
    "        \n",
    "        try:\n",
    "            job_config = bigquery.LoadJobConfig(write_disposition=\"WRITE_TRUNCATE\")\n",
    "            job = client.load_table_from_dataframe(\n",
    "                data, f\"{dataset_id}.{file.split('.')[0]}\", job_config=job_config\n",
    "            )  # Make an API request.\n",
    "            job.result()\n",
    "        except Exception as e:\n",
    "            print(e)\n",
    "        \n",
    "        print(f'Uploaded {file} in {round(time.time() - start_time, 2)}s')\n",
    "        \n",
    "    return"
   ]
  },
  {
   "cell_type": "code",
   "execution_count": 15,
   "metadata": {},
   "outputs": [
    {
     "name": "stdout",
     "output_type": "stream",
     "text": [
      "Upload results:csv to artful-talon-355716.rex_ai_ai\n",
      "Uploaded spreads.csv in 78.69s\n",
      "Uploaded volumes.csv in 17.92s\n",
      "Uploaded asks.csv in 32.45s\n",
      "Uploaded bids.csv in 24.39s\n",
      "Uploaded mids.csv in 32.76s\n"
     ]
    }
   ],
   "source": [
    "PRIMARY_PATH = os.path.join(os.path.abspath('../../'), 'model', 'db', 'data', 'merge', 'primary')\n",
    "upload_data(PRIMARY_PATH, dataset_id)"
   ]
  },
  {
   "cell_type": "code",
   "execution_count": 17,
   "metadata": {},
   "outputs": [
    {
     "name": "stdout",
     "output_type": "stream",
     "text": [
      "Uploading mids_.csv to artful-talon-355716.rex_ai\r"
     ]
    }
   ],
   "source": [
    "SECONDARY_PATH = os.path.join(os.path.abspath('../../'), 'model', 'db', 'data', 'merge', 'secondary')\n",
    "upload_data(SECONDARY_PATH, dataset_id)"
   ]
  },
  {
   "cell_type": "code",
   "execution_count": 5,
   "metadata": {},
   "outputs": [
    {
     "name": "stdout",
     "output_type": "stream",
     "text": [
      "<class 'pandas.core.frame.DataFrame'>\n",
      "RangeIndex: 1000 entries, 0 to 999\n",
      "Data columns (total 29 columns):\n",
      " #   Column    Non-Null Count  Dtype              \n",
      "---  ------    --------------  -----              \n",
      " 0   Datetime  1000 non-null   datetime64[ns, UTC]\n",
      " 1   AUD_CAD   991 non-null    float64            \n",
      " 2   AUD_CHF   991 non-null    float64            \n",
      " 3   AUD_JPY   991 non-null    float64            \n",
      " 4   AUD_NZD   991 non-null    float64            \n",
      " 5   AUD_USD   991 non-null    float64            \n",
      " 6   CAD_CHF   991 non-null    float64            \n",
      " 7   CAD_JPY   991 non-null    float64            \n",
      " 8   CHF_JPY   991 non-null    float64            \n",
      " 9   EUR_AUD   991 non-null    float64            \n",
      " 10  EUR_CAD   991 non-null    float64            \n",
      " 11  EUR_CHF   991 non-null    float64            \n",
      " 12  EUR_GBP   991 non-null    float64            \n",
      " 13  EUR_JPY   991 non-null    float64            \n",
      " 14  EUR_NZD   991 non-null    float64            \n",
      " 15  EUR_USD   991 non-null    float64            \n",
      " 16  GBP_AUD   991 non-null    float64            \n",
      " 17  GBP_CAD   991 non-null    float64            \n",
      " 18  GBP_CHF   991 non-null    float64            \n",
      " 19  GBP_JPY   991 non-null    float64            \n",
      " 20  GBP_NZD   991 non-null    float64            \n",
      " 21  GBP_USD   991 non-null    float64            \n",
      " 22  NZD_CAD   991 non-null    float64            \n",
      " 23  NZD_CHF   991 non-null    float64            \n",
      " 24  NZD_JPY   991 non-null    float64            \n",
      " 25  NZD_USD   991 non-null    float64            \n",
      " 26  USD_CAD   991 non-null    float64            \n",
      " 27  USD_CHF   991 non-null    float64            \n",
      " 28  USD_JPY   991 non-null    float64            \n",
      "dtypes: datetime64[ns, UTC](1), float64(28)\n",
      "memory usage: 226.7 KB\n"
     ]
    }
   ],
   "source": [
    "data = client.query(f'SELECT * FROM {dataset_id}.rets_ ORDER BY Datetime ASC LIMIT 1000').to_dataframe()"
   ]
  },
  {
   "cell_type": "code",
   "execution_count": null,
   "metadata": {},
   "outputs": [],
   "source": [
    "data.info()"
   ]
  }
 ],
 "metadata": {
  "kernelspec": {
   "display_name": "Python 3.8.12 64-bit ('rex-ai')",
   "language": "python",
   "name": "python3"
  },
  "language_info": {
   "codemirror_mode": {
    "name": "ipython",
    "version": 3
   },
   "file_extension": ".py",
   "mimetype": "text/x-python",
   "name": "python",
   "nbconvert_exporter": "python",
   "pygments_lexer": "ipython3",
   "version": "3.8.12"
  },
  "orig_nbformat": 4,
  "vscode": {
   "interpreter": {
    "hash": "c4ee8943f1e8738b78c7804c675ac8d50c650b92fef584ddc97e22247c1febaf"
   }
  }
 },
 "nbformat": 4,
 "nbformat_minor": 2
}
