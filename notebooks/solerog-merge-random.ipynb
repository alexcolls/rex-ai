{
 "cells": [
  {
   "cell_type": "markdown",
   "metadata": {},
   "source": [
    "# Script for merging and randomizing data"
   ]
  },
  {
   "cell_type": "code",
   "execution_count": 1,
   "metadata": {},
   "outputs": [],
   "source": [
    "import os\n",
    "import pandas as pd"
   ]
  },
  {
   "cell_type": "code",
   "execution_count": 23,
   "metadata": {},
   "outputs": [
    {
     "data": {
      "text/plain": [
       "['2005',\n",
       " '2006',\n",
       " '2007',\n",
       " '2008',\n",
       " '2009',\n",
       " '2010',\n",
       " '2011',\n",
       " '2012',\n",
       " '2013',\n",
       " '2014',\n",
       " '2015',\n",
       " '2016',\n",
       " '2017',\n",
       " '2018',\n",
       " '2019',\n",
       " '2020',\n",
       " '2021',\n",
       " '2022',\n",
       " 'schema.drawio']"
      ]
     },
     "execution_count": 23,
     "metadata": {},
     "output_type": "execute_result"
    }
   ],
   "source": [
    "DATA_PATH = os.path.join(os.path.abspath('../'), 'model', 'db', 'data')\n",
    "PRIMARY_PATH = os.path.join(DATA_PATH, 'primary')\n",
    "SECONDARY_PATH = os.path.join(DATA_PATH, 'secondary')"
   ]
  },
  {
   "cell_type": "code",
   "execution_count": 27,
   "metadata": {},
   "outputs": [
    {
     "name": "stdout",
     "output_type": "stream",
     "text": [
      "2005 1\n",
      "2005 2\n",
      "2005 3\n",
      "2005 4\n",
      "2005 5\n",
      "2005 6\n",
      "2005 7\n",
      "2005 8\n",
      "2005 9\n",
      "2005 10\n",
      "2005 11\n",
      "2005 12\n",
      "2005 13\n",
      "2005 14\n",
      "2005 15\n",
      "2005 16\n",
      "2005 17\n",
      "2005 18\n",
      "2005 19\n",
      "2005 20\n",
      "2005 21\n",
      "2005 22\n",
      "2005 23\n",
      "2005 24\n",
      "2005 25\n",
      "2005 26\n",
      "2005 27\n",
      "2005 28\n",
      "2005 29\n",
      "2005 30\n",
      "2005 31\n",
      "2005 32\n",
      "2005 33\n",
      "2005 34\n",
      "2005 35\n",
      "2005 36\n",
      "2005 37\n",
      "2005 38\n",
      "2005 39\n",
      "2005 40\n",
      "2005 41\n",
      "2005 42\n",
      "2005 43\n",
      "2005 44\n",
      "2005 45\n",
      "2005 46\n",
      "2005 47\n",
      "2005 48\n",
      "2005 49\n",
      "2005 50\n",
      "2005 51\n"
     ]
    }
   ],
   "source": [
    "merge = {}\n",
    "\n",
    "for year_folder in sorted(os.listdir(PRIMARY_PATH)):\n",
    "    if '.' in year_folder:\n",
    "        continue\n",
    "    YEAR_PATH = os.path.join(PRIMARY_PATH, year_folder)\n",
    "    for week_folder in sorted([int(w) for w in os.listdir(YEAR_PATH)]):\n",
    "        WEEK_PATH = os.path.join(YEAR_PATH, str(week_folder))\n",
    "        for file in \n",
    "    break\n",
    "    "
   ]
  },
  {
   "cell_type": "code",
   "execution_count": null,
   "metadata": {},
   "outputs": [],
   "source": []
  }
 ],
 "metadata": {
  "kernelspec": {
   "display_name": "Python 3.8.12 64-bit ('rex-ai')",
   "language": "python",
   "name": "python3"
  },
  "language_info": {
   "codemirror_mode": {
    "name": "ipython",
    "version": 3
   },
   "file_extension": ".py",
   "mimetype": "text/x-python",
   "name": "python",
   "nbconvert_exporter": "python",
   "pygments_lexer": "ipython3",
   "version": "3.8.12"
  },
  "orig_nbformat": 4,
  "vscode": {
   "interpreter": {
    "hash": "c4ee8943f1e8738b78c7804c675ac8d50c650b92fef584ddc97e22247c1febaf"
   }
  }
 },
 "nbformat": 4,
 "nbformat_minor": 2
}
