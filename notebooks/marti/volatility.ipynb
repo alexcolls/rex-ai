{
 "cells": [
  {
   "cell_type": "code",
   "execution_count": 1,
   "metadata": {},
   "outputs": [],
   "source": [
    "%reload_ext autoreload\n",
    "%autoreload 2\n",
    "import pandas as pd\n",
    "import matplotlib.pyplot as plt\n",
    "import numpy as np\n",
    "import scipy.signal as sig"
   ]
  },
  {
   "cell_type": "code",
   "execution_count": 33,
   "metadata": {},
   "outputs": [],
   "source": [
    "df = pd.read_csv(\"../../db/data/merge/tertiary/idxs_.csv\",index_col=0)\n",
    "df_logs = pd.read_csv(\"../../db/data/merge/tertiary/logs_.csv\",index_col=0)"
   ]
  },
  {
   "cell_type": "markdown",
   "metadata": {},
   "source": [
    "## *Bollinger Bands Function* \n",
    "#### (we are not going to use this function, just to \"show off\")"
   ]
  },
  {
   "cell_type": "code",
   "execution_count": 34,
   "metadata": {},
   "outputs": [],
   "source": [
    "def get_bollinger_bands(df, rate=5, sigma_start=2, sigma_stop=2):\n",
    "    \n",
    "    sma = df.rolling(rate).mean()\n",
    "    bollinger_bands = {\"sma\":sma}\n",
    "    std = df.rolling(rate).std()\n",
    "    for sigma in range(sigma_start, sigma_stop+1):\n",
    "        up = sma + std * sigma\n",
    "        down = sma - std * sigma\n",
    "        bollinger_bands[f'up{sigma}'] = up\n",
    "        bollinger_bands[f'down{sigma}'] = down\n",
    "    bol = pd.DataFrame.from_dict(bollinger_bands)\n",
    "    bol.set_index(df.index, inplace=True)\n",
    "    return bol\n"
   ]
  },
  {
   "cell_type": "markdown",
   "metadata": {},
   "source": [
    "## *Bollinger reduced*"
   ]
  },
  {
   "cell_type": "code",
   "execution_count": 35,
   "metadata": {},
   "outputs": [],
   "source": [
    "def bollinger_small(df, rate=5, sigma_start=2, sigma_stop=2):\n",
    "    \n",
    "    data = pd.DataFrame([])\n",
    "    \n",
    "    for currency in df.columns:\n",
    "        data[f'{currency}_sma'] = df[currency].rolling(rate).mean()\n",
    "        data[f'{currency}_std']= df[currency].rolling(rate).std()\n",
    "        \n",
    "    data.index = df.index\n",
    "    \n",
    "    return data"
   ]
  },
  {
   "cell_type": "markdown",
   "metadata": {},
   "source": [
    "## *Volatility Function*"
   ]
  },
  {
   "cell_type": "code",
   "execution_count": 43,
   "metadata": {},
   "outputs": [],
   "source": [
    "def volatility(df,rate=240,window=506):\n",
    "    \n",
    "    data = pd.DataFrame([])\n",
    "    for currency in df.columns:\n",
    "        data[f\"{currency}_vol1\"] = df[currency].rolling(rate).std()/(window**0.5)\n",
    "        data[f\"{currency}_vol2\"] = df[currency].rolling(rate).std()*(window**0.5)\n",
    "    data.index = df.index\n",
    "    \n",
    "    return data"
   ]
  },
  {
   "cell_type": "markdown",
   "metadata": {},
   "source": [
    "## *ATR Function*"
   ]
  },
  {
   "cell_type": "code",
   "execution_count": 3,
   "metadata": {},
   "outputs": [],
   "source": [
    "def ema(df: pd.Series, window: int):\n",
    "    return df.ewm(alpha=1/window, adjust=False).mean()\n",
    "def atr(close: pd.DataFrame, low: pd.DataFrame, high: pd.DataFrame, window:int=14):\n",
    "    data = pd.DataFrame([])\n",
    "    ccy_pairs = close.columns\n",
    "    for pair in ccy_pairs:\n",
    "        data[f'close_{pair}'] = close[pair]\n",
    "        data[f'high_{pair}'] = high[pair]\n",
    "        data[f'low_{pair}'] = low[pair]\n",
    "        data[f'tr0_{pair}'] = data[f'high_{pair}'] - data[f'low_{pair}']\n",
    "        data[f'tr1_{pair}'] = np.abs(data[f'high_{pair}'] - data[f'close_{pair}'].shift())\n",
    "        data[f'tr2_{pair}'] = np.abs(data[f'low_{pair}'] - data[f'close_{pair}'].shift())\n",
    "        data[f'tr_{pair}'] = data[[f'tr0_{pair}', f'tr1_{pair}', f'tr2_{pair}']].max(axis=1)\n",
    "        data[f'atr_{pair}'] = ema(data[f'tr_{pair}'], window)\n",
    "    data.dropna(inplace=True)\n",
    "    return data"
   ]
  },
  {
   "cell_type": "markdown",
   "metadata": {},
   "source": []
  },
  {
   "cell_type": "markdown",
   "metadata": {},
   "source": [
    "## *Sharpe Ratio*"
   ]
  },
  {
   "cell_type": "code",
   "execution_count": null,
   "metadata": {},
   "outputs": [],
   "source": [
    "# def sharpe():\n",
    "#     Sharpe_Ratio = portf_val[‘Daily Return’].mean() / portf_val[‘Daily Return’].std()"
   ]
  }
 ],
 "metadata": {
  "kernelspec": {
   "display_name": "Python 3.8.12 ('shims': virtualenv)",
   "language": "python",
   "name": "python3"
  },
  "language_info": {
   "codemirror_mode": {
    "name": "ipython",
    "version": 3
   },
   "file_extension": ".py",
   "mimetype": "text/x-python",
   "name": "python",
   "nbconvert_exporter": "python",
   "pygments_lexer": "ipython3",
   "version": "3.8.12"
  },
  "orig_nbformat": 4,
  "vscode": {
   "interpreter": {
    "hash": "6a264831b545b516178deb4ff30d1e80d7ed3908103d9b5ac8736122a0d96d8f"
   }
  }
 },
 "nbformat": 4,
 "nbformat_minor": 2
}
