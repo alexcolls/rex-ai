{
 "cells": [
  {
   "cell_type": "code",
   "execution_count": 39,
   "metadata": {},
   "outputs": [],
   "source": [
    "%reload_ext autoreload\n",
    "%autoreload 2\n",
    "import pandas as pd\n",
    "import numpy as np\n",
    "import matplotlib.pyplot as plt\n",
    "import scipy.signal as sig"
   ]
  },
  {
   "cell_type": "code",
   "execution_count": 40,
   "metadata": {},
   "outputs": [],
   "source": [
    "df = pd.read_csv(\"../../db/data/merge/tertiary/idxs_.csv\",index_col=0)\n",
    "df_logs = pd.read_csv(\"../../db/data/merge/tertiary/logs_.csv\",index_col=0)"
   ]
  },
  {
   "cell_type": "markdown",
   "metadata": {},
   "source": [
    "## *Exponential Moving Average*"
   ]
  },
  {
   "cell_type": "code",
   "execution_count": 25,
   "metadata": {},
   "outputs": [],
   "source": [
    "def ema(df, window=14):\n",
    "    \"\"\"\n",
    "    Exponential movint average\n",
    "    \"\"\"\n",
    "    data = pd.DataFrame([])\n",
    "    \n",
    "    for currency in df.columns:\n",
    "        data[f'{currency}_ema'] = df[currency].ewm(alpha=1/window, adjust=False).mean()\n",
    "        \n",
    "    data.index = df.index\n",
    "    \n",
    "    return data"
   ]
  },
  {
   "cell_type": "markdown",
   "metadata": {},
   "source": [
    "## *Highpass Filter*"
   ]
  },
  {
   "cell_type": "code",
   "execution_count": 104,
   "metadata": {},
   "outputs": [],
   "source": [
    "def highpass_filter(df, order=5, cutoff=0.2):\n",
    "    \"\"\"Highpass filter \"\"\"\n",
    "    \n",
    "    data = pd.DataFrame([])\n",
    "    \n",
    "    b, a = sig.butter(N=order, Wn=cutoff, btype='highpass', analog=False)\n",
    "    \n",
    "    for currency in df.columns:\n",
    "        data[f'{currency}_high'] = sig.lfilter(b, a, df[currency])\n",
    "    \n",
    "    data.index = df.index\n",
    "    \n",
    "    return data"
   ]
  },
  {
   "cell_type": "markdown",
   "metadata": {},
   "source": [
    "## *Lowpass Filter*"
   ]
  },
  {
   "cell_type": "code",
   "execution_count": 106,
   "metadata": {},
   "outputs": [],
   "source": [
    "def lowpass_filter(df, order=8, cutoff=0.2):\n",
    "    \"\"\"Lowpass filter \"\"\"\n",
    "    data = pd.DataFrame([])\n",
    "    \n",
    "    # filter\n",
    "    b, a = sig.butter(N=order, Wn=cutoff, btype='lowpass', analog=False)\n",
    "    \n",
    "    for currency in df.columns:\n",
    "        data[f'{currency}_low'] = sig.lfilter(b, a, df[currency])\n",
    "    \n",
    "    data.index = df.index\n",
    "    \n",
    "    return data\n"
   ]
  },
  {
   "cell_type": "markdown",
   "metadata": {},
   "source": [
    "## *Relative Strenght Index*"
   ]
  },
  {
   "cell_type": "code",
   "execution_count": 84,
   "metadata": {},
   "outputs": [],
   "source": [
    "def rsi(df, periods = 240):\n",
    "    \"\"\"Returns a series with the rsi \"\"\"\n",
    "    data = pd.DataFrame([])\n",
    "    for currency in df.columns:\n",
    "        delta = df[currency].diff()\n",
    "        up = delta.clip(lower=0)\n",
    "        down = -1*delta.clip(upper=0)\n",
    "        \n",
    "        ema_up = up.ewm(com = periods - 1, adjust=True, min_periods = periods).mean()\n",
    "        ema_down = down.ewm(com = periods - 1, adjust=True, min_periods = periods).mean()\n",
    "        \n",
    "        rs = ema_up / ema_down\n",
    "        rsi = 100 - (100/(1 + rs))\n",
    "        \n",
    "        data[f'{currency}_rsi'] = rsi\n",
    "        \n",
    "    return data"
   ]
  }
 ],
 "metadata": {
  "kernelspec": {
   "display_name": "Python 3.8.12 ('shims': virtualenv)",
   "language": "python",
   "name": "python3"
  },
  "language_info": {
   "codemirror_mode": {
    "name": "ipython",
    "version": 3
   },
   "file_extension": ".py",
   "mimetype": "text/x-python",
   "name": "python",
   "nbconvert_exporter": "python",
   "pygments_lexer": "ipython3",
   "version": "3.8.12"
  },
  "orig_nbformat": 4,
  "vscode": {
   "interpreter": {
    "hash": "6a264831b545b516178deb4ff30d1e80d7ed3908103d9b5ac8736122a0d96d8f"
   }
  }
 },
 "nbformat": 4,
 "nbformat_minor": 2
}
