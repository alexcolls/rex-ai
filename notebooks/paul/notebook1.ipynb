{
 "cells": [
  {
   "cell_type": "code",
   "execution_count": 4,
   "metadata": {},
   "outputs": [],
   "source": [
    "import os\n",
    "import pandas as pd"
   ]
  },
  {
   "cell_type": "code",
   "execution_count": 1,
   "metadata": {},
   "outputs": [
    {
     "data": {
      "text/plain": [
       "'/Users/pawel/code/bogumilo/rex-ai/db/data/merge'"
      ]
     },
     "execution_count": 1,
     "metadata": {},
     "output_type": "execute_result"
    }
   ],
   "source": [
    "DATA_PATH = os.path.join(os.path.abspath('../../'),'db/data/')\n",
    "PRIMARY_PATH = os.path.join(DATA_PATH, 'primary')\n",
    "SECONDARY_PATH = os.path.join(DATA_PATH, 'secondary')\n",
    "TERTIARY_PATH = os.path.join(DATA_PATH, 'tertiary')\n",
    "\n",
    "wpath = os.path.join(DATA_PATH, 'merge')\n",
    "wpath"
   ]
  },
  {
   "cell_type": "code",
   "execution_count": 6,
   "metadata": {},
   "outputs": [],
   "source": [
    "# Merge function\n",
    "def merge_data(path,\n",
    "               wpath=wpath,\n",
    "               summary=False,\n",
    "               to_csv=True):\n",
    "    merge = {}\n",
    "    \n",
    "    for year_folder in sorted(os.listdir(path)):\n",
    "        if '.' in year_folder:\n",
    "            continue\n",
    "        YEAR_PATH = os.path.join(path, year_folder)\n",
    "        \n",
    "        merge = {}\n",
    "        for file in os.listdir(YEAR_PATH):\n",
    "            filename = file.split('.')[0]\n",
    "            inputpath = os.path.join(YEAR_PATH, file)\n",
    "            \n",
    "            data = pd.read_csv(inputpath, index_col=0)\n",
    "            merge[filename] = pd.concat([merge.get(filename, pd.DataFrame()), data])\n",
    "            print(f'Processing {year_folder}: ', flush=True, end='\\r')\n",
    "            \n",
    "           \n",
    "    if summary:\n",
    "        print('Merge results', flush=True)\n",
    "        for k in merge:\n",
    "            if to_csv:\n",
    "                directory = os.path.join(wpath, os.path.basename(path))\n",
    "                if not os.path.exists(directory):\n",
    "                    os.makedirs(directory)\n",
    "                merge[k].to_csv(os.path.join(directory, f'{k}.csv'))\n",
    "            print(f\"{k} shape {merge[k].shape}\")                \n",
    "    \n",
    "    if to_csv:\n",
    "        return None\n",
    "    \n",
    "    return merge"
   ]
  },
  {
   "cell_type": "code",
   "execution_count": 7,
   "metadata": {},
   "outputs": [
    {
     "name": "stdout",
     "output_type": "stream",
     "text": [
      "Merge results22: \n",
      "lows shape (6340, 28)\n",
      "closes shape (6340, 28)\n",
      "highs shape (6340, 28)\n",
      "volumes shape (6340, 28)\n",
      "opens shape (6340, 28)\n",
      "Merge results22: \n",
      "logs_ shape (6340, 28)\n",
      "vols_ shape (6340, 28)\n",
      "rets_ shape (6340, 28)\n",
      "higs_ shape (6340, 28)\n",
      "lows_ shape (6340, 28)\n",
      "Merge results22: \n",
      "idxs_ shape (6340, 8)\n",
      "logs_ shape (6340, 8)\n",
      "vols_ shape (6340, 8)\n",
      "rets_ shape (6340, 8)\n",
      "higs_ shape (6340, 8)\n",
      "lows_ shape (6340, 8)\n"
     ]
    }
   ],
   "source": [
    "clean_primary = merge_data(PRIMARY_PATH, summary=True)\n",
    "clean_secondary = merge_data(SECONDARY_PATH, summary=True)\n",
    "clean_tertiary = merge_data(TERTIARY_PATH, summary=True)"
   ]
  },
  {
   "cell_type": "code",
   "execution_count": 8,
   "metadata": {},
   "outputs": [
    {
     "data": {
      "text/plain": [
       "NoneType"
      ]
     },
     "execution_count": 8,
     "metadata": {},
     "output_type": "execute_result"
    }
   ],
   "source": [
    "type(clean_tertiary)"
   ]
  },
  {
   "cell_type": "code",
   "execution_count": null,
   "metadata": {},
   "outputs": [],
   "source": []
  }
 ],
 "metadata": {
  "kernelspec": {
   "display_name": "Python 3.8.12 64-bit ('rex-env')",
   "language": "python",
   "name": "python3"
  },
  "language_info": {
   "codemirror_mode": {
    "name": "ipython",
    "version": 3
   },
   "file_extension": ".py",
   "mimetype": "text/x-python",
   "name": "python",
   "nbconvert_exporter": "python",
   "pygments_lexer": "ipython3",
   "version": "3.8.12"
  },
  "orig_nbformat": 4,
  "vscode": {
   "interpreter": {
    "hash": "54e42423db0fb8ea268e34fb706f91ff8ae1327ccc879a5a37f3b129500dd3b6"
   }
  }
 },
 "nbformat": 4,
 "nbformat_minor": 2
}
