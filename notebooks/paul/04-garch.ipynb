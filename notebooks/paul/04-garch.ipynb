{
 "cells": [
  {
   "cell_type": "code",
   "execution_count": 2,
   "metadata": {},
   "outputs": [],
   "source": [
    "import os\n",
    "import numpy as np\n",
    "import pandas as pd\n",
    "import matplotlib.pyplot as plt\n",
    "from datetime import datetime, date\n",
    "\n",
    "from scipy.signal import butter,lfilter\n",
    "\n",
    "from statsmodels.graphics.tsaplots import plot_predict\n",
    "\n",
    "from statsmodels.tsa.arima.model import ARIMA\n",
    "import arch"
   ]
  },
  {
   "cell_type": "code",
   "execution_count": 3,
   "metadata": {},
   "outputs": [],
   "source": [
    "DATA_PATH = os.path.join(os.path.abspath('../../'), 'db', 'data')\n",
    "TERTIARY_PATH = os.path.join(DATA_PATH, 'tertiary')\n",
    "wpath = os.path.join(DATA_PATH, 'merge')"
   ]
  },
  {
   "cell_type": "code",
   "execution_count": 6,
   "metadata": {},
   "outputs": [
    {
     "data": {
      "text/plain": [
       "Timestamp('2022-08-01 00:00:00+0000', tz='UTC')"
      ]
     },
     "execution_count": 6,
     "metadata": {},
     "output_type": "execute_result"
    }
   ],
   "source": [
    "# Curency indexes dataframe\n",
    "raw = pd.read_csv(os.path.join(wpath, os.path.basename(TERTIARY_PATH), 'logs_.csv'), parse_dates=['Unnamed: 0'], index_col='Unnamed: 0')\n",
    "raw.index = pd.to_datetime(raw.index)\n",
    "\n",
    "today = datetime.now()\n",
    "hour = datetime( today.year, today.month, today.day, today.hour)\n",
    "# today = date.today()\n",
    "today\n",
    "max=datetime(2022, 8, 1)\n",
    "max = result = pd.Timestamp(max,tz='UTC')\n",
    "max"
   ]
  },
  {
   "cell_type": "code",
   "execution_count": 7,
   "metadata": {},
   "outputs": [],
   "source": [
    "df = raw[raw.index < max]"
   ]
  },
  {
   "cell_type": "code",
   "execution_count": 8,
   "metadata": {},
   "outputs": [],
   "source": [
    "# Filter requirements.\n",
    "T = df.shape[0]         # Sample Period\n",
    "fs = 30.0       # sample rate, Hz\n",
    "cutoff = 2      # desired cutoff frequency of the filter, Hz ,      slightly higher than actual 1.2 Hz\n",
    "nyq = 0.5 * fs  # Nyquist Frequency\n",
    "order = 2       # sin wave can be approx represented as quadratic\n",
    "n = int(T * fs) # total number of samples\n",
    "\n",
    "def butter_lowpass_filter(data, cutoff, fs, order):\n",
    "    normal_cutoff = cutoff / nyq\n",
    "    # Get the filter coefficients \n",
    "    b, a = butter(order, normal_cutoff, btype='low', analog=False)\n",
    "    y = lfilter(b, a, data)\n",
    "    return y"
   ]
  },
  {
   "cell_type": "code",
   "execution_count": 13,
   "metadata": {},
   "outputs": [
    {
     "name": "stdout",
     "output_type": "stream",
     "text": [
      "3840\n",
      "(115221, 8)\n",
      "<class 'pandas.core.indexes.datetimes.DatetimeIndex'>\n",
      "2022-07-31 23:00:00+00:00\n",
      "\n",
      "(111381, 8)\n",
      "\n",
      "DatetimeIndex(['2005-01-02 19:00:00+00:00', '2005-01-02 20:00:00+00:00',\n",
      "               '2005-01-02 21:00:00+00:00', '2005-01-02 22:00:00+00:00',\n",
      "               '2005-01-02 23:00:00+00:00', '2005-01-03 00:00:00+00:00',\n",
      "               '2005-01-03 01:00:00+00:00', '2005-01-03 02:00:00+00:00',\n",
      "               '2005-01-03 03:00:00+00:00', '2005-01-03 04:00:00+00:00',\n",
      "               ...\n",
      "               '2021-12-23 10:00:00+00:00', '2021-12-23 11:00:00+00:00',\n",
      "               '2021-12-23 12:00:00+00:00', '2021-12-23 13:00:00+00:00',\n",
      "               '2021-12-23 14:00:00+00:00', '2021-12-23 15:00:00+00:00',\n",
      "               '2021-12-23 16:00:00+00:00', '2021-12-23 17:00:00+00:00',\n",
      "               '2021-12-23 18:00:00+00:00', '2021-12-23 19:00:00+00:00'],\n",
      "              dtype='datetime64[ns, UTC]', length=111381, freq=None)\n",
      "\n",
      "(3840, 8)\n",
      "\n",
      "DatetimeIndex(['2021-12-23 20:00:00+00:00', '2021-12-23 21:00:00+00:00',\n",
      "               '2021-12-23 22:00:00+00:00', '2021-12-23 23:00:00+00:00',\n",
      "               '2021-12-24 00:00:00+00:00', '2021-12-24 01:00:00+00:00',\n",
      "               '2021-12-24 02:00:00+00:00', '2021-12-24 03:00:00+00:00',\n",
      "               '2021-12-24 04:00:00+00:00', '2021-12-24 05:00:00+00:00',\n",
      "               ...\n",
      "               '2022-07-29 17:00:00+00:00', '2022-07-29 18:00:00+00:00',\n",
      "               '2022-07-29 19:00:00+00:00', '2022-07-29 20:00:00+00:00',\n",
      "               '2022-07-29 21:00:00+00:00', '2022-07-29 22:00:00+00:00',\n",
      "               '2022-07-29 23:00:00+00:00', '2022-07-31 21:00:00+00:00',\n",
      "               '2022-07-31 22:00:00+00:00', '2022-07-31 23:00:00+00:00'],\n",
      "              dtype='datetime64[ns, UTC]', length=3840, freq=None)\n"
     ]
    }
   ],
   "source": [
    "df = pd.DataFrame(butter_lowpass_filter(df, cutoff, fs, order), index=df.index, columns=df.columns)\n",
    "split = int(len(df.index)/30)       \n",
    "print(split)\n",
    "train = df[:-split]\n",
    "test = df[-split:]\n",
    "# train.index = pd.to_datetime(train.index).to_period('H').to_timestamp().values\n",
    "# test.index = pd.to_datetime(test.index).to_period('H').to_timestamp().values\n",
    "print(f'\\n\\n{df.shape}\\n{type(df.index)}\\n{df.index[-1]}\\n\\n{train.shape}\\n{train.index}\\n\\n{test.shape}\\n{test.index}')"
   ]
  },
  {
   "cell_type": "markdown",
   "metadata": {},
   "source": [
    "## a)  Find p & q for each currency fro the last 10000 values of the trainset\n",
    "\n",
    "{'AUD': (1, 0, 0), 'CAD': (2, 0, 1), 'CHF': (2, 0, 1), 'EUR': (2, 0, 1), 'GBP': (2, 0, 1), 'JPY': (2, 0, 1), 'NZD': (2, 0, 1), 'USD': (2, 0, 1)}"
   ]
  },
  {
   "cell_type": "code",
   "execution_count": 15,
   "metadata": {},
   "outputs": [
    {
     "name": "stderr",
     "output_type": "stream",
     "text": [
      "/Users/pawel/.pyenv/versions/3.8.12/envs/rex-env/lib/python3.8/site-packages/statsmodels/base/model.py:604: ConvergenceWarning: Maximum Likelihood optimization failed to converge. Check mle_retvals\n",
      "  warnings.warn(\"Maximum Likelihood optimization failed to \"\n",
      "/Users/pawel/.pyenv/versions/3.8.12/envs/rex-env/lib/python3.8/site-packages/statsmodels/tsa/statespace/sarimax.py:966: UserWarning: Non-stationary starting autoregressive parameters found. Using zeros as starting parameters.\n",
      "  warn('Non-stationary starting autoregressive parameters'\n",
      "/Users/pawel/.pyenv/versions/3.8.12/envs/rex-env/lib/python3.8/site-packages/statsmodels/tsa/statespace/sarimax.py:978: UserWarning: Non-invertible starting MA parameters found. Using zeros as starting parameters.\n",
      "  warn('Non-invertible starting MA parameters found.'\n",
      "/Users/pawel/.pyenv/versions/3.8.12/envs/rex-env/lib/python3.8/site-packages/statsmodels/base/model.py:604: ConvergenceWarning: Maximum Likelihood optimization failed to converge. Check mle_retvals\n",
      "  warnings.warn(\"Maximum Likelihood optimization failed to \"\n",
      "/Users/pawel/.pyenv/versions/3.8.12/envs/rex-env/lib/python3.8/site-packages/statsmodels/tsa/statespace/sarimax.py:966: UserWarning: Non-stationary starting autoregressive parameters found. Using zeros as starting parameters.\n",
      "  warn('Non-stationary starting autoregressive parameters'\n",
      "/Users/pawel/.pyenv/versions/3.8.12/envs/rex-env/lib/python3.8/site-packages/statsmodels/tsa/statespace/sarimax.py:978: UserWarning: Non-invertible starting MA parameters found. Using zeros as starting parameters.\n",
      "  warn('Non-invertible starting MA parameters found.'\n",
      "/Users/pawel/.pyenv/versions/3.8.12/envs/rex-env/lib/python3.8/site-packages/statsmodels/base/model.py:604: ConvergenceWarning: Maximum Likelihood optimization failed to converge. Check mle_retvals\n",
      "  warnings.warn(\"Maximum Likelihood optimization failed to \"\n",
      "/Users/pawel/.pyenv/versions/3.8.12/envs/rex-env/lib/python3.8/site-packages/statsmodels/tsa/statespace/sarimax.py:966: UserWarning: Non-stationary starting autoregressive parameters found. Using zeros as starting parameters.\n",
      "  warn('Non-stationary starting autoregressive parameters'\n",
      "/Users/pawel/.pyenv/versions/3.8.12/envs/rex-env/lib/python3.8/site-packages/statsmodels/tsa/statespace/sarimax.py:978: UserWarning: Non-invertible starting MA parameters found. Using zeros as starting parameters.\n",
      "  warn('Non-invertible starting MA parameters found.'\n",
      "/Users/pawel/.pyenv/versions/3.8.12/envs/rex-env/lib/python3.8/site-packages/statsmodels/base/model.py:604: ConvergenceWarning: Maximum Likelihood optimization failed to converge. Check mle_retvals\n",
      "  warnings.warn(\"Maximum Likelihood optimization failed to \"\n",
      "/Users/pawel/.pyenv/versions/3.8.12/envs/rex-env/lib/python3.8/site-packages/statsmodels/tsa/statespace/sarimax.py:966: UserWarning: Non-stationary starting autoregressive parameters found. Using zeros as starting parameters.\n",
      "  warn('Non-stationary starting autoregressive parameters'\n",
      "/Users/pawel/.pyenv/versions/3.8.12/envs/rex-env/lib/python3.8/site-packages/statsmodels/tsa/statespace/sarimax.py:978: UserWarning: Non-invertible starting MA parameters found. Using zeros as starting parameters.\n",
      "  warn('Non-invertible starting MA parameters found.'\n",
      "/Users/pawel/.pyenv/versions/3.8.12/envs/rex-env/lib/python3.8/site-packages/statsmodels/base/model.py:604: ConvergenceWarning: Maximum Likelihood optimization failed to converge. Check mle_retvals\n",
      "  warnings.warn(\"Maximum Likelihood optimization failed to \"\n",
      "/Users/pawel/.pyenv/versions/3.8.12/envs/rex-env/lib/python3.8/site-packages/statsmodels/tsa/statespace/sarimax.py:966: UserWarning: Non-stationary starting autoregressive parameters found. Using zeros as starting parameters.\n",
      "  warn('Non-stationary starting autoregressive parameters'\n",
      "/Users/pawel/.pyenv/versions/3.8.12/envs/rex-env/lib/python3.8/site-packages/statsmodels/tsa/statespace/sarimax.py:978: UserWarning: Non-invertible starting MA parameters found. Using zeros as starting parameters.\n",
      "  warn('Non-invertible starting MA parameters found.'\n",
      "/Users/pawel/.pyenv/versions/3.8.12/envs/rex-env/lib/python3.8/site-packages/statsmodels/base/model.py:604: ConvergenceWarning: Maximum Likelihood optimization failed to converge. Check mle_retvals\n",
      "  warnings.warn(\"Maximum Likelihood optimization failed to \"\n",
      "/Users/pawel/.pyenv/versions/3.8.12/envs/rex-env/lib/python3.8/site-packages/statsmodels/tsa/statespace/sarimax.py:966: UserWarning: Non-stationary starting autoregressive parameters found. Using zeros as starting parameters.\n",
      "  warn('Non-stationary starting autoregressive parameters'\n",
      "/Users/pawel/.pyenv/versions/3.8.12/envs/rex-env/lib/python3.8/site-packages/statsmodels/tsa/statespace/sarimax.py:978: UserWarning: Non-invertible starting MA parameters found. Using zeros as starting parameters.\n",
      "  warn('Non-invertible starting MA parameters found.'\n",
      "/Users/pawel/.pyenv/versions/3.8.12/envs/rex-env/lib/python3.8/site-packages/statsmodels/base/model.py:604: ConvergenceWarning: Maximum Likelihood optimization failed to converge. Check mle_retvals\n",
      "  warnings.warn(\"Maximum Likelihood optimization failed to \"\n",
      "/Users/pawel/.pyenv/versions/3.8.12/envs/rex-env/lib/python3.8/site-packages/statsmodels/base/model.py:604: ConvergenceWarning: Maximum Likelihood optimization failed to converge. Check mle_retvals\n",
      "  warnings.warn(\"Maximum Likelihood optimization failed to \"\n"
     ]
    },
    {
     "name": "stdout",
     "output_type": "stream",
     "text": [
      "{'AUD': (1, 0, 0), 'CAD': (2, 0, 1), 'CHF': (2, 0, 1), 'EUR': (2, 0, 1), 'GBP': (2, 0, 1), 'JPY': (2, 0, 1), 'NZD': (2, 0, 1), 'USD': (2, 0, 1)}\n"
     ]
    }
   ],
   "source": [
    "import warnings\n",
    "from statsmodels.tsa.stattools import arma_order_select_ic\n",
    "\n",
    "# parameters = {'AUD': [1,2],\n",
    "#           'EUR': [1,2]...}\n",
    "train_for_params = train[:-10000]\n",
    "\n",
    "params = {}\n",
    "with warnings.catch_warnings():\n",
    "    warnings.simplefilter('once', category=Warning)\n",
    "    for c in list(train_for_params.columns):\n",
    "        res = arma_order_select_ic(train[c].values, max_ar=4, max_ma=2, ic='aic')\n",
    "        # print(f'{c} mle retvals: {res.mle_retvals}')\n",
    "        params[c] = (res.aic_min_order[0], 0, res.aic_min_order[1])\n",
    "print(params)"
   ]
  },
  {
   "cell_type": "code",
   "execution_count": 16,
   "metadata": {},
   "outputs": [
    {
     "name": "stdout",
     "output_type": "stream",
     "text": [
      "Iteration:      1,   Func. Count:      4,   Neg. LLF: nan\n",
      "Inequality constraints incompatible    (Exit mode 4)\n",
      "            Current function value: nan\n",
      "            Iterations: 1\n",
      "            Function evaluations: 4\n",
      "            Gradient evaluations: 1\n",
      "\u001b[31m\n",
      " \n",
      " Predicted volatility for AUD currency is: [-8.50405322e-06]\u001b[0m\n"
     ]
    },
    {
     "name": "stderr",
     "output_type": "stream",
     "text": [
      "/Users/pawel/.pyenv/versions/3.8.12/envs/rex-env/lib/python3.8/site-packages/arch/univariate/base.py:753: ConvergenceWarning: The optimizer returned code 4. The message is:\n",
      "Inequality constraints incompatible\n",
      "See scipy.optimize.fmin_slsqp for code meaning.\n",
      "\n",
      "  warnings.warn(\n"
     ]
    },
    {
     "name": "stdout",
     "output_type": "stream",
     "text": [
      "Iteration:      1,   Func. Count:      4,   Neg. LLF: nan\n",
      "Inequality constraints incompatible    (Exit mode 4)\n",
      "            Current function value: nan\n",
      "            Iterations: 1\n",
      "            Function evaluations: 4\n",
      "            Gradient evaluations: 1\n",
      "\u001b[31m\n",
      " \n",
      " Predicted volatility for CAD currency is: [2.99580845e-06]\u001b[0m\n"
     ]
    },
    {
     "name": "stderr",
     "output_type": "stream",
     "text": [
      "/Users/pawel/.pyenv/versions/3.8.12/envs/rex-env/lib/python3.8/site-packages/arch/univariate/base.py:753: ConvergenceWarning: The optimizer returned code 4. The message is:\n",
      "Inequality constraints incompatible\n",
      "See scipy.optimize.fmin_slsqp for code meaning.\n",
      "\n",
      "  warnings.warn(\n"
     ]
    },
    {
     "name": "stdout",
     "output_type": "stream",
     "text": [
      "Iteration:      1,   Func. Count:      4,   Neg. LLF: nan\n",
      "Inequality constraints incompatible    (Exit mode 4)\n",
      "            Current function value: nan\n",
      "            Iterations: 1\n",
      "            Function evaluations: 4\n",
      "            Gradient evaluations: 1\n",
      "\u001b[31m\n",
      " \n",
      " Predicted volatility for CHF currency is: [1.22591979e-05]\u001b[0m\n"
     ]
    },
    {
     "name": "stderr",
     "output_type": "stream",
     "text": [
      "/Users/pawel/.pyenv/versions/3.8.12/envs/rex-env/lib/python3.8/site-packages/arch/univariate/base.py:753: ConvergenceWarning: The optimizer returned code 4. The message is:\n",
      "Inequality constraints incompatible\n",
      "See scipy.optimize.fmin_slsqp for code meaning.\n",
      "\n",
      "  warnings.warn(\n"
     ]
    },
    {
     "name": "stdout",
     "output_type": "stream",
     "text": [
      "Iteration:      1,   Func. Count:      4,   Neg. LLF: nan\n",
      "Inequality constraints incompatible    (Exit mode 4)\n",
      "            Current function value: nan\n",
      "            Iterations: 1\n",
      "            Function evaluations: 4\n",
      "            Gradient evaluations: 1\n",
      "\u001b[31m\n",
      " \n",
      " Predicted volatility for EUR currency is: [3.08521888e-05]\u001b[0m\n"
     ]
    },
    {
     "name": "stderr",
     "output_type": "stream",
     "text": [
      "/Users/pawel/.pyenv/versions/3.8.12/envs/rex-env/lib/python3.8/site-packages/arch/univariate/base.py:753: ConvergenceWarning: The optimizer returned code 4. The message is:\n",
      "Inequality constraints incompatible\n",
      "See scipy.optimize.fmin_slsqp for code meaning.\n",
      "\n",
      "  warnings.warn(\n"
     ]
    },
    {
     "name": "stdout",
     "output_type": "stream",
     "text": [
      "Iteration:      1,   Func. Count:      4,   Neg. LLF: nan\n",
      "Inequality constraints incompatible    (Exit mode 4)\n",
      "            Current function value: nan\n",
      "            Iterations: 1\n",
      "            Function evaluations: 4\n",
      "            Gradient evaluations: 1\n",
      "\u001b[31m\n",
      " \n",
      " Predicted volatility for GBP currency is: [5.64713156e-05]\u001b[0m\n"
     ]
    },
    {
     "name": "stderr",
     "output_type": "stream",
     "text": [
      "/Users/pawel/.pyenv/versions/3.8.12/envs/rex-env/lib/python3.8/site-packages/arch/univariate/base.py:753: ConvergenceWarning: The optimizer returned code 4. The message is:\n",
      "Inequality constraints incompatible\n",
      "See scipy.optimize.fmin_slsqp for code meaning.\n",
      "\n",
      "  warnings.warn(\n"
     ]
    },
    {
     "name": "stdout",
     "output_type": "stream",
     "text": [
      "Iteration:      1,   Func. Count:      4,   Neg. LLF: nan\n",
      "Inequality constraints incompatible    (Exit mode 4)\n",
      "            Current function value: nan\n",
      "            Iterations: 1\n",
      "            Function evaluations: 4\n",
      "            Gradient evaluations: 1\n",
      "\u001b[31m\n",
      " \n",
      " Predicted volatility for JPY currency is: [8.76412152e-05]\u001b[0m\n"
     ]
    },
    {
     "name": "stderr",
     "output_type": "stream",
     "text": [
      "/Users/pawel/.pyenv/versions/3.8.12/envs/rex-env/lib/python3.8/site-packages/arch/univariate/base.py:753: ConvergenceWarning: The optimizer returned code 4. The message is:\n",
      "Inequality constraints incompatible\n",
      "See scipy.optimize.fmin_slsqp for code meaning.\n",
      "\n",
      "  warnings.warn(\n"
     ]
    },
    {
     "name": "stdout",
     "output_type": "stream",
     "text": [
      "Iteration:      1,   Func. Count:      4,   Neg. LLF: nan\n",
      "Inequality constraints incompatible    (Exit mode 4)\n",
      "            Current function value: nan\n",
      "            Iterations: 1\n",
      "            Function evaluations: 4\n",
      "            Gradient evaluations: 1\n",
      "\u001b[31m\n",
      " \n",
      " Predicted volatility for NZD currency is: [0.00013252]\u001b[0m\n"
     ]
    },
    {
     "name": "stderr",
     "output_type": "stream",
     "text": [
      "/Users/pawel/.pyenv/versions/3.8.12/envs/rex-env/lib/python3.8/site-packages/arch/univariate/base.py:753: ConvergenceWarning: The optimizer returned code 4. The message is:\n",
      "Inequality constraints incompatible\n",
      "See scipy.optimize.fmin_slsqp for code meaning.\n",
      "\n",
      "  warnings.warn(\n"
     ]
    },
    {
     "name": "stdout",
     "output_type": "stream",
     "text": [
      "Iteration:      1,   Func. Count:      4,   Neg. LLF: nan\n",
      "Inequality constraints incompatible    (Exit mode 4)\n",
      "            Current function value: nan\n",
      "            Iterations: 1\n",
      "            Function evaluations: 4\n",
      "            Gradient evaluations: 1\n",
      "\u001b[31m\n",
      " \n",
      " Predicted volatility for USD currency is: [0.0002071]\u001b[0m\n"
     ]
    },
    {
     "name": "stderr",
     "output_type": "stream",
     "text": [
      "/Users/pawel/.pyenv/versions/3.8.12/envs/rex-env/lib/python3.8/site-packages/arch/univariate/base.py:753: ConvergenceWarning: The optimizer returned code 4. The message is:\n",
      "Inequality constraints incompatible\n",
      "See scipy.optimize.fmin_slsqp for code meaning.\n",
      "\n",
      "  warnings.warn(\n"
     ]
    }
   ],
   "source": [
    "from termcolor import colored\n",
    "\n",
    "arima_forc_dict = {'next_hour_index': []}\n",
    "\n",
    "with warnings.catch_warnings():\n",
    "    warnings.simplefilter('ignore', category=Warning)\n",
    "    vol_dict = {'next_hour_index': []}\n",
    "    for column in list(train_for_params.columns):\n",
    "\n",
    "        arima = ARIMA(train_for_params[column], order=params[column])\n",
    "        arima_fit = arima.fit()\n",
    "        forecast_results = arima_fit.get_forecast(1, alpha=0.05) # get_forecast( ) define the length of predictions\n",
    "        \n",
    "        arima_forc_dict['next_hour_index'] = list(forecast_results.predicted_mean.index) # hourly indexes we predict\n",
    "        arima_forc_dict[column] = list(forecast_results.predicted_mean) # forecast values\n",
    "        \n",
    "        # Use residuals in the Garch    \n",
    "        garch = arch.arch_model(arima_forc_dict[column], p=1, q=1)\n",
    "        garch_fitted = garch.fit()\n",
    "        # Use GARCH to predict the residual\n",
    "        garch_forecast = garch_fitted.forecast(horizon=1,reindex=False)\n",
    "        predicted_et = garch_forecast.mean['h.1'].iloc[-1]\n",
    "    \n",
    "        # Combine both models' output: yt = mu + et\n",
    "        volatility = arima_forc_dict[column] + predicted_et\n",
    "        # Put them into dict\n",
    "        vol_dict['next_hour_index'] = list(forecast_results.predicted_mean.index)\n",
    "        vol_dict[column] = volatility\n",
    "        print(colored(f'\\n \\n Predicted volatility for {column} currency is: {volatility}','red'))   \n",
    "    \n",
    "    vol_df = pd.DataFrame.from_dict(vol_dict).set_index('next_hour_index')"
   ]
  },
  {
   "cell_type": "code",
   "execution_count": 61,
   "metadata": {},
   "outputs": [
    {
     "data": {
      "text/html": [
       "<div>\n",
       "<style scoped>\n",
       "    .dataframe tbody tr th:only-of-type {\n",
       "        vertical-align: middle;\n",
       "    }\n",
       "\n",
       "    .dataframe tbody tr th {\n",
       "        vertical-align: top;\n",
       "    }\n",
       "\n",
       "    .dataframe thead th {\n",
       "        text-align: right;\n",
       "    }\n",
       "</style>\n",
       "<table border=\"1\" class=\"dataframe\">\n",
       "  <thead>\n",
       "    <tr style=\"text-align: right;\">\n",
       "      <th></th>\n",
       "      <th>AUD</th>\n",
       "      <th>CAD</th>\n",
       "      <th>CHF</th>\n",
       "      <th>EUR</th>\n",
       "      <th>GBP</th>\n",
       "      <th>JPY</th>\n",
       "      <th>NZD</th>\n",
       "      <th>USD</th>\n",
       "    </tr>\n",
       "    <tr>\n",
       "      <th>next_hour_index</th>\n",
       "      <th></th>\n",
       "      <th></th>\n",
       "      <th></th>\n",
       "      <th></th>\n",
       "      <th></th>\n",
       "      <th></th>\n",
       "      <th></th>\n",
       "      <th></th>\n",
       "    </tr>\n",
       "  </thead>\n",
       "  <tbody>\n",
       "    <tr>\n",
       "      <th>2021-12-23 20:00:00+00:00</th>\n",
       "      <td>-0.000008</td>\n",
       "      <td>0.000009</td>\n",
       "      <td>0.000036</td>\n",
       "      <td>0.00008</td>\n",
       "      <td>0.00011</td>\n",
       "      <td>0.000076</td>\n",
       "      <td>-0.000059</td>\n",
       "      <td>-0.0003</td>\n",
       "    </tr>\n",
       "  </tbody>\n",
       "</table>\n",
       "</div>"
      ],
      "text/plain": [
       "                                AUD       CAD       CHF      EUR      GBP  \\\n",
       "next_hour_index                                                             \n",
       "2021-12-23 20:00:00+00:00 -0.000008  0.000009  0.000036  0.00008  0.00011   \n",
       "\n",
       "                                JPY       NZD     USD  \n",
       "next_hour_index                                        \n",
       "2021-12-23 20:00:00+00:00  0.000076 -0.000059 -0.0003  "
      ]
     },
     "execution_count": 61,
     "metadata": {},
     "output_type": "execute_result"
    }
   ],
   "source": [
    "# perfomance = vol_predicted - vol_actual\n",
    "perf = pd.DataFrame(vol_df-test.iloc[0]).reset_index(drop=True)   #, columns=vol_df.columns).set_index=test.iloc[0]\n",
    "perf['next_hour_index'] = test.index[0]\n",
    "perf.set_index('next_hour_index')"
   ]
  },
  {
   "cell_type": "code",
   "execution_count": 57,
   "metadata": {},
   "outputs": [
    {
     "data": {
      "text/plain": [
       "Timestamp('2021-12-23 20:00:00+0000', tz='UTC')"
      ]
     },
     "execution_count": 57,
     "metadata": {},
     "output_type": "execute_result"
    }
   ],
   "source": [
    "test.index[0]"
   ]
  },
  {
   "cell_type": "code",
   "execution_count": 63,
   "metadata": {},
   "outputs": [
    {
     "name": "stdout",
     "output_type": "stream",
     "text": [
      "Iteration:      1,   Func. Count:      4,   Neg. LLF: nan\n",
      "Inequality constraints incompatible    (Exit mode 4)\n",
      "            Current function value: nan\n",
      "            Iterations: 1\n",
      "            Function evaluations: 4\n",
      "            Gradient evaluations: 1\n",
      "\u001b[31m\n",
      " \n",
      " Predicted volatility for AUD currency is: [-8.50405322e-06]\u001b[0m\n"
     ]
    },
    {
     "name": "stderr",
     "output_type": "stream",
     "text": [
      "/Users/pawel/.pyenv/versions/3.8.12/envs/rex-env/lib/python3.8/site-packages/arch/univariate/base.py:753: ConvergenceWarning: The optimizer returned code 4. The message is:\n",
      "Inequality constraints incompatible\n",
      "See scipy.optimize.fmin_slsqp for code meaning.\n",
      "\n",
      "  warnings.warn(\n"
     ]
    },
    {
     "name": "stdout",
     "output_type": "stream",
     "text": [
      "Iteration:      1,   Func. Count:      4,   Neg. LLF: nan\n",
      "Inequality constraints incompatible    (Exit mode 4)\n",
      "            Current function value: nan\n",
      "            Iterations: 1\n",
      "            Function evaluations: 4\n",
      "            Gradient evaluations: 1\n",
      "\u001b[31m\n",
      " \n",
      " Predicted volatility for CAD currency is: [2.99580845e-06]\u001b[0m\n"
     ]
    },
    {
     "name": "stderr",
     "output_type": "stream",
     "text": [
      "/Users/pawel/.pyenv/versions/3.8.12/envs/rex-env/lib/python3.8/site-packages/arch/univariate/base.py:753: ConvergenceWarning: The optimizer returned code 4. The message is:\n",
      "Inequality constraints incompatible\n",
      "See scipy.optimize.fmin_slsqp for code meaning.\n",
      "\n",
      "  warnings.warn(\n"
     ]
    },
    {
     "name": "stdout",
     "output_type": "stream",
     "text": [
      "Iteration:      1,   Func. Count:      4,   Neg. LLF: nan\n",
      "Inequality constraints incompatible    (Exit mode 4)\n",
      "            Current function value: nan\n",
      "            Iterations: 1\n",
      "            Function evaluations: 4\n",
      "            Gradient evaluations: 1\n",
      "\u001b[31m\n",
      " \n",
      " Predicted volatility for CHF currency is: [1.22591979e-05]\u001b[0m\n"
     ]
    },
    {
     "name": "stderr",
     "output_type": "stream",
     "text": [
      "/Users/pawel/.pyenv/versions/3.8.12/envs/rex-env/lib/python3.8/site-packages/arch/univariate/base.py:753: ConvergenceWarning: The optimizer returned code 4. The message is:\n",
      "Inequality constraints incompatible\n",
      "See scipy.optimize.fmin_slsqp for code meaning.\n",
      "\n",
      "  warnings.warn(\n"
     ]
    },
    {
     "name": "stdout",
     "output_type": "stream",
     "text": [
      "Iteration:      1,   Func. Count:      4,   Neg. LLF: nan\n",
      "Inequality constraints incompatible    (Exit mode 4)\n",
      "            Current function value: nan\n",
      "            Iterations: 1\n",
      "            Function evaluations: 4\n",
      "            Gradient evaluations: 1\n",
      "\u001b[31m\n",
      " \n",
      " Predicted volatility for EUR currency is: [3.08521888e-05]\u001b[0m\n"
     ]
    },
    {
     "name": "stderr",
     "output_type": "stream",
     "text": [
      "/Users/pawel/.pyenv/versions/3.8.12/envs/rex-env/lib/python3.8/site-packages/arch/univariate/base.py:753: ConvergenceWarning: The optimizer returned code 4. The message is:\n",
      "Inequality constraints incompatible\n",
      "See scipy.optimize.fmin_slsqp for code meaning.\n",
      "\n",
      "  warnings.warn(\n"
     ]
    },
    {
     "name": "stdout",
     "output_type": "stream",
     "text": [
      "Iteration:      1,   Func. Count:      4,   Neg. LLF: nan\n",
      "Inequality constraints incompatible    (Exit mode 4)\n",
      "            Current function value: nan\n",
      "            Iterations: 1\n",
      "            Function evaluations: 4\n",
      "            Gradient evaluations: 1\n",
      "\u001b[31m\n",
      " \n",
      " Predicted volatility for GBP currency is: [5.64713156e-05]\u001b[0m\n"
     ]
    },
    {
     "name": "stderr",
     "output_type": "stream",
     "text": [
      "/Users/pawel/.pyenv/versions/3.8.12/envs/rex-env/lib/python3.8/site-packages/arch/univariate/base.py:753: ConvergenceWarning: The optimizer returned code 4. The message is:\n",
      "Inequality constraints incompatible\n",
      "See scipy.optimize.fmin_slsqp for code meaning.\n",
      "\n",
      "  warnings.warn(\n"
     ]
    },
    {
     "name": "stdout",
     "output_type": "stream",
     "text": [
      "Iteration:      1,   Func. Count:      4,   Neg. LLF: nan\n",
      "Inequality constraints incompatible    (Exit mode 4)\n",
      "            Current function value: nan\n",
      "            Iterations: 1\n",
      "            Function evaluations: 4\n",
      "            Gradient evaluations: 1\n",
      "\u001b[31m\n",
      " \n",
      " Predicted volatility for JPY currency is: [8.76412152e-05]\u001b[0m\n"
     ]
    },
    {
     "name": "stderr",
     "output_type": "stream",
     "text": [
      "/Users/pawel/.pyenv/versions/3.8.12/envs/rex-env/lib/python3.8/site-packages/arch/univariate/base.py:753: ConvergenceWarning: The optimizer returned code 4. The message is:\n",
      "Inequality constraints incompatible\n",
      "See scipy.optimize.fmin_slsqp for code meaning.\n",
      "\n",
      "  warnings.warn(\n"
     ]
    },
    {
     "name": "stdout",
     "output_type": "stream",
     "text": [
      "Iteration:      1,   Func. Count:      4,   Neg. LLF: nan\n",
      "Inequality constraints incompatible    (Exit mode 4)\n",
      "            Current function value: nan\n",
      "            Iterations: 1\n",
      "            Function evaluations: 4\n",
      "            Gradient evaluations: 1\n",
      "\u001b[31m\n",
      " \n",
      " Predicted volatility for NZD currency is: [0.00013252]\u001b[0m\n"
     ]
    },
    {
     "name": "stderr",
     "output_type": "stream",
     "text": [
      "/Users/pawel/.pyenv/versions/3.8.12/envs/rex-env/lib/python3.8/site-packages/arch/univariate/base.py:753: ConvergenceWarning: The optimizer returned code 4. The message is:\n",
      "Inequality constraints incompatible\n",
      "See scipy.optimize.fmin_slsqp for code meaning.\n",
      "\n",
      "  warnings.warn(\n"
     ]
    },
    {
     "name": "stdout",
     "output_type": "stream",
     "text": [
      "Iteration:      1,   Func. Count:      4,   Neg. LLF: nan\n",
      "Inequality constraints incompatible    (Exit mode 4)\n",
      "            Current function value: nan\n",
      "            Iterations: 1\n",
      "            Function evaluations: 4\n",
      "            Gradient evaluations: 1\n",
      "\u001b[31m\n",
      " \n",
      " Predicted volatility for USD currency is: [0.0002071]\u001b[0m\n"
     ]
    },
    {
     "name": "stderr",
     "output_type": "stream",
     "text": [
      "/Users/pawel/.pyenv/versions/3.8.12/envs/rex-env/lib/python3.8/site-packages/arch/univariate/base.py:753: ConvergenceWarning: The optimizer returned code 4. The message is:\n",
      "Inequality constraints incompatible\n",
      "See scipy.optimize.fmin_slsqp for code meaning.\n",
      "\n",
      "  warnings.warn(\n"
     ]
    },
    {
     "name": "stdout",
     "output_type": "stream",
     "text": [
      "Iteration:      1,   Func. Count:      4,   Neg. LLF: nan\n",
      "Inequality constraints incompatible    (Exit mode 4)\n",
      "            Current function value: nan\n",
      "            Iterations: 1\n",
      "            Function evaluations: 4\n",
      "            Gradient evaluations: 1\n",
      "\u001b[31m\n",
      " \n",
      " Predicted volatility for AUD currency is: [-8.50405322e-06]\u001b[0m\n"
     ]
    },
    {
     "name": "stderr",
     "output_type": "stream",
     "text": [
      "/Users/pawel/.pyenv/versions/3.8.12/envs/rex-env/lib/python3.8/site-packages/arch/univariate/base.py:753: ConvergenceWarning: The optimizer returned code 4. The message is:\n",
      "Inequality constraints incompatible\n",
      "See scipy.optimize.fmin_slsqp for code meaning.\n",
      "\n",
      "  warnings.warn(\n"
     ]
    },
    {
     "name": "stdout",
     "output_type": "stream",
     "text": [
      "Iteration:      1,   Func. Count:      4,   Neg. LLF: nan\n",
      "Inequality constraints incompatible    (Exit mode 4)\n",
      "            Current function value: nan\n",
      "            Iterations: 1\n",
      "            Function evaluations: 4\n",
      "            Gradient evaluations: 1\n",
      "\u001b[31m\n",
      " \n",
      " Predicted volatility for CAD currency is: [2.99580845e-06]\u001b[0m\n"
     ]
    },
    {
     "name": "stderr",
     "output_type": "stream",
     "text": [
      "/Users/pawel/.pyenv/versions/3.8.12/envs/rex-env/lib/python3.8/site-packages/arch/univariate/base.py:753: ConvergenceWarning: The optimizer returned code 4. The message is:\n",
      "Inequality constraints incompatible\n",
      "See scipy.optimize.fmin_slsqp for code meaning.\n",
      "\n",
      "  warnings.warn(\n"
     ]
    },
    {
     "name": "stdout",
     "output_type": "stream",
     "text": [
      "Iteration:      1,   Func. Count:      4,   Neg. LLF: nan\n",
      "Inequality constraints incompatible    (Exit mode 4)\n",
      "            Current function value: nan\n",
      "            Iterations: 1\n",
      "            Function evaluations: 4\n",
      "            Gradient evaluations: 1\n",
      "\u001b[31m\n",
      " \n",
      " Predicted volatility for CHF currency is: [1.22591979e-05]\u001b[0m\n"
     ]
    },
    {
     "name": "stderr",
     "output_type": "stream",
     "text": [
      "/Users/pawel/.pyenv/versions/3.8.12/envs/rex-env/lib/python3.8/site-packages/arch/univariate/base.py:753: ConvergenceWarning: The optimizer returned code 4. The message is:\n",
      "Inequality constraints incompatible\n",
      "See scipy.optimize.fmin_slsqp for code meaning.\n",
      "\n",
      "  warnings.warn(\n"
     ]
    },
    {
     "name": "stdout",
     "output_type": "stream",
     "text": [
      "Iteration:      1,   Func. Count:      4,   Neg. LLF: nan\n",
      "Inequality constraints incompatible    (Exit mode 4)\n",
      "            Current function value: nan\n",
      "            Iterations: 1\n",
      "            Function evaluations: 4\n",
      "            Gradient evaluations: 1\n",
      "\u001b[31m\n",
      " \n",
      " Predicted volatility for EUR currency is: [3.08521888e-05]\u001b[0m\n"
     ]
    },
    {
     "name": "stderr",
     "output_type": "stream",
     "text": [
      "/Users/pawel/.pyenv/versions/3.8.12/envs/rex-env/lib/python3.8/site-packages/arch/univariate/base.py:753: ConvergenceWarning: The optimizer returned code 4. The message is:\n",
      "Inequality constraints incompatible\n",
      "See scipy.optimize.fmin_slsqp for code meaning.\n",
      "\n",
      "  warnings.warn(\n"
     ]
    },
    {
     "name": "stdout",
     "output_type": "stream",
     "text": [
      "Iteration:      1,   Func. Count:      4,   Neg. LLF: nan\n",
      "Inequality constraints incompatible    (Exit mode 4)\n",
      "            Current function value: nan\n",
      "            Iterations: 1\n",
      "            Function evaluations: 4\n",
      "            Gradient evaluations: 1\n",
      "\u001b[31m\n",
      " \n",
      " Predicted volatility for GBP currency is: [5.64713156e-05]\u001b[0m\n"
     ]
    },
    {
     "name": "stderr",
     "output_type": "stream",
     "text": [
      "/Users/pawel/.pyenv/versions/3.8.12/envs/rex-env/lib/python3.8/site-packages/arch/univariate/base.py:753: ConvergenceWarning: The optimizer returned code 4. The message is:\n",
      "Inequality constraints incompatible\n",
      "See scipy.optimize.fmin_slsqp for code meaning.\n",
      "\n",
      "  warnings.warn(\n"
     ]
    },
    {
     "name": "stdout",
     "output_type": "stream",
     "text": [
      "Iteration:      1,   Func. Count:      4,   Neg. LLF: nan\n",
      "Inequality constraints incompatible    (Exit mode 4)\n",
      "            Current function value: nan\n",
      "            Iterations: 1\n",
      "            Function evaluations: 4\n",
      "            Gradient evaluations: 1\n",
      "\u001b[31m\n",
      " \n",
      " Predicted volatility for JPY currency is: [8.76412152e-05]\u001b[0m\n"
     ]
    },
    {
     "name": "stderr",
     "output_type": "stream",
     "text": [
      "/Users/pawel/.pyenv/versions/3.8.12/envs/rex-env/lib/python3.8/site-packages/arch/univariate/base.py:753: ConvergenceWarning: The optimizer returned code 4. The message is:\n",
      "Inequality constraints incompatible\n",
      "See scipy.optimize.fmin_slsqp for code meaning.\n",
      "\n",
      "  warnings.warn(\n"
     ]
    },
    {
     "name": "stdout",
     "output_type": "stream",
     "text": [
      "Iteration:      1,   Func. Count:      4,   Neg. LLF: nan\n",
      "Inequality constraints incompatible    (Exit mode 4)\n",
      "            Current function value: nan\n",
      "            Iterations: 1\n",
      "            Function evaluations: 4\n",
      "            Gradient evaluations: 1\n",
      "\u001b[31m\n",
      " \n",
      " Predicted volatility for NZD currency is: [0.00013252]\u001b[0m\n"
     ]
    },
    {
     "name": "stderr",
     "output_type": "stream",
     "text": [
      "/Users/pawel/.pyenv/versions/3.8.12/envs/rex-env/lib/python3.8/site-packages/arch/univariate/base.py:753: ConvergenceWarning: The optimizer returned code 4. The message is:\n",
      "Inequality constraints incompatible\n",
      "See scipy.optimize.fmin_slsqp for code meaning.\n",
      "\n",
      "  warnings.warn(\n"
     ]
    },
    {
     "name": "stdout",
     "output_type": "stream",
     "text": [
      "Iteration:      1,   Func. Count:      4,   Neg. LLF: nan\n",
      "Inequality constraints incompatible    (Exit mode 4)\n",
      "            Current function value: nan\n",
      "            Iterations: 1\n",
      "            Function evaluations: 4\n",
      "            Gradient evaluations: 1\n",
      "\u001b[31m\n",
      " \n",
      " Predicted volatility for USD currency is: [0.0002071]\u001b[0m\n"
     ]
    },
    {
     "name": "stderr",
     "output_type": "stream",
     "text": [
      "/Users/pawel/.pyenv/versions/3.8.12/envs/rex-env/lib/python3.8/site-packages/arch/univariate/base.py:753: ConvergenceWarning: The optimizer returned code 4. The message is:\n",
      "Inequality constraints incompatible\n",
      "See scipy.optimize.fmin_slsqp for code meaning.\n",
      "\n",
      "  warnings.warn(\n"
     ]
    },
    {
     "name": "stdout",
     "output_type": "stream",
     "text": [
      "Iteration:      1,   Func. Count:      4,   Neg. LLF: nan\n",
      "Inequality constraints incompatible    (Exit mode 4)\n",
      "            Current function value: nan\n",
      "            Iterations: 1\n",
      "            Function evaluations: 4\n",
      "            Gradient evaluations: 1\n",
      "\u001b[31m\n",
      " \n",
      " Predicted volatility for AUD currency is: [-8.50405322e-06]\u001b[0m\n"
     ]
    },
    {
     "name": "stderr",
     "output_type": "stream",
     "text": [
      "/Users/pawel/.pyenv/versions/3.8.12/envs/rex-env/lib/python3.8/site-packages/arch/univariate/base.py:753: ConvergenceWarning: The optimizer returned code 4. The message is:\n",
      "Inequality constraints incompatible\n",
      "See scipy.optimize.fmin_slsqp for code meaning.\n",
      "\n",
      "  warnings.warn(\n"
     ]
    },
    {
     "name": "stdout",
     "output_type": "stream",
     "text": [
      "Iteration:      1,   Func. Count:      4,   Neg. LLF: nan\n",
      "Inequality constraints incompatible    (Exit mode 4)\n",
      "            Current function value: nan\n",
      "            Iterations: 1\n",
      "            Function evaluations: 4\n",
      "            Gradient evaluations: 1\n",
      "\u001b[31m\n",
      " \n",
      " Predicted volatility for CAD currency is: [2.99580845e-06]\u001b[0m\n"
     ]
    },
    {
     "name": "stderr",
     "output_type": "stream",
     "text": [
      "/Users/pawel/.pyenv/versions/3.8.12/envs/rex-env/lib/python3.8/site-packages/arch/univariate/base.py:753: ConvergenceWarning: The optimizer returned code 4. The message is:\n",
      "Inequality constraints incompatible\n",
      "See scipy.optimize.fmin_slsqp for code meaning.\n",
      "\n",
      "  warnings.warn(\n"
     ]
    },
    {
     "name": "stdout",
     "output_type": "stream",
     "text": [
      "Iteration:      1,   Func. Count:      4,   Neg. LLF: nan\n",
      "Inequality constraints incompatible    (Exit mode 4)\n",
      "            Current function value: nan\n",
      "            Iterations: 1\n",
      "            Function evaluations: 4\n",
      "            Gradient evaluations: 1\n",
      "\u001b[31m\n",
      " \n",
      " Predicted volatility for CHF currency is: [1.22591979e-05]\u001b[0m\n"
     ]
    },
    {
     "name": "stderr",
     "output_type": "stream",
     "text": [
      "/Users/pawel/.pyenv/versions/3.8.12/envs/rex-env/lib/python3.8/site-packages/arch/univariate/base.py:753: ConvergenceWarning: The optimizer returned code 4. The message is:\n",
      "Inequality constraints incompatible\n",
      "See scipy.optimize.fmin_slsqp for code meaning.\n",
      "\n",
      "  warnings.warn(\n"
     ]
    },
    {
     "name": "stdout",
     "output_type": "stream",
     "text": [
      "Iteration:      1,   Func. Count:      4,   Neg. LLF: nan\n",
      "Inequality constraints incompatible    (Exit mode 4)\n",
      "            Current function value: nan\n",
      "            Iterations: 1\n",
      "            Function evaluations: 4\n",
      "            Gradient evaluations: 1\n",
      "\u001b[31m\n",
      " \n",
      " Predicted volatility for EUR currency is: [3.08521888e-05]\u001b[0m\n"
     ]
    },
    {
     "name": "stderr",
     "output_type": "stream",
     "text": [
      "/Users/pawel/.pyenv/versions/3.8.12/envs/rex-env/lib/python3.8/site-packages/arch/univariate/base.py:753: ConvergenceWarning: The optimizer returned code 4. The message is:\n",
      "Inequality constraints incompatible\n",
      "See scipy.optimize.fmin_slsqp for code meaning.\n",
      "\n",
      "  warnings.warn(\n"
     ]
    },
    {
     "name": "stdout",
     "output_type": "stream",
     "text": [
      "Iteration:      1,   Func. Count:      4,   Neg. LLF: nan\n",
      "Inequality constraints incompatible    (Exit mode 4)\n",
      "            Current function value: nan\n",
      "            Iterations: 1\n",
      "            Function evaluations: 4\n",
      "            Gradient evaluations: 1\n",
      "\u001b[31m\n",
      " \n",
      " Predicted volatility for GBP currency is: [5.64713156e-05]\u001b[0m\n"
     ]
    },
    {
     "name": "stderr",
     "output_type": "stream",
     "text": [
      "/Users/pawel/.pyenv/versions/3.8.12/envs/rex-env/lib/python3.8/site-packages/arch/univariate/base.py:753: ConvergenceWarning: The optimizer returned code 4. The message is:\n",
      "Inequality constraints incompatible\n",
      "See scipy.optimize.fmin_slsqp for code meaning.\n",
      "\n",
      "  warnings.warn(\n"
     ]
    },
    {
     "name": "stdout",
     "output_type": "stream",
     "text": [
      "Iteration:      1,   Func. Count:      4,   Neg. LLF: nan\n",
      "Inequality constraints incompatible    (Exit mode 4)\n",
      "            Current function value: nan\n",
      "            Iterations: 1\n",
      "            Function evaluations: 4\n",
      "            Gradient evaluations: 1\n",
      "\u001b[31m\n",
      " \n",
      " Predicted volatility for JPY currency is: [8.76412152e-05]\u001b[0m\n"
     ]
    },
    {
     "name": "stderr",
     "output_type": "stream",
     "text": [
      "/Users/pawel/.pyenv/versions/3.8.12/envs/rex-env/lib/python3.8/site-packages/arch/univariate/base.py:753: ConvergenceWarning: The optimizer returned code 4. The message is:\n",
      "Inequality constraints incompatible\n",
      "See scipy.optimize.fmin_slsqp for code meaning.\n",
      "\n",
      "  warnings.warn(\n"
     ]
    },
    {
     "name": "stdout",
     "output_type": "stream",
     "text": [
      "Iteration:      1,   Func. Count:      4,   Neg. LLF: nan\n",
      "Inequality constraints incompatible    (Exit mode 4)\n",
      "            Current function value: nan\n",
      "            Iterations: 1\n",
      "            Function evaluations: 4\n",
      "            Gradient evaluations: 1\n",
      "\u001b[31m\n",
      " \n",
      " Predicted volatility for NZD currency is: [0.00013252]\u001b[0m\n"
     ]
    },
    {
     "name": "stderr",
     "output_type": "stream",
     "text": [
      "/Users/pawel/.pyenv/versions/3.8.12/envs/rex-env/lib/python3.8/site-packages/arch/univariate/base.py:753: ConvergenceWarning: The optimizer returned code 4. The message is:\n",
      "Inequality constraints incompatible\n",
      "See scipy.optimize.fmin_slsqp for code meaning.\n",
      "\n",
      "  warnings.warn(\n"
     ]
    },
    {
     "name": "stdout",
     "output_type": "stream",
     "text": [
      "Iteration:      1,   Func. Count:      4,   Neg. LLF: nan\n",
      "Inequality constraints incompatible    (Exit mode 4)\n",
      "            Current function value: nan\n",
      "            Iterations: 1\n",
      "            Function evaluations: 4\n",
      "            Gradient evaluations: 1\n",
      "\u001b[31m\n",
      " \n",
      " Predicted volatility for USD currency is: [0.0002071]\u001b[0m\n"
     ]
    },
    {
     "name": "stderr",
     "output_type": "stream",
     "text": [
      "/Users/pawel/.pyenv/versions/3.8.12/envs/rex-env/lib/python3.8/site-packages/arch/univariate/base.py:753: ConvergenceWarning: The optimizer returned code 4. The message is:\n",
      "Inequality constraints incompatible\n",
      "See scipy.optimize.fmin_slsqp for code meaning.\n",
      "\n",
      "  warnings.warn(\n"
     ]
    },
    {
     "name": "stdout",
     "output_type": "stream",
     "text": [
      "Iteration:      1,   Func. Count:      4,   Neg. LLF: nan\n",
      "Inequality constraints incompatible    (Exit mode 4)\n",
      "            Current function value: nan\n",
      "            Iterations: 1\n",
      "            Function evaluations: 4\n",
      "            Gradient evaluations: 1\n",
      "\u001b[31m\n",
      " \n",
      " Predicted volatility for AUD currency is: [-8.50405322e-06]\u001b[0m\n"
     ]
    },
    {
     "name": "stderr",
     "output_type": "stream",
     "text": [
      "/Users/pawel/.pyenv/versions/3.8.12/envs/rex-env/lib/python3.8/site-packages/arch/univariate/base.py:753: ConvergenceWarning: The optimizer returned code 4. The message is:\n",
      "Inequality constraints incompatible\n",
      "See scipy.optimize.fmin_slsqp for code meaning.\n",
      "\n",
      "  warnings.warn(\n"
     ]
    },
    {
     "name": "stdout",
     "output_type": "stream",
     "text": [
      "Iteration:      1,   Func. Count:      4,   Neg. LLF: nan\n",
      "Inequality constraints incompatible    (Exit mode 4)\n",
      "            Current function value: nan\n",
      "            Iterations: 1\n",
      "            Function evaluations: 4\n",
      "            Gradient evaluations: 1\n",
      "\u001b[31m\n",
      " \n",
      " Predicted volatility for CAD currency is: [2.99580845e-06]\u001b[0m\n"
     ]
    },
    {
     "name": "stderr",
     "output_type": "stream",
     "text": [
      "/Users/pawel/.pyenv/versions/3.8.12/envs/rex-env/lib/python3.8/site-packages/arch/univariate/base.py:753: ConvergenceWarning: The optimizer returned code 4. The message is:\n",
      "Inequality constraints incompatible\n",
      "See scipy.optimize.fmin_slsqp for code meaning.\n",
      "\n",
      "  warnings.warn(\n"
     ]
    },
    {
     "name": "stdout",
     "output_type": "stream",
     "text": [
      "Iteration:      1,   Func. Count:      4,   Neg. LLF: nan\n",
      "Inequality constraints incompatible    (Exit mode 4)\n",
      "            Current function value: nan\n",
      "            Iterations: 1\n",
      "            Function evaluations: 4\n",
      "            Gradient evaluations: 1\n",
      "\u001b[31m\n",
      " \n",
      " Predicted volatility for CHF currency is: [1.22591979e-05]\u001b[0m\n"
     ]
    },
    {
     "name": "stderr",
     "output_type": "stream",
     "text": [
      "/Users/pawel/.pyenv/versions/3.8.12/envs/rex-env/lib/python3.8/site-packages/arch/univariate/base.py:753: ConvergenceWarning: The optimizer returned code 4. The message is:\n",
      "Inequality constraints incompatible\n",
      "See scipy.optimize.fmin_slsqp for code meaning.\n",
      "\n",
      "  warnings.warn(\n"
     ]
    },
    {
     "name": "stdout",
     "output_type": "stream",
     "text": [
      "Iteration:      1,   Func. Count:      4,   Neg. LLF: nan\n",
      "Inequality constraints incompatible    (Exit mode 4)\n",
      "            Current function value: nan\n",
      "            Iterations: 1\n",
      "            Function evaluations: 4\n",
      "            Gradient evaluations: 1\n",
      "\u001b[31m\n",
      " \n",
      " Predicted volatility for EUR currency is: [3.08521888e-05]\u001b[0m\n"
     ]
    },
    {
     "name": "stderr",
     "output_type": "stream",
     "text": [
      "/Users/pawel/.pyenv/versions/3.8.12/envs/rex-env/lib/python3.8/site-packages/arch/univariate/base.py:753: ConvergenceWarning: The optimizer returned code 4. The message is:\n",
      "Inequality constraints incompatible\n",
      "See scipy.optimize.fmin_slsqp for code meaning.\n",
      "\n",
      "  warnings.warn(\n"
     ]
    },
    {
     "name": "stdout",
     "output_type": "stream",
     "text": [
      "Iteration:      1,   Func. Count:      4,   Neg. LLF: nan\n",
      "Inequality constraints incompatible    (Exit mode 4)\n",
      "            Current function value: nan\n",
      "            Iterations: 1\n",
      "            Function evaluations: 4\n",
      "            Gradient evaluations: 1\n",
      "\u001b[31m\n",
      " \n",
      " Predicted volatility for GBP currency is: [5.64713156e-05]\u001b[0m\n"
     ]
    },
    {
     "name": "stderr",
     "output_type": "stream",
     "text": [
      "/Users/pawel/.pyenv/versions/3.8.12/envs/rex-env/lib/python3.8/site-packages/arch/univariate/base.py:753: ConvergenceWarning: The optimizer returned code 4. The message is:\n",
      "Inequality constraints incompatible\n",
      "See scipy.optimize.fmin_slsqp for code meaning.\n",
      "\n",
      "  warnings.warn(\n"
     ]
    },
    {
     "name": "stdout",
     "output_type": "stream",
     "text": [
      "Iteration:      1,   Func. Count:      4,   Neg. LLF: nan\n",
      "Inequality constraints incompatible    (Exit mode 4)\n",
      "            Current function value: nan\n",
      "            Iterations: 1\n",
      "            Function evaluations: 4\n",
      "            Gradient evaluations: 1\n",
      "\u001b[31m\n",
      " \n",
      " Predicted volatility for JPY currency is: [8.76412152e-05]\u001b[0m\n"
     ]
    },
    {
     "name": "stderr",
     "output_type": "stream",
     "text": [
      "/Users/pawel/.pyenv/versions/3.8.12/envs/rex-env/lib/python3.8/site-packages/arch/univariate/base.py:753: ConvergenceWarning: The optimizer returned code 4. The message is:\n",
      "Inequality constraints incompatible\n",
      "See scipy.optimize.fmin_slsqp for code meaning.\n",
      "\n",
      "  warnings.warn(\n"
     ]
    },
    {
     "name": "stdout",
     "output_type": "stream",
     "text": [
      "Iteration:      1,   Func. Count:      4,   Neg. LLF: nan\n",
      "Inequality constraints incompatible    (Exit mode 4)\n",
      "            Current function value: nan\n",
      "            Iterations: 1\n",
      "            Function evaluations: 4\n",
      "            Gradient evaluations: 1\n",
      "\u001b[31m\n",
      " \n",
      " Predicted volatility for NZD currency is: [0.00013252]\u001b[0m\n"
     ]
    },
    {
     "name": "stderr",
     "output_type": "stream",
     "text": [
      "/Users/pawel/.pyenv/versions/3.8.12/envs/rex-env/lib/python3.8/site-packages/arch/univariate/base.py:753: ConvergenceWarning: The optimizer returned code 4. The message is:\n",
      "Inequality constraints incompatible\n",
      "See scipy.optimize.fmin_slsqp for code meaning.\n",
      "\n",
      "  warnings.warn(\n"
     ]
    },
    {
     "name": "stdout",
     "output_type": "stream",
     "text": [
      "Iteration:      1,   Func. Count:      4,   Neg. LLF: nan\n",
      "Inequality constraints incompatible    (Exit mode 4)\n",
      "            Current function value: nan\n",
      "            Iterations: 1\n",
      "            Function evaluations: 4\n",
      "            Gradient evaluations: 1\n",
      "\u001b[31m\n",
      " \n",
      " Predicted volatility for USD currency is: [0.0002071]\u001b[0m\n"
     ]
    },
    {
     "name": "stderr",
     "output_type": "stream",
     "text": [
      "/Users/pawel/.pyenv/versions/3.8.12/envs/rex-env/lib/python3.8/site-packages/arch/univariate/base.py:753: ConvergenceWarning: The optimizer returned code 4. The message is:\n",
      "Inequality constraints incompatible\n",
      "See scipy.optimize.fmin_slsqp for code meaning.\n",
      "\n",
      "  warnings.warn(\n"
     ]
    },
    {
     "name": "stdout",
     "output_type": "stream",
     "text": [
      "Iteration:      1,   Func. Count:      4,   Neg. LLF: nan\n",
      "Inequality constraints incompatible    (Exit mode 4)\n",
      "            Current function value: nan\n",
      "            Iterations: 1\n",
      "            Function evaluations: 4\n",
      "            Gradient evaluations: 1\n",
      "\u001b[31m\n",
      " \n",
      " Predicted volatility for AUD currency is: [-8.50405322e-06]\u001b[0m\n"
     ]
    },
    {
     "name": "stderr",
     "output_type": "stream",
     "text": [
      "/Users/pawel/.pyenv/versions/3.8.12/envs/rex-env/lib/python3.8/site-packages/arch/univariate/base.py:753: ConvergenceWarning: The optimizer returned code 4. The message is:\n",
      "Inequality constraints incompatible\n",
      "See scipy.optimize.fmin_slsqp for code meaning.\n",
      "\n",
      "  warnings.warn(\n"
     ]
    },
    {
     "name": "stdout",
     "output_type": "stream",
     "text": [
      "Iteration:      1,   Func. Count:      4,   Neg. LLF: nan\n",
      "Inequality constraints incompatible    (Exit mode 4)\n",
      "            Current function value: nan\n",
      "            Iterations: 1\n",
      "            Function evaluations: 4\n",
      "            Gradient evaluations: 1\n",
      "\u001b[31m\n",
      " \n",
      " Predicted volatility for CAD currency is: [2.99580845e-06]\u001b[0m\n"
     ]
    },
    {
     "name": "stderr",
     "output_type": "stream",
     "text": [
      "/Users/pawel/.pyenv/versions/3.8.12/envs/rex-env/lib/python3.8/site-packages/arch/univariate/base.py:753: ConvergenceWarning: The optimizer returned code 4. The message is:\n",
      "Inequality constraints incompatible\n",
      "See scipy.optimize.fmin_slsqp for code meaning.\n",
      "\n",
      "  warnings.warn(\n"
     ]
    },
    {
     "name": "stdout",
     "output_type": "stream",
     "text": [
      "Iteration:      1,   Func. Count:      4,   Neg. LLF: nan\n",
      "Inequality constraints incompatible    (Exit mode 4)\n",
      "            Current function value: nan\n",
      "            Iterations: 1\n",
      "            Function evaluations: 4\n",
      "            Gradient evaluations: 1\n",
      "\u001b[31m\n",
      " \n",
      " Predicted volatility for CHF currency is: [1.22591979e-05]\u001b[0m\n"
     ]
    },
    {
     "name": "stderr",
     "output_type": "stream",
     "text": [
      "/Users/pawel/.pyenv/versions/3.8.12/envs/rex-env/lib/python3.8/site-packages/arch/univariate/base.py:753: ConvergenceWarning: The optimizer returned code 4. The message is:\n",
      "Inequality constraints incompatible\n",
      "See scipy.optimize.fmin_slsqp for code meaning.\n",
      "\n",
      "  warnings.warn(\n"
     ]
    },
    {
     "name": "stdout",
     "output_type": "stream",
     "text": [
      "Iteration:      1,   Func. Count:      4,   Neg. LLF: nan\n",
      "Inequality constraints incompatible    (Exit mode 4)\n",
      "            Current function value: nan\n",
      "            Iterations: 1\n",
      "            Function evaluations: 4\n",
      "            Gradient evaluations: 1\n",
      "\u001b[31m\n",
      " \n",
      " Predicted volatility for EUR currency is: [3.08521888e-05]\u001b[0m\n"
     ]
    },
    {
     "name": "stderr",
     "output_type": "stream",
     "text": [
      "/Users/pawel/.pyenv/versions/3.8.12/envs/rex-env/lib/python3.8/site-packages/arch/univariate/base.py:753: ConvergenceWarning: The optimizer returned code 4. The message is:\n",
      "Inequality constraints incompatible\n",
      "See scipy.optimize.fmin_slsqp for code meaning.\n",
      "\n",
      "  warnings.warn(\n"
     ]
    },
    {
     "name": "stdout",
     "output_type": "stream",
     "text": [
      "Iteration:      1,   Func. Count:      4,   Neg. LLF: nan\n",
      "Inequality constraints incompatible    (Exit mode 4)\n",
      "            Current function value: nan\n",
      "            Iterations: 1\n",
      "            Function evaluations: 4\n",
      "            Gradient evaluations: 1\n",
      "\u001b[31m\n",
      " \n",
      " Predicted volatility for GBP currency is: [5.64713156e-05]\u001b[0m\n"
     ]
    },
    {
     "name": "stderr",
     "output_type": "stream",
     "text": [
      "/Users/pawel/.pyenv/versions/3.8.12/envs/rex-env/lib/python3.8/site-packages/arch/univariate/base.py:753: ConvergenceWarning: The optimizer returned code 4. The message is:\n",
      "Inequality constraints incompatible\n",
      "See scipy.optimize.fmin_slsqp for code meaning.\n",
      "\n",
      "  warnings.warn(\n"
     ]
    },
    {
     "name": "stdout",
     "output_type": "stream",
     "text": [
      "Iteration:      1,   Func. Count:      4,   Neg. LLF: nan\n",
      "Inequality constraints incompatible    (Exit mode 4)\n",
      "            Current function value: nan\n",
      "            Iterations: 1\n",
      "            Function evaluations: 4\n",
      "            Gradient evaluations: 1\n",
      "\u001b[31m\n",
      " \n",
      " Predicted volatility for JPY currency is: [8.76412152e-05]\u001b[0m\n"
     ]
    },
    {
     "name": "stderr",
     "output_type": "stream",
     "text": [
      "/Users/pawel/.pyenv/versions/3.8.12/envs/rex-env/lib/python3.8/site-packages/arch/univariate/base.py:753: ConvergenceWarning: The optimizer returned code 4. The message is:\n",
      "Inequality constraints incompatible\n",
      "See scipy.optimize.fmin_slsqp for code meaning.\n",
      "\n",
      "  warnings.warn(\n"
     ]
    },
    {
     "name": "stdout",
     "output_type": "stream",
     "text": [
      "Iteration:      1,   Func. Count:      4,   Neg. LLF: nan\n",
      "Inequality constraints incompatible    (Exit mode 4)\n",
      "            Current function value: nan\n",
      "            Iterations: 1\n",
      "            Function evaluations: 4\n",
      "            Gradient evaluations: 1\n",
      "\u001b[31m\n",
      " \n",
      " Predicted volatility for NZD currency is: [0.00013252]\u001b[0m\n"
     ]
    },
    {
     "name": "stderr",
     "output_type": "stream",
     "text": [
      "/Users/pawel/.pyenv/versions/3.8.12/envs/rex-env/lib/python3.8/site-packages/arch/univariate/base.py:753: ConvergenceWarning: The optimizer returned code 4. The message is:\n",
      "Inequality constraints incompatible\n",
      "See scipy.optimize.fmin_slsqp for code meaning.\n",
      "\n",
      "  warnings.warn(\n"
     ]
    },
    {
     "name": "stdout",
     "output_type": "stream",
     "text": [
      "Iteration:      1,   Func. Count:      4,   Neg. LLF: nan\n",
      "Inequality constraints incompatible    (Exit mode 4)\n",
      "            Current function value: nan\n",
      "            Iterations: 1\n",
      "            Function evaluations: 4\n",
      "            Gradient evaluations: 1\n",
      "\u001b[31m\n",
      " \n",
      " Predicted volatility for USD currency is: [0.0002071]\u001b[0m\n"
     ]
    },
    {
     "name": "stderr",
     "output_type": "stream",
     "text": [
      "/Users/pawel/.pyenv/versions/3.8.12/envs/rex-env/lib/python3.8/site-packages/arch/univariate/base.py:753: ConvergenceWarning: The optimizer returned code 4. The message is:\n",
      "Inequality constraints incompatible\n",
      "See scipy.optimize.fmin_slsqp for code meaning.\n",
      "\n",
      "  warnings.warn(\n"
     ]
    },
    {
     "name": "stdout",
     "output_type": "stream",
     "text": [
      "Iteration:      1,   Func. Count:      4,   Neg. LLF: nan\n",
      "Inequality constraints incompatible    (Exit mode 4)\n",
      "            Current function value: nan\n",
      "            Iterations: 1\n",
      "            Function evaluations: 4\n",
      "            Gradient evaluations: 1\n",
      "\u001b[31m\n",
      " \n",
      " Predicted volatility for AUD currency is: [-8.50405322e-06]\u001b[0m\n"
     ]
    },
    {
     "name": "stderr",
     "output_type": "stream",
     "text": [
      "/Users/pawel/.pyenv/versions/3.8.12/envs/rex-env/lib/python3.8/site-packages/arch/univariate/base.py:753: ConvergenceWarning: The optimizer returned code 4. The message is:\n",
      "Inequality constraints incompatible\n",
      "See scipy.optimize.fmin_slsqp for code meaning.\n",
      "\n",
      "  warnings.warn(\n"
     ]
    },
    {
     "name": "stdout",
     "output_type": "stream",
     "text": [
      "Iteration:      1,   Func. Count:      4,   Neg. LLF: nan\n",
      "Inequality constraints incompatible    (Exit mode 4)\n",
      "            Current function value: nan\n",
      "            Iterations: 1\n",
      "            Function evaluations: 4\n",
      "            Gradient evaluations: 1\n",
      "\u001b[31m\n",
      " \n",
      " Predicted volatility for CAD currency is: [2.99580845e-06]\u001b[0m\n"
     ]
    },
    {
     "name": "stderr",
     "output_type": "stream",
     "text": [
      "/Users/pawel/.pyenv/versions/3.8.12/envs/rex-env/lib/python3.8/site-packages/arch/univariate/base.py:753: ConvergenceWarning: The optimizer returned code 4. The message is:\n",
      "Inequality constraints incompatible\n",
      "See scipy.optimize.fmin_slsqp for code meaning.\n",
      "\n",
      "  warnings.warn(\n"
     ]
    },
    {
     "name": "stdout",
     "output_type": "stream",
     "text": [
      "Iteration:      1,   Func. Count:      4,   Neg. LLF: nan\n",
      "Inequality constraints incompatible    (Exit mode 4)\n",
      "            Current function value: nan\n",
      "            Iterations: 1\n",
      "            Function evaluations: 4\n",
      "            Gradient evaluations: 1\n",
      "\u001b[31m\n",
      " \n",
      " Predicted volatility for CHF currency is: [1.22591979e-05]\u001b[0m\n"
     ]
    },
    {
     "name": "stderr",
     "output_type": "stream",
     "text": [
      "/Users/pawel/.pyenv/versions/3.8.12/envs/rex-env/lib/python3.8/site-packages/arch/univariate/base.py:753: ConvergenceWarning: The optimizer returned code 4. The message is:\n",
      "Inequality constraints incompatible\n",
      "See scipy.optimize.fmin_slsqp for code meaning.\n",
      "\n",
      "  warnings.warn(\n"
     ]
    },
    {
     "name": "stdout",
     "output_type": "stream",
     "text": [
      "Iteration:      1,   Func. Count:      4,   Neg. LLF: nan\n",
      "Inequality constraints incompatible    (Exit mode 4)\n",
      "            Current function value: nan\n",
      "            Iterations: 1\n",
      "            Function evaluations: 4\n",
      "            Gradient evaluations: 1\n",
      "\u001b[31m\n",
      " \n",
      " Predicted volatility for EUR currency is: [3.08521888e-05]\u001b[0m\n"
     ]
    },
    {
     "name": "stderr",
     "output_type": "stream",
     "text": [
      "/Users/pawel/.pyenv/versions/3.8.12/envs/rex-env/lib/python3.8/site-packages/arch/univariate/base.py:753: ConvergenceWarning: The optimizer returned code 4. The message is:\n",
      "Inequality constraints incompatible\n",
      "See scipy.optimize.fmin_slsqp for code meaning.\n",
      "\n",
      "  warnings.warn(\n"
     ]
    },
    {
     "name": "stdout",
     "output_type": "stream",
     "text": [
      "Iteration:      1,   Func. Count:      4,   Neg. LLF: nan\n",
      "Inequality constraints incompatible    (Exit mode 4)\n",
      "            Current function value: nan\n",
      "            Iterations: 1\n",
      "            Function evaluations: 4\n",
      "            Gradient evaluations: 1\n",
      "\u001b[31m\n",
      " \n",
      " Predicted volatility for GBP currency is: [5.64713156e-05]\u001b[0m\n"
     ]
    },
    {
     "name": "stderr",
     "output_type": "stream",
     "text": [
      "/Users/pawel/.pyenv/versions/3.8.12/envs/rex-env/lib/python3.8/site-packages/arch/univariate/base.py:753: ConvergenceWarning: The optimizer returned code 4. The message is:\n",
      "Inequality constraints incompatible\n",
      "See scipy.optimize.fmin_slsqp for code meaning.\n",
      "\n",
      "  warnings.warn(\n"
     ]
    },
    {
     "name": "stdout",
     "output_type": "stream",
     "text": [
      "Iteration:      1,   Func. Count:      4,   Neg. LLF: nan\n",
      "Inequality constraints incompatible    (Exit mode 4)\n",
      "            Current function value: nan\n",
      "            Iterations: 1\n",
      "            Function evaluations: 4\n",
      "            Gradient evaluations: 1\n",
      "\u001b[31m\n",
      " \n",
      " Predicted volatility for JPY currency is: [8.76412152e-05]\u001b[0m\n"
     ]
    },
    {
     "name": "stderr",
     "output_type": "stream",
     "text": [
      "/Users/pawel/.pyenv/versions/3.8.12/envs/rex-env/lib/python3.8/site-packages/arch/univariate/base.py:753: ConvergenceWarning: The optimizer returned code 4. The message is:\n",
      "Inequality constraints incompatible\n",
      "See scipy.optimize.fmin_slsqp for code meaning.\n",
      "\n",
      "  warnings.warn(\n"
     ]
    },
    {
     "name": "stdout",
     "output_type": "stream",
     "text": [
      "Iteration:      1,   Func. Count:      4,   Neg. LLF: nan\n",
      "Inequality constraints incompatible    (Exit mode 4)\n",
      "            Current function value: nan\n",
      "            Iterations: 1\n",
      "            Function evaluations: 4\n",
      "            Gradient evaluations: 1\n",
      "\u001b[31m\n",
      " \n",
      " Predicted volatility for NZD currency is: [0.00013252]\u001b[0m\n"
     ]
    },
    {
     "name": "stderr",
     "output_type": "stream",
     "text": [
      "/Users/pawel/.pyenv/versions/3.8.12/envs/rex-env/lib/python3.8/site-packages/arch/univariate/base.py:753: ConvergenceWarning: The optimizer returned code 4. The message is:\n",
      "Inequality constraints incompatible\n",
      "See scipy.optimize.fmin_slsqp for code meaning.\n",
      "\n",
      "  warnings.warn(\n"
     ]
    },
    {
     "name": "stdout",
     "output_type": "stream",
     "text": [
      "Iteration:      1,   Func. Count:      4,   Neg. LLF: nan\n",
      "Inequality constraints incompatible    (Exit mode 4)\n",
      "            Current function value: nan\n",
      "            Iterations: 1\n",
      "            Function evaluations: 4\n",
      "            Gradient evaluations: 1\n",
      "\u001b[31m\n",
      " \n",
      " Predicted volatility for USD currency is: [0.0002071]\u001b[0m\n"
     ]
    },
    {
     "name": "stderr",
     "output_type": "stream",
     "text": [
      "/Users/pawel/.pyenv/versions/3.8.12/envs/rex-env/lib/python3.8/site-packages/arch/univariate/base.py:753: ConvergenceWarning: The optimizer returned code 4. The message is:\n",
      "Inequality constraints incompatible\n",
      "See scipy.optimize.fmin_slsqp for code meaning.\n",
      "\n",
      "  warnings.warn(\n"
     ]
    },
    {
     "name": "stdout",
     "output_type": "stream",
     "text": [
      "Iteration:      1,   Func. Count:      4,   Neg. LLF: nan\n",
      "Inequality constraints incompatible    (Exit mode 4)\n",
      "            Current function value: nan\n",
      "            Iterations: 1\n",
      "            Function evaluations: 4\n",
      "            Gradient evaluations: 1\n",
      "\u001b[31m\n",
      " \n",
      " Predicted volatility for AUD currency is: [-8.50405322e-06]\u001b[0m\n"
     ]
    },
    {
     "name": "stderr",
     "output_type": "stream",
     "text": [
      "/Users/pawel/.pyenv/versions/3.8.12/envs/rex-env/lib/python3.8/site-packages/arch/univariate/base.py:753: ConvergenceWarning: The optimizer returned code 4. The message is:\n",
      "Inequality constraints incompatible\n",
      "See scipy.optimize.fmin_slsqp for code meaning.\n",
      "\n",
      "  warnings.warn(\n"
     ]
    },
    {
     "name": "stdout",
     "output_type": "stream",
     "text": [
      "Iteration:      1,   Func. Count:      4,   Neg. LLF: nan\n",
      "Inequality constraints incompatible    (Exit mode 4)\n",
      "            Current function value: nan\n",
      "            Iterations: 1\n",
      "            Function evaluations: 4\n",
      "            Gradient evaluations: 1\n",
      "\u001b[31m\n",
      " \n",
      " Predicted volatility for CAD currency is: [2.99580845e-06]\u001b[0m\n"
     ]
    },
    {
     "name": "stderr",
     "output_type": "stream",
     "text": [
      "/Users/pawel/.pyenv/versions/3.8.12/envs/rex-env/lib/python3.8/site-packages/arch/univariate/base.py:753: ConvergenceWarning: The optimizer returned code 4. The message is:\n",
      "Inequality constraints incompatible\n",
      "See scipy.optimize.fmin_slsqp for code meaning.\n",
      "\n",
      "  warnings.warn(\n"
     ]
    },
    {
     "name": "stdout",
     "output_type": "stream",
     "text": [
      "Iteration:      1,   Func. Count:      4,   Neg. LLF: nan\n",
      "Inequality constraints incompatible    (Exit mode 4)\n",
      "            Current function value: nan\n",
      "            Iterations: 1\n",
      "            Function evaluations: 4\n",
      "            Gradient evaluations: 1\n",
      "\u001b[31m\n",
      " \n",
      " Predicted volatility for CHF currency is: [1.22591979e-05]\u001b[0m\n"
     ]
    },
    {
     "name": "stderr",
     "output_type": "stream",
     "text": [
      "/Users/pawel/.pyenv/versions/3.8.12/envs/rex-env/lib/python3.8/site-packages/arch/univariate/base.py:753: ConvergenceWarning: The optimizer returned code 4. The message is:\n",
      "Inequality constraints incompatible\n",
      "See scipy.optimize.fmin_slsqp for code meaning.\n",
      "\n",
      "  warnings.warn(\n"
     ]
    },
    {
     "name": "stdout",
     "output_type": "stream",
     "text": [
      "Iteration:      1,   Func. Count:      4,   Neg. LLF: nan\n",
      "Inequality constraints incompatible    (Exit mode 4)\n",
      "            Current function value: nan\n",
      "            Iterations: 1\n",
      "            Function evaluations: 4\n",
      "            Gradient evaluations: 1\n",
      "\u001b[31m\n",
      " \n",
      " Predicted volatility for EUR currency is: [3.08521888e-05]\u001b[0m\n"
     ]
    },
    {
     "name": "stderr",
     "output_type": "stream",
     "text": [
      "/Users/pawel/.pyenv/versions/3.8.12/envs/rex-env/lib/python3.8/site-packages/arch/univariate/base.py:753: ConvergenceWarning: The optimizer returned code 4. The message is:\n",
      "Inequality constraints incompatible\n",
      "See scipy.optimize.fmin_slsqp for code meaning.\n",
      "\n",
      "  warnings.warn(\n"
     ]
    },
    {
     "name": "stdout",
     "output_type": "stream",
     "text": [
      "Iteration:      1,   Func. Count:      4,   Neg. LLF: nan\n",
      "Inequality constraints incompatible    (Exit mode 4)\n",
      "            Current function value: nan\n",
      "            Iterations: 1\n",
      "            Function evaluations: 4\n",
      "            Gradient evaluations: 1\n",
      "\u001b[31m\n",
      " \n",
      " Predicted volatility for GBP currency is: [5.64713156e-05]\u001b[0m\n"
     ]
    },
    {
     "name": "stderr",
     "output_type": "stream",
     "text": [
      "/Users/pawel/.pyenv/versions/3.8.12/envs/rex-env/lib/python3.8/site-packages/arch/univariate/base.py:753: ConvergenceWarning: The optimizer returned code 4. The message is:\n",
      "Inequality constraints incompatible\n",
      "See scipy.optimize.fmin_slsqp for code meaning.\n",
      "\n",
      "  warnings.warn(\n"
     ]
    },
    {
     "name": "stdout",
     "output_type": "stream",
     "text": [
      "Iteration:      1,   Func. Count:      4,   Neg. LLF: nan\n",
      "Inequality constraints incompatible    (Exit mode 4)\n",
      "            Current function value: nan\n",
      "            Iterations: 1\n",
      "            Function evaluations: 4\n",
      "            Gradient evaluations: 1\n",
      "\u001b[31m\n",
      " \n",
      " Predicted volatility for JPY currency is: [8.76412152e-05]\u001b[0m\n"
     ]
    },
    {
     "name": "stderr",
     "output_type": "stream",
     "text": [
      "/Users/pawel/.pyenv/versions/3.8.12/envs/rex-env/lib/python3.8/site-packages/arch/univariate/base.py:753: ConvergenceWarning: The optimizer returned code 4. The message is:\n",
      "Inequality constraints incompatible\n",
      "See scipy.optimize.fmin_slsqp for code meaning.\n",
      "\n",
      "  warnings.warn(\n"
     ]
    },
    {
     "name": "stdout",
     "output_type": "stream",
     "text": [
      "Iteration:      1,   Func. Count:      4,   Neg. LLF: nan\n",
      "Inequality constraints incompatible    (Exit mode 4)\n",
      "            Current function value: nan\n",
      "            Iterations: 1\n",
      "            Function evaluations: 4\n",
      "            Gradient evaluations: 1\n",
      "\u001b[31m\n",
      " \n",
      " Predicted volatility for NZD currency is: [0.00013252]\u001b[0m\n"
     ]
    },
    {
     "name": "stderr",
     "output_type": "stream",
     "text": [
      "/Users/pawel/.pyenv/versions/3.8.12/envs/rex-env/lib/python3.8/site-packages/arch/univariate/base.py:753: ConvergenceWarning: The optimizer returned code 4. The message is:\n",
      "Inequality constraints incompatible\n",
      "See scipy.optimize.fmin_slsqp for code meaning.\n",
      "\n",
      "  warnings.warn(\n"
     ]
    },
    {
     "name": "stdout",
     "output_type": "stream",
     "text": [
      "Iteration:      1,   Func. Count:      4,   Neg. LLF: nan\n",
      "Inequality constraints incompatible    (Exit mode 4)\n",
      "            Current function value: nan\n",
      "            Iterations: 1\n",
      "            Function evaluations: 4\n",
      "            Gradient evaluations: 1\n",
      "\u001b[31m\n",
      " \n",
      " Predicted volatility for USD currency is: [0.0002071]\u001b[0m\n"
     ]
    },
    {
     "name": "stderr",
     "output_type": "stream",
     "text": [
      "/Users/pawel/.pyenv/versions/3.8.12/envs/rex-env/lib/python3.8/site-packages/arch/univariate/base.py:753: ConvergenceWarning: The optimizer returned code 4. The message is:\n",
      "Inequality constraints incompatible\n",
      "See scipy.optimize.fmin_slsqp for code meaning.\n",
      "\n",
      "  warnings.warn(\n"
     ]
    },
    {
     "name": "stdout",
     "output_type": "stream",
     "text": [
      "Iteration:      1,   Func. Count:      4,   Neg. LLF: nan\n",
      "Inequality constraints incompatible    (Exit mode 4)\n",
      "            Current function value: nan\n",
      "            Iterations: 1\n",
      "            Function evaluations: 4\n",
      "            Gradient evaluations: 1\n",
      "\u001b[31m\n",
      " \n",
      " Predicted volatility for AUD currency is: [-8.50405322e-06]\u001b[0m\n"
     ]
    },
    {
     "name": "stderr",
     "output_type": "stream",
     "text": [
      "/Users/pawel/.pyenv/versions/3.8.12/envs/rex-env/lib/python3.8/site-packages/arch/univariate/base.py:753: ConvergenceWarning: The optimizer returned code 4. The message is:\n",
      "Inequality constraints incompatible\n",
      "See scipy.optimize.fmin_slsqp for code meaning.\n",
      "\n",
      "  warnings.warn(\n"
     ]
    },
    {
     "name": "stdout",
     "output_type": "stream",
     "text": [
      "Iteration:      1,   Func. Count:      4,   Neg. LLF: nan\n",
      "Inequality constraints incompatible    (Exit mode 4)\n",
      "            Current function value: nan\n",
      "            Iterations: 1\n",
      "            Function evaluations: 4\n",
      "            Gradient evaluations: 1\n",
      "\u001b[31m\n",
      " \n",
      " Predicted volatility for CAD currency is: [2.99580845e-06]\u001b[0m\n"
     ]
    },
    {
     "name": "stderr",
     "output_type": "stream",
     "text": [
      "/Users/pawel/.pyenv/versions/3.8.12/envs/rex-env/lib/python3.8/site-packages/arch/univariate/base.py:753: ConvergenceWarning: The optimizer returned code 4. The message is:\n",
      "Inequality constraints incompatible\n",
      "See scipy.optimize.fmin_slsqp for code meaning.\n",
      "\n",
      "  warnings.warn(\n"
     ]
    },
    {
     "name": "stdout",
     "output_type": "stream",
     "text": [
      "Iteration:      1,   Func. Count:      4,   Neg. LLF: nan\n",
      "Inequality constraints incompatible    (Exit mode 4)\n",
      "            Current function value: nan\n",
      "            Iterations: 1\n",
      "            Function evaluations: 4\n",
      "            Gradient evaluations: 1\n",
      "\u001b[31m\n",
      " \n",
      " Predicted volatility for CHF currency is: [1.22591979e-05]\u001b[0m\n"
     ]
    },
    {
     "name": "stderr",
     "output_type": "stream",
     "text": [
      "/Users/pawel/.pyenv/versions/3.8.12/envs/rex-env/lib/python3.8/site-packages/arch/univariate/base.py:753: ConvergenceWarning: The optimizer returned code 4. The message is:\n",
      "Inequality constraints incompatible\n",
      "See scipy.optimize.fmin_slsqp for code meaning.\n",
      "\n",
      "  warnings.warn(\n"
     ]
    },
    {
     "name": "stdout",
     "output_type": "stream",
     "text": [
      "Iteration:      1,   Func. Count:      4,   Neg. LLF: nan\n",
      "Inequality constraints incompatible    (Exit mode 4)\n",
      "            Current function value: nan\n",
      "            Iterations: 1\n",
      "            Function evaluations: 4\n",
      "            Gradient evaluations: 1\n",
      "\u001b[31m\n",
      " \n",
      " Predicted volatility for EUR currency is: [3.08521888e-05]\u001b[0m\n"
     ]
    },
    {
     "name": "stderr",
     "output_type": "stream",
     "text": [
      "/Users/pawel/.pyenv/versions/3.8.12/envs/rex-env/lib/python3.8/site-packages/arch/univariate/base.py:753: ConvergenceWarning: The optimizer returned code 4. The message is:\n",
      "Inequality constraints incompatible\n",
      "See scipy.optimize.fmin_slsqp for code meaning.\n",
      "\n",
      "  warnings.warn(\n"
     ]
    },
    {
     "name": "stdout",
     "output_type": "stream",
     "text": [
      "Iteration:      1,   Func. Count:      4,   Neg. LLF: nan\n",
      "Inequality constraints incompatible    (Exit mode 4)\n",
      "            Current function value: nan\n",
      "            Iterations: 1\n",
      "            Function evaluations: 4\n",
      "            Gradient evaluations: 1\n",
      "\u001b[31m\n",
      " \n",
      " Predicted volatility for GBP currency is: [5.64713156e-05]\u001b[0m\n"
     ]
    },
    {
     "name": "stderr",
     "output_type": "stream",
     "text": [
      "/Users/pawel/.pyenv/versions/3.8.12/envs/rex-env/lib/python3.8/site-packages/arch/univariate/base.py:753: ConvergenceWarning: The optimizer returned code 4. The message is:\n",
      "Inequality constraints incompatible\n",
      "See scipy.optimize.fmin_slsqp for code meaning.\n",
      "\n",
      "  warnings.warn(\n"
     ]
    },
    {
     "name": "stdout",
     "output_type": "stream",
     "text": [
      "Iteration:      1,   Func. Count:      4,   Neg. LLF: nan\n",
      "Inequality constraints incompatible    (Exit mode 4)\n",
      "            Current function value: nan\n",
      "            Iterations: 1\n",
      "            Function evaluations: 4\n",
      "            Gradient evaluations: 1\n",
      "\u001b[31m\n",
      " \n",
      " Predicted volatility for JPY currency is: [8.76412152e-05]\u001b[0m\n"
     ]
    },
    {
     "name": "stderr",
     "output_type": "stream",
     "text": [
      "/Users/pawel/.pyenv/versions/3.8.12/envs/rex-env/lib/python3.8/site-packages/arch/univariate/base.py:753: ConvergenceWarning: The optimizer returned code 4. The message is:\n",
      "Inequality constraints incompatible\n",
      "See scipy.optimize.fmin_slsqp for code meaning.\n",
      "\n",
      "  warnings.warn(\n"
     ]
    },
    {
     "name": "stdout",
     "output_type": "stream",
     "text": [
      "Iteration:      1,   Func. Count:      4,   Neg. LLF: nan\n",
      "Inequality constraints incompatible    (Exit mode 4)\n",
      "            Current function value: nan\n",
      "            Iterations: 1\n",
      "            Function evaluations: 4\n",
      "            Gradient evaluations: 1\n",
      "\u001b[31m\n",
      " \n",
      " Predicted volatility for NZD currency is: [0.00013252]\u001b[0m\n"
     ]
    },
    {
     "name": "stderr",
     "output_type": "stream",
     "text": [
      "/Users/pawel/.pyenv/versions/3.8.12/envs/rex-env/lib/python3.8/site-packages/arch/univariate/base.py:753: ConvergenceWarning: The optimizer returned code 4. The message is:\n",
      "Inequality constraints incompatible\n",
      "See scipy.optimize.fmin_slsqp for code meaning.\n",
      "\n",
      "  warnings.warn(\n"
     ]
    },
    {
     "name": "stdout",
     "output_type": "stream",
     "text": [
      "Iteration:      1,   Func. Count:      4,   Neg. LLF: nan\n",
      "Inequality constraints incompatible    (Exit mode 4)\n",
      "            Current function value: nan\n",
      "            Iterations: 1\n",
      "            Function evaluations: 4\n",
      "            Gradient evaluations: 1\n",
      "\u001b[31m\n",
      " \n",
      " Predicted volatility for USD currency is: [0.0002071]\u001b[0m\n"
     ]
    },
    {
     "name": "stderr",
     "output_type": "stream",
     "text": [
      "/Users/pawel/.pyenv/versions/3.8.12/envs/rex-env/lib/python3.8/site-packages/arch/univariate/base.py:753: ConvergenceWarning: The optimizer returned code 4. The message is:\n",
      "Inequality constraints incompatible\n",
      "See scipy.optimize.fmin_slsqp for code meaning.\n",
      "\n",
      "  warnings.warn(\n"
     ]
    },
    {
     "name": "stdout",
     "output_type": "stream",
     "text": [
      "Iteration:      1,   Func. Count:      4,   Neg. LLF: nan\n",
      "Inequality constraints incompatible    (Exit mode 4)\n",
      "            Current function value: nan\n",
      "            Iterations: 1\n",
      "            Function evaluations: 4\n",
      "            Gradient evaluations: 1\n",
      "\u001b[31m\n",
      " \n",
      " Predicted volatility for AUD currency is: [-8.50405322e-06]\u001b[0m\n"
     ]
    },
    {
     "name": "stderr",
     "output_type": "stream",
     "text": [
      "/Users/pawel/.pyenv/versions/3.8.12/envs/rex-env/lib/python3.8/site-packages/arch/univariate/base.py:753: ConvergenceWarning: The optimizer returned code 4. The message is:\n",
      "Inequality constraints incompatible\n",
      "See scipy.optimize.fmin_slsqp for code meaning.\n",
      "\n",
      "  warnings.warn(\n"
     ]
    },
    {
     "name": "stdout",
     "output_type": "stream",
     "text": [
      "Iteration:      1,   Func. Count:      4,   Neg. LLF: nan\n",
      "Inequality constraints incompatible    (Exit mode 4)\n",
      "            Current function value: nan\n",
      "            Iterations: 1\n",
      "            Function evaluations: 4\n",
      "            Gradient evaluations: 1\n",
      "\u001b[31m\n",
      " \n",
      " Predicted volatility for CAD currency is: [2.99580845e-06]\u001b[0m\n"
     ]
    },
    {
     "name": "stderr",
     "output_type": "stream",
     "text": [
      "/Users/pawel/.pyenv/versions/3.8.12/envs/rex-env/lib/python3.8/site-packages/arch/univariate/base.py:753: ConvergenceWarning: The optimizer returned code 4. The message is:\n",
      "Inequality constraints incompatible\n",
      "See scipy.optimize.fmin_slsqp for code meaning.\n",
      "\n",
      "  warnings.warn(\n"
     ]
    },
    {
     "name": "stdout",
     "output_type": "stream",
     "text": [
      "Iteration:      1,   Func. Count:      4,   Neg. LLF: nan\n",
      "Inequality constraints incompatible    (Exit mode 4)\n",
      "            Current function value: nan\n",
      "            Iterations: 1\n",
      "            Function evaluations: 4\n",
      "            Gradient evaluations: 1\n",
      "\u001b[31m\n",
      " \n",
      " Predicted volatility for CHF currency is: [1.22591979e-05]\u001b[0m\n"
     ]
    },
    {
     "name": "stderr",
     "output_type": "stream",
     "text": [
      "/Users/pawel/.pyenv/versions/3.8.12/envs/rex-env/lib/python3.8/site-packages/arch/univariate/base.py:753: ConvergenceWarning: The optimizer returned code 4. The message is:\n",
      "Inequality constraints incompatible\n",
      "See scipy.optimize.fmin_slsqp for code meaning.\n",
      "\n",
      "  warnings.warn(\n"
     ]
    },
    {
     "name": "stdout",
     "output_type": "stream",
     "text": [
      "Iteration:      1,   Func. Count:      4,   Neg. LLF: nan\n",
      "Inequality constraints incompatible    (Exit mode 4)\n",
      "            Current function value: nan\n",
      "            Iterations: 1\n",
      "            Function evaluations: 4\n",
      "            Gradient evaluations: 1\n",
      "\u001b[31m\n",
      " \n",
      " Predicted volatility for EUR currency is: [3.08521888e-05]\u001b[0m\n"
     ]
    },
    {
     "name": "stderr",
     "output_type": "stream",
     "text": [
      "/Users/pawel/.pyenv/versions/3.8.12/envs/rex-env/lib/python3.8/site-packages/arch/univariate/base.py:753: ConvergenceWarning: The optimizer returned code 4. The message is:\n",
      "Inequality constraints incompatible\n",
      "See scipy.optimize.fmin_slsqp for code meaning.\n",
      "\n",
      "  warnings.warn(\n"
     ]
    },
    {
     "name": "stdout",
     "output_type": "stream",
     "text": [
      "Iteration:      1,   Func. Count:      4,   Neg. LLF: nan\n",
      "Inequality constraints incompatible    (Exit mode 4)\n",
      "            Current function value: nan\n",
      "            Iterations: 1\n",
      "            Function evaluations: 4\n",
      "            Gradient evaluations: 1\n",
      "\u001b[31m\n",
      " \n",
      " Predicted volatility for GBP currency is: [5.64713156e-05]\u001b[0m\n"
     ]
    },
    {
     "name": "stderr",
     "output_type": "stream",
     "text": [
      "/Users/pawel/.pyenv/versions/3.8.12/envs/rex-env/lib/python3.8/site-packages/arch/univariate/base.py:753: ConvergenceWarning: The optimizer returned code 4. The message is:\n",
      "Inequality constraints incompatible\n",
      "See scipy.optimize.fmin_slsqp for code meaning.\n",
      "\n",
      "  warnings.warn(\n"
     ]
    },
    {
     "name": "stdout",
     "output_type": "stream",
     "text": [
      "Iteration:      1,   Func. Count:      4,   Neg. LLF: nan\n",
      "Inequality constraints incompatible    (Exit mode 4)\n",
      "            Current function value: nan\n",
      "            Iterations: 1\n",
      "            Function evaluations: 4\n",
      "            Gradient evaluations: 1\n",
      "\u001b[31m\n",
      " \n",
      " Predicted volatility for JPY currency is: [8.76412152e-05]\u001b[0m\n"
     ]
    },
    {
     "name": "stderr",
     "output_type": "stream",
     "text": [
      "/Users/pawel/.pyenv/versions/3.8.12/envs/rex-env/lib/python3.8/site-packages/arch/univariate/base.py:753: ConvergenceWarning: The optimizer returned code 4. The message is:\n",
      "Inequality constraints incompatible\n",
      "See scipy.optimize.fmin_slsqp for code meaning.\n",
      "\n",
      "  warnings.warn(\n"
     ]
    },
    {
     "name": "stdout",
     "output_type": "stream",
     "text": [
      "Iteration:      1,   Func. Count:      4,   Neg. LLF: nan\n",
      "Inequality constraints incompatible    (Exit mode 4)\n",
      "            Current function value: nan\n",
      "            Iterations: 1\n",
      "            Function evaluations: 4\n",
      "            Gradient evaluations: 1\n",
      "\u001b[31m\n",
      " \n",
      " Predicted volatility for NZD currency is: [0.00013252]\u001b[0m\n"
     ]
    },
    {
     "name": "stderr",
     "output_type": "stream",
     "text": [
      "/Users/pawel/.pyenv/versions/3.8.12/envs/rex-env/lib/python3.8/site-packages/arch/univariate/base.py:753: ConvergenceWarning: The optimizer returned code 4. The message is:\n",
      "Inequality constraints incompatible\n",
      "See scipy.optimize.fmin_slsqp for code meaning.\n",
      "\n",
      "  warnings.warn(\n"
     ]
    },
    {
     "name": "stdout",
     "output_type": "stream",
     "text": [
      "Iteration:      1,   Func. Count:      4,   Neg. LLF: nan\n",
      "Inequality constraints incompatible    (Exit mode 4)\n",
      "            Current function value: nan\n",
      "            Iterations: 1\n",
      "            Function evaluations: 4\n",
      "            Gradient evaluations: 1\n",
      "\u001b[31m\n",
      " \n",
      " Predicted volatility for USD currency is: [0.0002071]\u001b[0m\n"
     ]
    },
    {
     "name": "stderr",
     "output_type": "stream",
     "text": [
      "/Users/pawel/.pyenv/versions/3.8.12/envs/rex-env/lib/python3.8/site-packages/arch/univariate/base.py:753: ConvergenceWarning: The optimizer returned code 4. The message is:\n",
      "Inequality constraints incompatible\n",
      "See scipy.optimize.fmin_slsqp for code meaning.\n",
      "\n",
      "  warnings.warn(\n"
     ]
    },
    {
     "ename": "KeyboardInterrupt",
     "evalue": "",
     "output_type": "error",
     "traceback": [
      "\u001b[0;31m---------------------------------------------------------------------------\u001b[0m",
      "\u001b[0;31mKeyboardInterrupt\u001b[0m                         Traceback (most recent call last)",
      "\u001b[1;32m/Users/pawel/code/bogumilo/rex-ai/notebooks/paul/04-garch.ipynb Cell 12\u001b[0m in \u001b[0;36m<cell line: 4>\u001b[0;34m()\u001b[0m\n\u001b[1;32m     <a href='vscode-notebook-cell:/Users/pawel/code/bogumilo/rex-ai/notebooks/paul/04-garch.ipynb#X23sZmlsZQ%3D%3D?line=13'>14</a>\u001b[0m \u001b[39mfor\u001b[39;00m column \u001b[39min\u001b[39;00m \u001b[39mlist\u001b[39m(train_for_params\u001b[39m.\u001b[39mcolumns):\n\u001b[1;32m     <a href='vscode-notebook-cell:/Users/pawel/code/bogumilo/rex-ai/notebooks/paul/04-garch.ipynb#X23sZmlsZQ%3D%3D?line=15'>16</a>\u001b[0m     arima \u001b[39m=\u001b[39m ARIMA(train_for_params[column], order\u001b[39m=\u001b[39mparams[column])\n\u001b[0;32m---> <a href='vscode-notebook-cell:/Users/pawel/code/bogumilo/rex-ai/notebooks/paul/04-garch.ipynb#X23sZmlsZQ%3D%3D?line=16'>17</a>\u001b[0m     arima_fit \u001b[39m=\u001b[39m arima\u001b[39m.\u001b[39;49mfit()\n\u001b[1;32m     <a href='vscode-notebook-cell:/Users/pawel/code/bogumilo/rex-ai/notebooks/paul/04-garch.ipynb#X23sZmlsZQ%3D%3D?line=17'>18</a>\u001b[0m     forecast_results \u001b[39m=\u001b[39m arima_fit\u001b[39m.\u001b[39mget_forecast(\u001b[39m1\u001b[39m, alpha\u001b[39m=\u001b[39m\u001b[39m0.05\u001b[39m) \u001b[39m# get_forecast( ) define the length of predictions\u001b[39;00m\n\u001b[1;32m     <a href='vscode-notebook-cell:/Users/pawel/code/bogumilo/rex-ai/notebooks/paul/04-garch.ipynb#X23sZmlsZQ%3D%3D?line=19'>20</a>\u001b[0m     arima_forc_dict[\u001b[39m'\u001b[39m\u001b[39mnext_hour_index\u001b[39m\u001b[39m'\u001b[39m] \u001b[39m=\u001b[39m \u001b[39mlist\u001b[39m(forecast_results\u001b[39m.\u001b[39mpredicted_mean\u001b[39m.\u001b[39mindex) \u001b[39m# hourly indexes we predict\u001b[39;00m\n",
      "File \u001b[0;32m~/.pyenv/versions/3.8.12/envs/rex-env/lib/python3.8/site-packages/statsmodels/tsa/arima/model.py:390\u001b[0m, in \u001b[0;36mARIMA.fit\u001b[0;34m(self, start_params, transformed, includes_fixed, method, method_kwargs, gls, gls_kwargs, cov_type, cov_kwds, return_params, low_memory)\u001b[0m\n\u001b[1;32m    387\u001b[0m \u001b[39melse\u001b[39;00m:\n\u001b[1;32m    388\u001b[0m     method_kwargs\u001b[39m.\u001b[39msetdefault(\u001b[39m'\u001b[39m\u001b[39mdisp\u001b[39m\u001b[39m'\u001b[39m, \u001b[39m0\u001b[39m)\n\u001b[0;32m--> 390\u001b[0m     res \u001b[39m=\u001b[39m \u001b[39msuper\u001b[39;49m()\u001b[39m.\u001b[39;49mfit(\n\u001b[1;32m    391\u001b[0m         return_params\u001b[39m=\u001b[39;49mreturn_params, low_memory\u001b[39m=\u001b[39;49mlow_memory,\n\u001b[1;32m    392\u001b[0m         cov_type\u001b[39m=\u001b[39;49mcov_type, cov_kwds\u001b[39m=\u001b[39;49mcov_kwds, \u001b[39m*\u001b[39;49m\u001b[39m*\u001b[39;49mmethod_kwargs)\n\u001b[1;32m    393\u001b[0m     \u001b[39mif\u001b[39;00m \u001b[39mnot\u001b[39;00m return_params:\n\u001b[1;32m    394\u001b[0m         res\u001b[39m.\u001b[39mfit_details \u001b[39m=\u001b[39m res\u001b[39m.\u001b[39mmlefit\n",
      "File \u001b[0;32m~/.pyenv/versions/3.8.12/envs/rex-env/lib/python3.8/site-packages/statsmodels/tsa/statespace/mlemodel.py:704\u001b[0m, in \u001b[0;36mMLEModel.fit\u001b[0;34m(self, start_params, transformed, includes_fixed, cov_type, cov_kwds, method, maxiter, full_output, disp, callback, return_params, optim_score, optim_complex_step, optim_hessian, flags, low_memory, **kwargs)\u001b[0m\n\u001b[1;32m    702\u001b[0m         flags[\u001b[39m'\u001b[39m\u001b[39mhessian_method\u001b[39m\u001b[39m'\u001b[39m] \u001b[39m=\u001b[39m optim_hessian\n\u001b[1;32m    703\u001b[0m     fargs \u001b[39m=\u001b[39m (flags,)\n\u001b[0;32m--> 704\u001b[0m     mlefit \u001b[39m=\u001b[39m \u001b[39msuper\u001b[39;49m(MLEModel, \u001b[39mself\u001b[39;49m)\u001b[39m.\u001b[39;49mfit(start_params, method\u001b[39m=\u001b[39;49mmethod,\n\u001b[1;32m    705\u001b[0m                                        fargs\u001b[39m=\u001b[39;49mfargs,\n\u001b[1;32m    706\u001b[0m                                        maxiter\u001b[39m=\u001b[39;49mmaxiter,\n\u001b[1;32m    707\u001b[0m                                        full_output\u001b[39m=\u001b[39;49mfull_output,\n\u001b[1;32m    708\u001b[0m                                        disp\u001b[39m=\u001b[39;49mdisp, callback\u001b[39m=\u001b[39;49mcallback,\n\u001b[1;32m    709\u001b[0m                                        skip_hessian\u001b[39m=\u001b[39;49m\u001b[39mTrue\u001b[39;49;00m, \u001b[39m*\u001b[39;49m\u001b[39m*\u001b[39;49mkwargs)\n\u001b[1;32m    711\u001b[0m \u001b[39m# Just return the fitted parameters if requested\u001b[39;00m\n\u001b[1;32m    712\u001b[0m \u001b[39mif\u001b[39;00m return_params:\n",
      "File \u001b[0;32m~/.pyenv/versions/3.8.12/envs/rex-env/lib/python3.8/site-packages/statsmodels/base/model.py:563\u001b[0m, in \u001b[0;36mLikelihoodModel.fit\u001b[0;34m(self, start_params, method, maxiter, full_output, disp, fargs, callback, retall, skip_hessian, **kwargs)\u001b[0m\n\u001b[1;32m    560\u001b[0m     \u001b[39mdel\u001b[39;00m kwargs[\u001b[39m\"\u001b[39m\u001b[39muse_t\u001b[39m\u001b[39m\"\u001b[39m]\n\u001b[1;32m    562\u001b[0m optimizer \u001b[39m=\u001b[39m Optimizer()\n\u001b[0;32m--> 563\u001b[0m xopt, retvals, optim_settings \u001b[39m=\u001b[39m optimizer\u001b[39m.\u001b[39;49m_fit(f, score, start_params,\n\u001b[1;32m    564\u001b[0m                                                fargs, kwargs,\n\u001b[1;32m    565\u001b[0m                                                hessian\u001b[39m=\u001b[39;49mhess,\n\u001b[1;32m    566\u001b[0m                                                method\u001b[39m=\u001b[39;49mmethod,\n\u001b[1;32m    567\u001b[0m                                                disp\u001b[39m=\u001b[39;49mdisp,\n\u001b[1;32m    568\u001b[0m                                                maxiter\u001b[39m=\u001b[39;49mmaxiter,\n\u001b[1;32m    569\u001b[0m                                                callback\u001b[39m=\u001b[39;49mcallback,\n\u001b[1;32m    570\u001b[0m                                                retall\u001b[39m=\u001b[39;49mretall,\n\u001b[1;32m    571\u001b[0m                                                full_output\u001b[39m=\u001b[39;49mfull_output)\n\u001b[1;32m    572\u001b[0m \u001b[39m# Restore cov_type, cov_kwds and use_t\u001b[39;00m\n\u001b[1;32m    573\u001b[0m optim_settings\u001b[39m.\u001b[39mupdate(kwds)\n",
      "File \u001b[0;32m~/.pyenv/versions/3.8.12/envs/rex-env/lib/python3.8/site-packages/statsmodels/base/optimizer.py:241\u001b[0m, in \u001b[0;36mOptimizer._fit\u001b[0;34m(self, objective, gradient, start_params, fargs, kwargs, hessian, method, maxiter, full_output, disp, callback, retall)\u001b[0m\n\u001b[1;32m    238\u001b[0m     fit_funcs\u001b[39m.\u001b[39mupdate(extra_fit_funcs)\n\u001b[1;32m    240\u001b[0m func \u001b[39m=\u001b[39m fit_funcs[method]\n\u001b[0;32m--> 241\u001b[0m xopt, retvals \u001b[39m=\u001b[39m func(objective, gradient, start_params, fargs, kwargs,\n\u001b[1;32m    242\u001b[0m                      disp\u001b[39m=\u001b[39;49mdisp, maxiter\u001b[39m=\u001b[39;49mmaxiter, callback\u001b[39m=\u001b[39;49mcallback,\n\u001b[1;32m    243\u001b[0m                      retall\u001b[39m=\u001b[39;49mretall, full_output\u001b[39m=\u001b[39;49mfull_output,\n\u001b[1;32m    244\u001b[0m                      hess\u001b[39m=\u001b[39;49mhessian)\n\u001b[1;32m    246\u001b[0m optim_settings \u001b[39m=\u001b[39m {\u001b[39m'\u001b[39m\u001b[39moptimizer\u001b[39m\u001b[39m'\u001b[39m: method, \u001b[39m'\u001b[39m\u001b[39mstart_params\u001b[39m\u001b[39m'\u001b[39m: start_params,\n\u001b[1;32m    247\u001b[0m                   \u001b[39m'\u001b[39m\u001b[39mmaxiter\u001b[39m\u001b[39m'\u001b[39m: maxiter, \u001b[39m'\u001b[39m\u001b[39mfull_output\u001b[39m\u001b[39m'\u001b[39m: full_output,\n\u001b[1;32m    248\u001b[0m                   \u001b[39m'\u001b[39m\u001b[39mdisp\u001b[39m\u001b[39m'\u001b[39m: disp, \u001b[39m'\u001b[39m\u001b[39mfargs\u001b[39m\u001b[39m'\u001b[39m: fargs, \u001b[39m'\u001b[39m\u001b[39mcallback\u001b[39m\u001b[39m'\u001b[39m: callback,\n\u001b[1;32m    249\u001b[0m                   \u001b[39m'\u001b[39m\u001b[39mretall\u001b[39m\u001b[39m'\u001b[39m: retall, \u001b[39m\"\u001b[39m\u001b[39mextra_fit_funcs\u001b[39m\u001b[39m\"\u001b[39m: extra_fit_funcs}\n\u001b[1;32m    250\u001b[0m optim_settings\u001b[39m.\u001b[39mupdate(kwargs)\n",
      "File \u001b[0;32m~/.pyenv/versions/3.8.12/envs/rex-env/lib/python3.8/site-packages/statsmodels/base/optimizer.py:651\u001b[0m, in \u001b[0;36m_fit_lbfgs\u001b[0;34m(f, score, start_params, fargs, kwargs, disp, maxiter, callback, retall, full_output, hess)\u001b[0m\n\u001b[1;32m    648\u001b[0m \u001b[39melif\u001b[39;00m approx_grad:\n\u001b[1;32m    649\u001b[0m     func \u001b[39m=\u001b[39m f\n\u001b[0;32m--> 651\u001b[0m retvals \u001b[39m=\u001b[39m optimize\u001b[39m.\u001b[39;49mfmin_l_bfgs_b(func, start_params, maxiter\u001b[39m=\u001b[39;49mmaxiter,\n\u001b[1;32m    652\u001b[0m                                  callback\u001b[39m=\u001b[39;49mcallback, args\u001b[39m=\u001b[39;49mfargs,\n\u001b[1;32m    653\u001b[0m                                  bounds\u001b[39m=\u001b[39;49mbounds, disp\u001b[39m=\u001b[39;49mdisp,\n\u001b[1;32m    654\u001b[0m                                  \u001b[39m*\u001b[39;49m\u001b[39m*\u001b[39;49mextra_kwargs)\n\u001b[1;32m    656\u001b[0m \u001b[39mif\u001b[39;00m full_output:\n\u001b[1;32m    657\u001b[0m     xopt, fopt, d \u001b[39m=\u001b[39m retvals\n",
      "File \u001b[0;32m~/.pyenv/versions/3.8.12/envs/rex-env/lib/python3.8/site-packages/scipy/optimize/_lbfgsb_py.py:199\u001b[0m, in \u001b[0;36mfmin_l_bfgs_b\u001b[0;34m(func, x0, fprime, args, approx_grad, bounds, m, factr, pgtol, epsilon, iprint, maxfun, maxiter, disp, callback, maxls)\u001b[0m\n\u001b[1;32m    187\u001b[0m     disp \u001b[39m=\u001b[39m iprint\n\u001b[1;32m    188\u001b[0m opts \u001b[39m=\u001b[39m {\u001b[39m'\u001b[39m\u001b[39mdisp\u001b[39m\u001b[39m'\u001b[39m: disp,\n\u001b[1;32m    189\u001b[0m         \u001b[39m'\u001b[39m\u001b[39miprint\u001b[39m\u001b[39m'\u001b[39m: iprint,\n\u001b[1;32m    190\u001b[0m         \u001b[39m'\u001b[39m\u001b[39mmaxcor\u001b[39m\u001b[39m'\u001b[39m: m,\n\u001b[0;32m   (...)\u001b[0m\n\u001b[1;32m    196\u001b[0m         \u001b[39m'\u001b[39m\u001b[39mcallback\u001b[39m\u001b[39m'\u001b[39m: callback,\n\u001b[1;32m    197\u001b[0m         \u001b[39m'\u001b[39m\u001b[39mmaxls\u001b[39m\u001b[39m'\u001b[39m: maxls}\n\u001b[0;32m--> 199\u001b[0m res \u001b[39m=\u001b[39m _minimize_lbfgsb(fun, x0, args\u001b[39m=\u001b[39;49margs, jac\u001b[39m=\u001b[39;49mjac, bounds\u001b[39m=\u001b[39;49mbounds,\n\u001b[1;32m    200\u001b[0m                        \u001b[39m*\u001b[39;49m\u001b[39m*\u001b[39;49mopts)\n\u001b[1;32m    201\u001b[0m d \u001b[39m=\u001b[39m {\u001b[39m'\u001b[39m\u001b[39mgrad\u001b[39m\u001b[39m'\u001b[39m: res[\u001b[39m'\u001b[39m\u001b[39mjac\u001b[39m\u001b[39m'\u001b[39m],\n\u001b[1;32m    202\u001b[0m      \u001b[39m'\u001b[39m\u001b[39mtask\u001b[39m\u001b[39m'\u001b[39m: res[\u001b[39m'\u001b[39m\u001b[39mmessage\u001b[39m\u001b[39m'\u001b[39m],\n\u001b[1;32m    203\u001b[0m      \u001b[39m'\u001b[39m\u001b[39mfuncalls\u001b[39m\u001b[39m'\u001b[39m: res[\u001b[39m'\u001b[39m\u001b[39mnfev\u001b[39m\u001b[39m'\u001b[39m],\n\u001b[1;32m    204\u001b[0m      \u001b[39m'\u001b[39m\u001b[39mnit\u001b[39m\u001b[39m'\u001b[39m: res[\u001b[39m'\u001b[39m\u001b[39mnit\u001b[39m\u001b[39m'\u001b[39m],\n\u001b[1;32m    205\u001b[0m      \u001b[39m'\u001b[39m\u001b[39mwarnflag\u001b[39m\u001b[39m'\u001b[39m: res[\u001b[39m'\u001b[39m\u001b[39mstatus\u001b[39m\u001b[39m'\u001b[39m]}\n\u001b[1;32m    206\u001b[0m f \u001b[39m=\u001b[39m res[\u001b[39m'\u001b[39m\u001b[39mfun\u001b[39m\u001b[39m'\u001b[39m]\n",
      "File \u001b[0;32m~/.pyenv/versions/3.8.12/envs/rex-env/lib/python3.8/site-packages/scipy/optimize/_lbfgsb_py.py:308\u001b[0m, in \u001b[0;36m_minimize_lbfgsb\u001b[0;34m(fun, x0, args, jac, bounds, disp, maxcor, ftol, gtol, eps, maxfun, maxiter, iprint, callback, maxls, finite_diff_rel_step, **unknown_options)\u001b[0m\n\u001b[1;32m    305\u001b[0m     \u001b[39melse\u001b[39;00m:\n\u001b[1;32m    306\u001b[0m         iprint \u001b[39m=\u001b[39m disp\n\u001b[0;32m--> 308\u001b[0m sf \u001b[39m=\u001b[39m _prepare_scalar_function(fun, x0, jac\u001b[39m=\u001b[39;49mjac, args\u001b[39m=\u001b[39;49margs, epsilon\u001b[39m=\u001b[39;49meps,\n\u001b[1;32m    309\u001b[0m                               bounds\u001b[39m=\u001b[39;49mnew_bounds,\n\u001b[1;32m    310\u001b[0m                               finite_diff_rel_step\u001b[39m=\u001b[39;49mfinite_diff_rel_step)\n\u001b[1;32m    312\u001b[0m func_and_grad \u001b[39m=\u001b[39m sf\u001b[39m.\u001b[39mfun_and_grad\n\u001b[1;32m    314\u001b[0m fortran_int \u001b[39m=\u001b[39m _lbfgsb\u001b[39m.\u001b[39mtypes\u001b[39m.\u001b[39mintvar\u001b[39m.\u001b[39mdtype\n",
      "File \u001b[0;32m~/.pyenv/versions/3.8.12/envs/rex-env/lib/python3.8/site-packages/scipy/optimize/_optimize.py:263\u001b[0m, in \u001b[0;36m_prepare_scalar_function\u001b[0;34m(fun, x0, jac, args, bounds, epsilon, finite_diff_rel_step, hess)\u001b[0m\n\u001b[1;32m    259\u001b[0m     bounds \u001b[39m=\u001b[39m (\u001b[39m-\u001b[39mnp\u001b[39m.\u001b[39minf, np\u001b[39m.\u001b[39minf)\n\u001b[1;32m    261\u001b[0m \u001b[39m# ScalarFunction caches. Reuse of fun(x) during grad\u001b[39;00m\n\u001b[1;32m    262\u001b[0m \u001b[39m# calculation reduces overall function evaluations.\u001b[39;00m\n\u001b[0;32m--> 263\u001b[0m sf \u001b[39m=\u001b[39m ScalarFunction(fun, x0, args, grad, hess,\n\u001b[1;32m    264\u001b[0m                     finite_diff_rel_step, bounds, epsilon\u001b[39m=\u001b[39;49mepsilon)\n\u001b[1;32m    266\u001b[0m \u001b[39mreturn\u001b[39;00m sf\n",
      "File \u001b[0;32m~/.pyenv/versions/3.8.12/envs/rex-env/lib/python3.8/site-packages/scipy/optimize/_differentiable_functions.py:177\u001b[0m, in \u001b[0;36mScalarFunction.__init__\u001b[0;34m(self, fun, x0, args, grad, hess, finite_diff_rel_step, finite_diff_bounds, epsilon)\u001b[0m\n\u001b[1;32m    173\u001b[0m         \u001b[39mself\u001b[39m\u001b[39m.\u001b[39mg \u001b[39m=\u001b[39m approx_derivative(fun_wrapped, \u001b[39mself\u001b[39m\u001b[39m.\u001b[39mx, f0\u001b[39m=\u001b[39m\u001b[39mself\u001b[39m\u001b[39m.\u001b[39mf,\n\u001b[1;32m    174\u001b[0m                                    \u001b[39m*\u001b[39m\u001b[39m*\u001b[39mfinite_diff_options)\n\u001b[1;32m    176\u001b[0m \u001b[39mself\u001b[39m\u001b[39m.\u001b[39m_update_grad_impl \u001b[39m=\u001b[39m update_grad\n\u001b[0;32m--> 177\u001b[0m \u001b[39mself\u001b[39;49m\u001b[39m.\u001b[39;49m_update_grad()\n\u001b[1;32m    179\u001b[0m \u001b[39m# Hessian Evaluation\u001b[39;00m\n\u001b[1;32m    180\u001b[0m \u001b[39mif\u001b[39;00m callable(hess):\n",
      "File \u001b[0;32m~/.pyenv/versions/3.8.12/envs/rex-env/lib/python3.8/site-packages/scipy/optimize/_differentiable_functions.py:256\u001b[0m, in \u001b[0;36mScalarFunction._update_grad\u001b[0;34m(self)\u001b[0m\n\u001b[1;32m    254\u001b[0m \u001b[39mdef\u001b[39;00m \u001b[39m_update_grad\u001b[39m(\u001b[39mself\u001b[39m):\n\u001b[1;32m    255\u001b[0m     \u001b[39mif\u001b[39;00m \u001b[39mnot\u001b[39;00m \u001b[39mself\u001b[39m\u001b[39m.\u001b[39mg_updated:\n\u001b[0;32m--> 256\u001b[0m         \u001b[39mself\u001b[39;49m\u001b[39m.\u001b[39;49m_update_grad_impl()\n\u001b[1;32m    257\u001b[0m         \u001b[39mself\u001b[39m\u001b[39m.\u001b[39mg_updated \u001b[39m=\u001b[39m \u001b[39mTrue\u001b[39;00m\n",
      "File \u001b[0;32m~/.pyenv/versions/3.8.12/envs/rex-env/lib/python3.8/site-packages/scipy/optimize/_differentiable_functions.py:173\u001b[0m, in \u001b[0;36mScalarFunction.__init__.<locals>.update_grad\u001b[0;34m()\u001b[0m\n\u001b[1;32m    171\u001b[0m \u001b[39mself\u001b[39m\u001b[39m.\u001b[39m_update_fun()\n\u001b[1;32m    172\u001b[0m \u001b[39mself\u001b[39m\u001b[39m.\u001b[39mngev \u001b[39m+\u001b[39m\u001b[39m=\u001b[39m \u001b[39m1\u001b[39m\n\u001b[0;32m--> 173\u001b[0m \u001b[39mself\u001b[39m\u001b[39m.\u001b[39mg \u001b[39m=\u001b[39m approx_derivative(fun_wrapped, \u001b[39mself\u001b[39;49m\u001b[39m.\u001b[39;49mx, f0\u001b[39m=\u001b[39;49m\u001b[39mself\u001b[39;49m\u001b[39m.\u001b[39;49mf,\n\u001b[1;32m    174\u001b[0m                            \u001b[39m*\u001b[39;49m\u001b[39m*\u001b[39;49mfinite_diff_options)\n",
      "File \u001b[0;32m~/.pyenv/versions/3.8.12/envs/rex-env/lib/python3.8/site-packages/scipy/optimize/_numdiff.py:505\u001b[0m, in \u001b[0;36mapprox_derivative\u001b[0;34m(fun, x0, method, rel_step, abs_step, f0, bounds, sparsity, as_linear_operator, args, kwargs)\u001b[0m\n\u001b[1;32m    502\u001b[0m     use_one_sided \u001b[39m=\u001b[39m \u001b[39mFalse\u001b[39;00m\n\u001b[1;32m    504\u001b[0m \u001b[39mif\u001b[39;00m sparsity \u001b[39mis\u001b[39;00m \u001b[39mNone\u001b[39;00m:\n\u001b[0;32m--> 505\u001b[0m     \u001b[39mreturn\u001b[39;00m _dense_difference(fun_wrapped, x0, f0, h,\n\u001b[1;32m    506\u001b[0m                              use_one_sided, method)\n\u001b[1;32m    507\u001b[0m \u001b[39melse\u001b[39;00m:\n\u001b[1;32m    508\u001b[0m     \u001b[39mif\u001b[39;00m \u001b[39mnot\u001b[39;00m issparse(sparsity) \u001b[39mand\u001b[39;00m \u001b[39mlen\u001b[39m(sparsity) \u001b[39m==\u001b[39m \u001b[39m2\u001b[39m:\n",
      "File \u001b[0;32m~/.pyenv/versions/3.8.12/envs/rex-env/lib/python3.8/site-packages/scipy/optimize/_numdiff.py:576\u001b[0m, in \u001b[0;36m_dense_difference\u001b[0;34m(fun, x0, f0, h, use_one_sided, method)\u001b[0m\n\u001b[1;32m    574\u001b[0m     x \u001b[39m=\u001b[39m x0 \u001b[39m+\u001b[39m h_vecs[i]\n\u001b[1;32m    575\u001b[0m     dx \u001b[39m=\u001b[39m x[i] \u001b[39m-\u001b[39m x0[i]  \u001b[39m# Recompute dx as exactly representable number.\u001b[39;00m\n\u001b[0;32m--> 576\u001b[0m     df \u001b[39m=\u001b[39m fun(x) \u001b[39m-\u001b[39m f0\n\u001b[1;32m    577\u001b[0m \u001b[39melif\u001b[39;00m method \u001b[39m==\u001b[39m \u001b[39m'\u001b[39m\u001b[39m3-point\u001b[39m\u001b[39m'\u001b[39m \u001b[39mand\u001b[39;00m use_one_sided[i]:\n\u001b[1;32m    578\u001b[0m     x1 \u001b[39m=\u001b[39m x0 \u001b[39m+\u001b[39m h_vecs[i]\n",
      "File \u001b[0;32m~/.pyenv/versions/3.8.12/envs/rex-env/lib/python3.8/site-packages/scipy/optimize/_numdiff.py:456\u001b[0m, in \u001b[0;36mapprox_derivative.<locals>.fun_wrapped\u001b[0;34m(x)\u001b[0m\n\u001b[1;32m    455\u001b[0m \u001b[39mdef\u001b[39;00m \u001b[39mfun_wrapped\u001b[39m(x):\n\u001b[0;32m--> 456\u001b[0m     f \u001b[39m=\u001b[39m np\u001b[39m.\u001b[39matleast_1d(fun(x, \u001b[39m*\u001b[39;49margs, \u001b[39m*\u001b[39;49m\u001b[39m*\u001b[39;49mkwargs))\n\u001b[1;32m    457\u001b[0m     \u001b[39mif\u001b[39;00m f\u001b[39m.\u001b[39mndim \u001b[39m>\u001b[39m \u001b[39m1\u001b[39m:\n\u001b[1;32m    458\u001b[0m         \u001b[39mraise\u001b[39;00m \u001b[39mRuntimeError\u001b[39;00m(\u001b[39m\"\u001b[39m\u001b[39m`fun` return value has \u001b[39m\u001b[39m\"\u001b[39m\n\u001b[1;32m    459\u001b[0m                            \u001b[39m\"\u001b[39m\u001b[39mmore than 1 dimension.\u001b[39m\u001b[39m\"\u001b[39m)\n",
      "File \u001b[0;32m~/.pyenv/versions/3.8.12/envs/rex-env/lib/python3.8/site-packages/scipy/optimize/_differentiable_functions.py:137\u001b[0m, in \u001b[0;36mScalarFunction.__init__.<locals>.fun_wrapped\u001b[0;34m(x)\u001b[0m\n\u001b[1;32m    133\u001b[0m \u001b[39mself\u001b[39m\u001b[39m.\u001b[39mnfev \u001b[39m+\u001b[39m\u001b[39m=\u001b[39m \u001b[39m1\u001b[39m\n\u001b[1;32m    134\u001b[0m \u001b[39m# Send a copy because the user may overwrite it.\u001b[39;00m\n\u001b[1;32m    135\u001b[0m \u001b[39m# Overwriting results in undefined behaviour because\u001b[39;00m\n\u001b[1;32m    136\u001b[0m \u001b[39m# fun(self.x) will change self.x, with the two no longer linked.\u001b[39;00m\n\u001b[0;32m--> 137\u001b[0m fx \u001b[39m=\u001b[39m fun(np\u001b[39m.\u001b[39;49mcopy(x), \u001b[39m*\u001b[39;49margs)\n\u001b[1;32m    138\u001b[0m \u001b[39m# Make sure the function returns a true scalar\u001b[39;00m\n\u001b[1;32m    139\u001b[0m \u001b[39mif\u001b[39;00m \u001b[39mnot\u001b[39;00m np\u001b[39m.\u001b[39misscalar(fx):\n",
      "File \u001b[0;32m~/.pyenv/versions/3.8.12/envs/rex-env/lib/python3.8/site-packages/statsmodels/base/model.py:531\u001b[0m, in \u001b[0;36mLikelihoodModel.fit.<locals>.f\u001b[0;34m(params, *args)\u001b[0m\n\u001b[1;32m    530\u001b[0m \u001b[39mdef\u001b[39;00m \u001b[39mf\u001b[39m(params, \u001b[39m*\u001b[39margs):\n\u001b[0;32m--> 531\u001b[0m     \u001b[39mreturn\u001b[39;00m \u001b[39m-\u001b[39m\u001b[39mself\u001b[39;49m\u001b[39m.\u001b[39;49mloglike(params, \u001b[39m*\u001b[39;49margs) \u001b[39m/\u001b[39m nobs\n",
      "File \u001b[0;32m~/.pyenv/versions/3.8.12/envs/rex-env/lib/python3.8/site-packages/statsmodels/tsa/statespace/mlemodel.py:939\u001b[0m, in \u001b[0;36mMLEModel.loglike\u001b[0;34m(self, params, *args, **kwargs)\u001b[0m\n\u001b[1;32m    936\u001b[0m \u001b[39mif\u001b[39;00m complex_step:\n\u001b[1;32m    937\u001b[0m     kwargs[\u001b[39m'\u001b[39m\u001b[39minversion_method\u001b[39m\u001b[39m'\u001b[39m] \u001b[39m=\u001b[39m INVERT_UNIVARIATE \u001b[39m|\u001b[39m SOLVE_LU\n\u001b[0;32m--> 939\u001b[0m loglike \u001b[39m=\u001b[39m \u001b[39mself\u001b[39;49m\u001b[39m.\u001b[39;49mssm\u001b[39m.\u001b[39;49mloglike(complex_step\u001b[39m=\u001b[39;49mcomplex_step, \u001b[39m*\u001b[39;49m\u001b[39m*\u001b[39;49mkwargs)\n\u001b[1;32m    941\u001b[0m \u001b[39m# Koopman, Shephard, and Doornik recommend maximizing the average\u001b[39;00m\n\u001b[1;32m    942\u001b[0m \u001b[39m# likelihood to avoid scale issues, but the averaging is done\u001b[39;00m\n\u001b[1;32m    943\u001b[0m \u001b[39m# automatically in the base model `fit` method\u001b[39;00m\n\u001b[1;32m    944\u001b[0m \u001b[39mreturn\u001b[39;00m loglike\n",
      "File \u001b[0;32m~/.pyenv/versions/3.8.12/envs/rex-env/lib/python3.8/site-packages/statsmodels/tsa/statespace/kalman_filter.py:983\u001b[0m, in \u001b[0;36mKalmanFilter.loglike\u001b[0;34m(self, **kwargs)\u001b[0m\n\u001b[1;32m    967\u001b[0m \u001b[39mr\u001b[39m\u001b[39m\"\"\"\u001b[39;00m\n\u001b[1;32m    968\u001b[0m \u001b[39mCalculate the loglikelihood associated with the statespace model.\u001b[39;00m\n\u001b[1;32m    969\u001b[0m \n\u001b[0;32m   (...)\u001b[0m\n\u001b[1;32m    979\u001b[0m \u001b[39m    The joint loglikelihood.\u001b[39;00m\n\u001b[1;32m    980\u001b[0m \u001b[39m\"\"\"\u001b[39;00m\n\u001b[1;32m    981\u001b[0m kwargs\u001b[39m.\u001b[39msetdefault(\u001b[39m'\u001b[39m\u001b[39mconserve_memory\u001b[39m\u001b[39m'\u001b[39m,\n\u001b[1;32m    982\u001b[0m                   MEMORY_CONSERVE \u001b[39m^\u001b[39m MEMORY_NO_LIKELIHOOD)\n\u001b[0;32m--> 983\u001b[0m kfilter \u001b[39m=\u001b[39m \u001b[39mself\u001b[39;49m\u001b[39m.\u001b[39;49m_filter(\u001b[39m*\u001b[39;49m\u001b[39m*\u001b[39;49mkwargs)\n\u001b[1;32m    984\u001b[0m loglikelihood_burn \u001b[39m=\u001b[39m kwargs\u001b[39m.\u001b[39mget(\u001b[39m'\u001b[39m\u001b[39mloglikelihood_burn\u001b[39m\u001b[39m'\u001b[39m,\n\u001b[1;32m    985\u001b[0m                                 \u001b[39mself\u001b[39m\u001b[39m.\u001b[39mloglikelihood_burn)\n\u001b[1;32m    986\u001b[0m \u001b[39mif\u001b[39;00m \u001b[39mnot\u001b[39;00m (kwargs[\u001b[39m'\u001b[39m\u001b[39mconserve_memory\u001b[39m\u001b[39m'\u001b[39m] \u001b[39m&\u001b[39m MEMORY_NO_LIKELIHOOD):\n",
      "File \u001b[0;32m~/.pyenv/versions/3.8.12/envs/rex-env/lib/python3.8/site-packages/statsmodels/tsa/statespace/kalman_filter.py:906\u001b[0m, in \u001b[0;36mKalmanFilter._filter\u001b[0;34m(self, filter_method, inversion_method, stability_method, conserve_memory, filter_timing, tolerance, loglikelihood_burn, complex_step)\u001b[0m\n\u001b[1;32m    903\u001b[0m \u001b[39mself\u001b[39m\u001b[39m.\u001b[39m_initialize_state(prefix\u001b[39m=\u001b[39mprefix, complex_step\u001b[39m=\u001b[39mcomplex_step)\n\u001b[1;32m    905\u001b[0m \u001b[39m# Run the filter\u001b[39;00m\n\u001b[0;32m--> 906\u001b[0m kfilter()\n\u001b[1;32m    908\u001b[0m \u001b[39mreturn\u001b[39;00m kfilter\n",
      "\u001b[0;31mKeyboardInterrupt\u001b[0m: "
     ]
    }
   ],
   "source": [
    "# Loop over all the test values\n",
    "volatilities = {'next_hour_index': []}\n",
    "\n",
    "with warnings.catch_warnings():\n",
    "    warnings.simplefilter('ignore', category=Warning)\n",
    "    for row in list(test.index):\n",
    "        arima_forc_dict = {'next_hour_index': []}\n",
    "        \n",
    "        volatilities['next_hour_index'] = [row]\n",
    "        \n",
    "        vol_dict = {'next_hour_index': []}\n",
    "        for column in list(train_for_params.columns):\n",
    "\n",
    "            arima = ARIMA(train_for_params[column], order=params[column])\n",
    "            arima_fit = arima.fit()\n",
    "            forecast_results = arima_fit.get_forecast(1, alpha=0.05) # get_forecast( ) define the length of predictions\n",
    "            \n",
    "            arima_forc_dict['next_hour_index'] = list(forecast_results.predicted_mean.index) # hourly indexes we predict\n",
    "            arima_forc_dict[column] = list(forecast_results.predicted_mean) # forecast values\n",
    "            \n",
    "            # Use residuals in the Garch    \n",
    "            garch = arch.arch_model(arima_forc_dict[column], p=1, q=1)\n",
    "            garch_fitted = garch.fit()\n",
    "            # Use GARCH to predict the residual\n",
    "            garch_forecast = garch_fitted.forecast(horizon=1,reindex=False)\n",
    "            predicted_et = garch_forecast.mean['h.1'].iloc[-1]\n",
    "        \n",
    "            # Combine both models' output: yt = mu + et\n",
    "            volatility = arima_forc_dict[column] + predicted_et\n",
    "            # Put them into dict\n",
    "            vol_dict['next_hour_index'] = list(forecast_results.predicted_mean.index)\n",
    "            vol_dict[column] = volatility\n",
    "            print(colored(f'\\n \\n Predicted volatility for {column} currency is: {volatility}','red'))   \n",
    "            \n",
    "            # One row of prediction in dict format\n",
    "            volatilities[column] = [volatility]"
   ]
  },
  {
   "cell_type": "code",
   "execution_count": 64,
   "metadata": {},
   "outputs": [
    {
     "data": {
      "text/plain": [
       "{'next_hour_index': [Timestamp('2021-12-24 05:00:00+0000', tz='UTC')],\n",
       " 'AUD': [array([-8.50405322e-06])],\n",
       " 'CAD': [array([2.99580845e-06])],\n",
       " 'CHF': [array([1.22591979e-05])],\n",
       " 'EUR': [array([3.08521888e-05])],\n",
       " 'GBP': [array([5.64713156e-05])],\n",
       " 'JPY': [array([8.76412152e-05])],\n",
       " 'NZD': [array([0.00013252])],\n",
       " 'USD': [array([0.0002071])]}"
      ]
     },
     "execution_count": 64,
     "metadata": {},
     "output_type": "execute_result"
    }
   ],
   "source": [
    "volatilities"
   ]
  },
  {
   "cell_type": "code",
   "execution_count": 65,
   "metadata": {},
   "outputs": [],
   "source": [
    "vol_df = pd.DataFrame.from_dict(volatilities).set_index('next_hour_index')"
   ]
  },
  {
   "cell_type": "code",
   "execution_count": 66,
   "metadata": {},
   "outputs": [
    {
     "data": {
      "text/html": [
       "<div>\n",
       "<style scoped>\n",
       "    .dataframe tbody tr th:only-of-type {\n",
       "        vertical-align: middle;\n",
       "    }\n",
       "\n",
       "    .dataframe tbody tr th {\n",
       "        vertical-align: top;\n",
       "    }\n",
       "\n",
       "    .dataframe thead th {\n",
       "        text-align: right;\n",
       "    }\n",
       "</style>\n",
       "<table border=\"1\" class=\"dataframe\">\n",
       "  <thead>\n",
       "    <tr style=\"text-align: right;\">\n",
       "      <th></th>\n",
       "      <th>AUD</th>\n",
       "      <th>CAD</th>\n",
       "      <th>CHF</th>\n",
       "      <th>EUR</th>\n",
       "      <th>GBP</th>\n",
       "      <th>JPY</th>\n",
       "      <th>NZD</th>\n",
       "      <th>USD</th>\n",
       "    </tr>\n",
       "    <tr>\n",
       "      <th>next_hour_index</th>\n",
       "      <th></th>\n",
       "      <th></th>\n",
       "      <th></th>\n",
       "      <th></th>\n",
       "      <th></th>\n",
       "      <th></th>\n",
       "      <th></th>\n",
       "      <th></th>\n",
       "    </tr>\n",
       "  </thead>\n",
       "  <tbody>\n",
       "    <tr>\n",
       "      <th>2021-12-24 05:00:00+00:00</th>\n",
       "      <td>[-8.504053217740633e-06]</td>\n",
       "      <td>[2.99580844700799e-06]</td>\n",
       "      <td>[1.2259197913438067e-05]</td>\n",
       "      <td>[3.085218875846146e-05]</td>\n",
       "      <td>[5.6471315631051435e-05]</td>\n",
       "      <td>[8.764121518365675e-05]</td>\n",
       "      <td>[0.00013251678038494544]</td>\n",
       "      <td>[0.00020710201536950336]</td>\n",
       "    </tr>\n",
       "  </tbody>\n",
       "</table>\n",
       "</div>"
      ],
      "text/plain": [
       "                                                AUD                     CAD  \\\n",
       "next_hour_index                                                               \n",
       "2021-12-24 05:00:00+00:00  [-8.504053217740633e-06]  [2.99580844700799e-06]   \n",
       "\n",
       "                                                CHF                      EUR  \\\n",
       "next_hour_index                                                                \n",
       "2021-12-24 05:00:00+00:00  [1.2259197913438067e-05]  [3.085218875846146e-05]   \n",
       "\n",
       "                                                GBP                      JPY  \\\n",
       "next_hour_index                                                                \n",
       "2021-12-24 05:00:00+00:00  [5.6471315631051435e-05]  [8.764121518365675e-05]   \n",
       "\n",
       "                                                NZD                       USD  \n",
       "next_hour_index                                                                \n",
       "2021-12-24 05:00:00+00:00  [0.00013251678038494544]  [0.00020710201536950336]  "
      ]
     },
     "execution_count": 66,
     "metadata": {},
     "output_type": "execute_result"
    }
   ],
   "source": [
    "vol_df"
   ]
  },
  {
   "cell_type": "code",
   "execution_count": null,
   "metadata": {},
   "outputs": [],
   "source": []
  }
 ],
 "metadata": {
  "kernelspec": {
   "display_name": "Python 3.8.12 64-bit ('rex-env')",
   "language": "python",
   "name": "python3"
  },
  "language_info": {
   "codemirror_mode": {
    "name": "ipython",
    "version": 3
   },
   "file_extension": ".py",
   "mimetype": "text/x-python",
   "name": "python",
   "nbconvert_exporter": "python",
   "pygments_lexer": "ipython3",
   "version": "3.8.12"
  },
  "orig_nbformat": 4,
  "vscode": {
   "interpreter": {
    "hash": "54e42423db0fb8ea268e34fb706f91ff8ae1327ccc879a5a37f3b129500dd3b6"
   }
  }
 },
 "nbformat": 4,
 "nbformat_minor": 2
}
