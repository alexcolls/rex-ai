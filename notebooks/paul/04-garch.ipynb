{
 "cells": [
  {
   "cell_type": "code",
   "execution_count": 95,
   "metadata": {},
   "outputs": [],
   "source": [
    "import os\n",
    "import numpy as np\n",
    "import pandas as pd\n",
    "\n",
    "from datetime import datetime, date, timedelta\n",
    "\n",
    "import warnings\n",
    "from termcolor import colored\n",
    "\n",
    "# from db.bin.indicators import lowpass_filter\n",
    "from scipy.signal import butter,lfilter\n",
    "\n",
    "from statsmodels.tsa.arima.model import ARIMA\n",
    "import arch\n",
    "\n",
    "from tqdm import tqdm\n",
    "from pathlib import Path"
   ]
  },
  {
   "cell_type": "code",
   "execution_count": 2,
   "metadata": {},
   "outputs": [],
   "source": [
    "DATA_PATH = os.path.join(os.path.abspath('../../'), 'db', 'data')\n",
    "TERTIARY_PATH = os.path.join(DATA_PATH, 'tertiary')\n",
    "wpath = os.path.join(DATA_PATH, 'merge')"
   ]
  },
  {
   "cell_type": "code",
   "execution_count": 67,
   "metadata": {},
   "outputs": [
    {
     "name": "stdout",
     "output_type": "stream",
     "text": [
      "                                AUD       CAD       CHF       EUR       GBP  \\\n",
      "2022-12-30 19:00:00+00:00  0.002751 -0.014591 -0.012273  0.051332 -0.011439   \n",
      "2022-12-30 20:00:00+00:00  0.002751 -0.014591 -0.012273  0.051332 -0.011439   \n",
      "2022-12-30 21:00:00+00:00  0.002751 -0.014591 -0.012273  0.051332 -0.011439   \n",
      "2022-12-30 22:00:00+00:00  0.002751 -0.014591 -0.012273  0.051332 -0.011439   \n",
      "2022-12-30 23:00:00+00:00  0.002751 -0.014591 -0.012273  0.051332 -0.011439   \n",
      "\n",
      "                                JPY       NZD       USD  \n",
      "2022-12-30 19:00:00+00:00  0.004353  0.005516 -0.025649  \n",
      "2022-12-30 20:00:00+00:00  0.004353  0.005516 -0.025649  \n",
      "2022-12-30 21:00:00+00:00  0.004353  0.005516 -0.025649  \n",
      "2022-12-30 22:00:00+00:00  0.004353  0.005516 -0.025649  \n",
      "2022-12-30 23:00:00+00:00  0.004353  0.005516 -0.025649  \n"
     ]
    },
    {
     "data": {
      "text/plain": [
       "Timestamp('2022-08-01 00:00:00+0000', tz='UTC')"
      ]
     },
     "execution_count": 67,
     "metadata": {},
     "output_type": "execute_result"
    }
   ],
   "source": [
    "# Curency indexes dataframe\n",
    "raw = pd.read_csv(os.path.join(wpath, os.path.basename(TERTIARY_PATH), 'logs_.csv'), parse_dates=['Unnamed: 0'], index_col='Unnamed: 0')\n",
    "raw.index = pd.to_datetime(raw.index.values)\n",
    "print(raw.tail())\n",
    "\n",
    "# today = datetime.now()\n",
    "# hour = datetime( today.year, today.month, today.day, today.hour)\n",
    "# today = date.today()\n",
    "# today\n",
    "max = datetime(2022, 8, 1)\n",
    "max = pd.Timestamp(max,tz='UTC')\n",
    "max"
   ]
  },
  {
   "cell_type": "code",
   "execution_count": 103,
   "metadata": {},
   "outputs": [
    {
     "data": {
      "text/plain": [
       "Timestamp('2022-08-01 01:00:00+0000', tz='UTC')"
      ]
     },
     "execution_count": 103,
     "metadata": {},
     "output_type": "execute_result"
    }
   ],
   "source": [
    "# timedelta(hours=1)"
   ]
  },
  {
   "cell_type": "code",
   "execution_count": 68,
   "metadata": {},
   "outputs": [
    {
     "data": {
      "text/plain": [
       "(115221, 8)"
      ]
     },
     "execution_count": 68,
     "metadata": {},
     "output_type": "execute_result"
    }
   ],
   "source": [
    "df = raw[raw.index < max]\n",
    "\n",
    "# min = datetime(2021, 2, 1)\n",
    "# min = pd.Timestamp(min,tz='UTC')\n",
    "\n",
    "# df = raw[raw.index > min]\n",
    "\n",
    "df.shape"
   ]
  },
  {
   "cell_type": "code",
   "execution_count": 69,
   "metadata": {},
   "outputs": [],
   "source": [
    "# Filter requirements.\n",
    "# T = df.shape[0]         # Sample Period\n",
    "fs = 30.0       # sample rate, Hz\n",
    "cutoff = 2      # desired cutoff frequency of the filter, Hz ,      slightly higher than actual 1.2 Hz\n",
    "nyq = 0.5 * fs  # Nyquist Frequency\n",
    "order = 2       # sin wave can be approx represented as quadratic\n",
    "# n = int(T * fs) # total number of samples\n",
    "\n",
    "def butter_lowpass_filter(data, cutoff, fs, order):\n",
    "    normal_cutoff = cutoff / nyq\n",
    "    # Get the filter coefficients \n",
    "    b, a = butter(order, normal_cutoff, btype='low', analog=False)\n",
    "    y = lfilter(b, a, data)\n",
    "    return y"
   ]
  },
  {
   "cell_type": "code",
   "execution_count": 70,
   "metadata": {},
   "outputs": [
    {
     "name": "stdout",
     "output_type": "stream",
     "text": [
      "3840\n",
      "\n",
      "\n",
      "(115221, 8)\n",
      "<class 'pandas.core.indexes.datetimes.DatetimeIndex'>\n",
      "2022-07-31 23:00:00+00:00\n",
      "\n",
      "(111381, 8)\n",
      "DatetimeIndex(['2005-01-02 19:00:00+00:00', '2005-01-02 20:00:00+00:00',\n",
      "               '2005-01-02 21:00:00+00:00', '2005-01-02 22:00:00+00:00',\n",
      "               '2005-01-02 23:00:00+00:00', '2005-01-03 00:00:00+00:00',\n",
      "               '2005-01-03 01:00:00+00:00', '2005-01-03 02:00:00+00:00',\n",
      "               '2005-01-03 03:00:00+00:00', '2005-01-03 04:00:00+00:00',\n",
      "               ...\n",
      "               '2021-12-23 10:00:00+00:00', '2021-12-23 11:00:00+00:00',\n",
      "               '2021-12-23 12:00:00+00:00', '2021-12-23 13:00:00+00:00',\n",
      "               '2021-12-23 14:00:00+00:00', '2021-12-23 15:00:00+00:00',\n",
      "               '2021-12-23 16:00:00+00:00', '2021-12-23 17:00:00+00:00',\n",
      "               '2021-12-23 18:00:00+00:00', '2021-12-23 19:00:00+00:00'],\n",
      "              dtype='datetime64[ns, UTC]', length=111381, freq=None)\n",
      "\n",
      "(3840, 8)\n",
      "DatetimeIndex(['2021-12-23 20:00:00+00:00', '2021-12-23 21:00:00+00:00',\n",
      "               '2021-12-23 22:00:00+00:00', '2021-12-23 23:00:00+00:00',\n",
      "               '2021-12-24 00:00:00+00:00', '2021-12-24 01:00:00+00:00',\n",
      "               '2021-12-24 02:00:00+00:00', '2021-12-24 03:00:00+00:00',\n",
      "               '2021-12-24 04:00:00+00:00', '2021-12-24 05:00:00+00:00',\n",
      "               ...\n",
      "               '2022-07-29 17:00:00+00:00', '2022-07-29 18:00:00+00:00',\n",
      "               '2022-07-29 19:00:00+00:00', '2022-07-29 20:00:00+00:00',\n",
      "               '2022-07-29 21:00:00+00:00', '2022-07-29 22:00:00+00:00',\n",
      "               '2022-07-29 23:00:00+00:00', '2022-07-31 21:00:00+00:00',\n",
      "               '2022-07-31 22:00:00+00:00', '2022-07-31 23:00:00+00:00'],\n",
      "              dtype='datetime64[ns, UTC]', length=3840, freq=None)\n"
     ]
    }
   ],
   "source": [
    "df = pd.DataFrame(butter_lowpass_filter(df, cutoff, fs, order), index=df.index, columns=df.columns)\n",
    "split = int(len(df.index)/30)\n",
    "print(split)\n",
    "train = df[:-split]\n",
    "test = df[-split:]\n",
    "# train.index = pd.to_datetime(train.index).to_period('H').to_timestamp().values\n",
    "# test.index = pd.to_datetime(test.index).to_period('H').to_timestamp().values\n",
    "print(f'\\n\\n{df.shape}\\n{type(df.index)}\\n{df.index[-1]}\\n\\n{train.shape}\\n{train.index}\\n\\n{test.shape}\\n{test.index}')"
   ]
  },
  {
   "cell_type": "markdown",
   "metadata": {},
   "source": [
    "## a)  Find p & q for each currency fro the last 10000 values of the trainset\n",
    "\n",
    "{'AUD': (1, 0, 0), 'CAD': (2, 0, 1), 'CHF': (2, 0, 1), 'EUR': (2, 0, 1), 'GBP': (2, 0, 1), 'JPY': (2, 0, 1), 'NZD': (2, 0, 1), 'USD': (2, 0, 1)}"
   ]
  },
  {
   "cell_type": "code",
   "execution_count": 71,
   "metadata": {},
   "outputs": [],
   "source": [
    "### Take some optimsed params\n",
    "# params = {'AUD': (1, 0, 0), 'CAD': (2, 0, 1), 'CHF': (2, 0, 1), 'EUR': (2, 0, 1), 'GBP': (2, 0, 1), 'JPY': (2, 0, 1), 'NZD': (2, 0, 1), 'USD': (2, 0, 1)}"
   ]
  },
  {
   "cell_type": "code",
   "execution_count": null,
   "metadata": {},
   "outputs": [],
   "source": [
    "train_for_params = df[-4320:]\n",
    "\n",
    "params = {}\n",
    "with warnings.catch_warnings():\n",
    "    warnings.simplefilter('ignore', category=Warning)\n",
    "    for c in tqdm(list(train_for_params.columns)):\n",
    "        res = arma_order_select_ic(train_for_params[c].values, max_ar=4, max_ma=2, ic='aic')\n",
    "        # print(f'{c} mle retvals: {res.mle_retvals}')\n",
    "        params[c] = (res.aic_min_order[0], 0, res.aic_min_order[1])\n",
    "print(params)"
   ]
  },
  {
   "cell_type": "code",
   "execution_count": 10,
   "metadata": {},
   "outputs": [
    {
     "name": "stdout",
     "output_type": "stream",
     "text": [
      "CPU times: user 22 µs, sys: 2 µs, total: 24 µs\n",
      "Wall time: 27.9 µs\n"
     ]
    }
   ],
   "source": [
    "%%time\n",
    "from statsmodels.tsa.stattools import arma_order_select_ic\n",
    "\n",
    "def optimiseParams(data):\n",
    "\n",
    "    train_for_params = data[-4320:] ### PARAMS are based on the 1 month of hourly historical data\n",
    "    params = {}\n",
    "    with warnings.catch_warnings():\n",
    "        warnings.simplefilter('ignore', category=Warning)\n",
    "        for c in tqdm(list(train_for_params.columns)):\n",
    "            res = arma_order_select_ic(train_for_params[c].values, max_ar=4, max_ma=2, ic='aic')\n",
    "            # print(f'{c} mle retvals: {res.mle_retvals}')\n",
    "            params[c] = (res.aic_min_order[0], 0, res.aic_min_order[1])\n",
    "    return params"
   ]
  },
  {
   "cell_type": "code",
   "execution_count": 12,
   "metadata": {},
   "outputs": [
    {
     "name": "stderr",
     "output_type": "stream",
     "text": [
      "100%|██████████| 8/8 [03:41<00:00, 27.71s/it]\n"
     ]
    }
   ],
   "source": [
    "params = optimiseParams(train)\n",
    "# params = {'AUD': (1, 0, 2), 'CAD': (0, 0, 2), 'CHF': (0, 0, 2), 'EUR': (0, 0, 2), 'GBP': (0, 0, 2), 'JPY': (0, 0, 2), 'NZD': (2, 0, 0), 'USD': (2, 0, 0)}"
   ]
  },
  {
   "cell_type": "code",
   "execution_count": 72,
   "metadata": {},
   "outputs": [
    {
     "data": {
      "text/plain": [
       "{'AUD': (1, 0, 2),\n",
       " 'CAD': (0, 0, 2),\n",
       " 'CHF': (0, 0, 2),\n",
       " 'EUR': (0, 0, 2),\n",
       " 'GBP': (0, 0, 2),\n",
       " 'JPY': (0, 0, 2),\n",
       " 'NZD': (2, 0, 0),\n",
       " 'USD': (2, 0, 0)}"
      ]
     },
     "execution_count": 72,
     "metadata": {},
     "output_type": "execute_result"
    }
   ],
   "source": [
    "params"
   ]
  },
  {
   "cell_type": "markdown",
   "metadata": {},
   "source": [
    "# Train on the subset of last rows of the train set"
   ]
  },
  {
   "cell_type": "code",
   "execution_count": 73,
   "metadata": {},
   "outputs": [
    {
     "name": "stdout",
     "output_type": "stream",
     "text": [
      "(50000, 8)\n"
     ]
    }
   ],
   "source": [
    "train_df = train[-50000:] \n",
    "print(train_df.shape)\n",
    "\n",
    "# train_df.index = pd.to_datetime(train_df.index)\n",
    "# train_df.head()"
   ]
  },
  {
   "cell_type": "code",
   "execution_count": 108,
   "metadata": {},
   "outputs": [
    {
     "data": {
      "text/plain": [
       "Timestamp('2021-12-23 19:00:00+0000', tz='UTC')"
      ]
     },
     "execution_count": 108,
     "metadata": {},
     "output_type": "execute_result"
    }
   ],
   "source": [
    "train_df.index[-1]"
   ]
  },
  {
   "cell_type": "code",
   "execution_count": 133,
   "metadata": {},
   "outputs": [],
   "source": [
    "def getArimaGarch(training_subset):\n",
    "    '''\n",
    "    Get volatility with ARIMA+GARCH prediction pd.Series for the all training_subset.columns\n",
    "    '''\n",
    "    \n",
    "    with warnings.catch_warnings():\n",
    "        warnings.simplefilter('ignore', category=Warning)\n",
    "        warnings.warn = lambda *a, **kw: False\n",
    "            \n",
    "        arima_forc_dict = {'next_hour_index': []}\n",
    "        vol_dict = {'next_hour_index': []}\n",
    "        for column in list(training_subset.columns):\n",
    "\n",
    "            arima = ARIMA(training_subset[column], order=params[column])\n",
    "            arima_fit = arima.fit()\n",
    "            forecast_results = arima_fit.get_forecast(1, alpha=0.05) # get_forecast( ) define the length of predictions\n",
    "            # let's use train.index to populate indexes with dates\n",
    "            arima_forc_dict['next_hour_index'] = training_subset.index[-1] + timedelta(hours=1) # hourly indexes we predict\n",
    "            arima_forc_dict[column] = list(forecast_results.predicted_mean) # forecast values\n",
    "            print(forecast_results.predicted_mean.index)\n",
    "            \n",
    "            # Use residuals in the Garch    \n",
    "            garch = arch.arch_model(arima_forc_dict[column], p=1, q=1)\n",
    "            garch_fitted = garch.fit()\n",
    "            # Use GARCH to predict the residual\n",
    "            garch_forecast = garch_fitted.forecast(horizon=1,reindex=False)\n",
    "            predicted_et = garch_forecast.mean['h.1'].iloc[-1]\n",
    "        \n",
    "            # Combine both models' output: yt = mu + et\n",
    "            volatility = arima_forc_dict[column] + predicted_et\n",
    "            # Put them into dict\n",
    "            vol_dict['next_hour_index'] = arima_forc_dict['next_hour_index']\n",
    "            vol_dict[column] = volatility\n",
    "            # print(colored(f'\\n \\n Predicted volatility for {column} currency is: {volatility}','red'))   \n",
    "        \n",
    "        vol_df = pd.DataFrame.from_dict(vol_dict).set_index('next_hour_index')\n",
    "        vol_df.index = pd.to_datetime(vol_df.index.values)\n",
    "        print(colored(f'\\n Output at date time {vol_df.index} Dataframe {vol_df}','red'))   \n",
    "        return vol_df"
   ]
  },
  {
   "cell_type": "code",
   "execution_count": 134,
   "metadata": {},
   "outputs": [
    {
     "name": "stdout",
     "output_type": "stream",
     "text": [
      "(50000, 8)\n",
      "RangeIndex(start=50000, stop=50001, step=1)\n",
      "Iteration:      1,   Func. Count:      4,   Neg. LLF: nan\n",
      "Inequality constraints incompatible    (Exit mode 4)\n",
      "            Current function value: nan\n",
      "            Iterations: 1\n",
      "            Function evaluations: 4\n",
      "            Gradient evaluations: 1\n",
      "RangeIndex(start=50000, stop=50001, step=1)\n",
      "Iteration:      1,   Func. Count:      4,   Neg. LLF: nan\n",
      "Inequality constraints incompatible    (Exit mode 4)\n",
      "            Current function value: nan\n",
      "            Iterations: 1\n",
      "            Function evaluations: 4\n",
      "            Gradient evaluations: 1\n",
      "RangeIndex(start=50000, stop=50001, step=1)\n",
      "Iteration:      1,   Func. Count:      4,   Neg. LLF: nan\n",
      "Inequality constraints incompatible    (Exit mode 4)\n",
      "            Current function value: nan\n",
      "            Iterations: 1\n",
      "            Function evaluations: 4\n",
      "            Gradient evaluations: 1\n",
      "RangeIndex(start=50000, stop=50001, step=1)\n",
      "Iteration:      1,   Func. Count:      4,   Neg. LLF: nan\n",
      "Inequality constraints incompatible    (Exit mode 4)\n",
      "            Current function value: nan\n",
      "            Iterations: 1\n",
      "            Function evaluations: 4\n",
      "            Gradient evaluations: 1\n",
      "RangeIndex(start=50000, stop=50001, step=1)\n",
      "Iteration:      1,   Func. Count:      4,   Neg. LLF: nan\n",
      "Inequality constraints incompatible    (Exit mode 4)\n",
      "            Current function value: nan\n",
      "            Iterations: 1\n",
      "            Function evaluations: 4\n",
      "            Gradient evaluations: 1\n",
      "RangeIndex(start=50000, stop=50001, step=1)\n",
      "Iteration:      1,   Func. Count:      4,   Neg. LLF: nan\n",
      "Inequality constraints incompatible    (Exit mode 4)\n",
      "            Current function value: nan\n",
      "            Iterations: 1\n",
      "            Function evaluations: 4\n",
      "            Gradient evaluations: 1\n",
      "RangeIndex(start=50000, stop=50001, step=1)\n",
      "Iteration:      1,   Func. Count:      4,   Neg. LLF: nan\n",
      "Inequality constraints incompatible    (Exit mode 4)\n",
      "            Current function value: nan\n",
      "            Iterations: 1\n",
      "            Function evaluations: 4\n",
      "            Gradient evaluations: 1\n",
      "RangeIndex(start=50000, stop=50001, step=1)\n",
      "Iteration:      1,   Func. Count:      4,   Neg. LLF: nan\n",
      "Inequality constraints incompatible    (Exit mode 4)\n",
      "            Current function value: nan\n",
      "            Iterations: 1\n",
      "            Function evaluations: 4\n",
      "            Gradient evaluations: 1\n",
      "\u001b[31m\n",
      " Output at date time DatetimeIndex(['2021-12-23 20:00:00'], dtype='datetime64[ns]', freq=None) Dataframe                           AUD       CAD       CHF           EUR       GBP  \\\n",
      "2021-12-23 20:00:00 -0.000015 -0.000105 -0.000107  1.899284e-07  0.000143   \n",
      "\n",
      "                          JPY       NZD       USD  \n",
      "2021-12-23 20:00:00  0.000101  0.000107  0.000049  \u001b[0m\n"
     ]
    }
   ],
   "source": [
    "# %%time\n",
    "print(train_df.shape)\n",
    "vol_row_df = getArimaGarch(train_df)"
   ]
  },
  {
   "cell_type": "code",
   "execution_count": 135,
   "metadata": {},
   "outputs": [
    {
     "data": {
      "text/html": [
       "<div>\n",
       "<style scoped>\n",
       "    .dataframe tbody tr th:only-of-type {\n",
       "        vertical-align: middle;\n",
       "    }\n",
       "\n",
       "    .dataframe tbody tr th {\n",
       "        vertical-align: top;\n",
       "    }\n",
       "\n",
       "    .dataframe thead th {\n",
       "        text-align: right;\n",
       "    }\n",
       "</style>\n",
       "<table border=\"1\" class=\"dataframe\">\n",
       "  <thead>\n",
       "    <tr style=\"text-align: right;\">\n",
       "      <th></th>\n",
       "      <th>AUD</th>\n",
       "      <th>CAD</th>\n",
       "      <th>CHF</th>\n",
       "      <th>EUR</th>\n",
       "      <th>GBP</th>\n",
       "      <th>JPY</th>\n",
       "      <th>NZD</th>\n",
       "      <th>USD</th>\n",
       "    </tr>\n",
       "  </thead>\n",
       "  <tbody>\n",
       "    <tr>\n",
       "      <th>2021-12-23 20:00:00</th>\n",
       "      <td>-0.000015</td>\n",
       "      <td>-0.000105</td>\n",
       "      <td>-0.000107</td>\n",
       "      <td>1.899284e-07</td>\n",
       "      <td>0.000143</td>\n",
       "      <td>0.000101</td>\n",
       "      <td>0.000107</td>\n",
       "      <td>0.000049</td>\n",
       "    </tr>\n",
       "  </tbody>\n",
       "</table>\n",
       "</div>"
      ],
      "text/plain": [
       "                          AUD       CAD       CHF           EUR       GBP  \\\n",
       "2021-12-23 20:00:00 -0.000015 -0.000105 -0.000107  1.899284e-07  0.000143   \n",
       "\n",
       "                          JPY       NZD       USD  \n",
       "2021-12-23 20:00:00  0.000101  0.000107  0.000049  "
      ]
     },
     "execution_count": 135,
     "metadata": {},
     "output_type": "execute_result"
    }
   ],
   "source": [
    "vol_row_df"
   ]
  },
  {
   "cell_type": "markdown",
   "metadata": {},
   "source": [
    "# Evaluate ArimaGarch model and return it's results for the `last_hours` from the trainset, save to CSV\n",
    "function contain split of data inside and embedded window function"
   ]
  },
  {
   "cell_type": "code",
   "execution_count": 137,
   "metadata": {},
   "outputs": [],
   "source": [
    "def evaluateArimaGarch(data, last_hours=336):\n",
    "    '''\n",
    "    Loop getVolatility function over the rows and produce df with predictions\n",
    "    Create dataframe and file with the all prediction and create a file\n",
    "    '''    \n",
    "    ### Split to limit training dataset, 4230 is equal to 6 months depth of hourly data\n",
    "    split = 2160\n",
    "    #### Define i for window function and increasing number of rows\n",
    "    with warnings.catch_warnings():\n",
    "        warnings.simplefilter('ignore', category=Warning)\n",
    "        warnings.warn = lambda *a, **kw: False\n",
    "\n",
    "        for i in tqdm(range(last_hours)): #### 336 times windows therefore we get predicted hours for the historical dataset\n",
    "            ### Optional training subset for the getVolatility Arima+Garch model. Train on smaller portion\n",
    "            train_df = data[-split-i:-last_hours-i]\n",
    "            # train_df = train_df[-4320:]\n",
    "            ### Get output for the each row with GetVolatility() using ARIMA+GARCH\n",
    "            vol_row_df = getArimaGarch(train_df)\n",
    "            ### Save row to csv file\n",
    "            file_path = os.path.join(DATA_PATH, \"arimagarch\")\n",
    "            Path(file_path).mkdir(parents=True, exist_ok=True)\n",
    "            vol_row_df.to_csv(os.path.join(file_path, \"arimagarch.csv\"), index = True, header = False, mode='a')\n",
    "    return"
   ]
  },
  {
   "cell_type": "code",
   "execution_count": null,
   "metadata": {},
   "outputs": [],
   "source": [
    "## Run global function on the whole subset \n",
    "evaluateArimaGarch(df)"
   ]
  },
  {
   "cell_type": "markdown",
   "metadata": {},
   "source": [
    "# Get Master Volatility and save at once\n",
    "function contain split of data inside and embedded window function"
   ]
  },
  {
   "cell_type": "code",
   "execution_count": 143,
   "metadata": {},
   "outputs": [
    {
     "name": "stdout",
     "output_type": "stream",
     "text": [
      "CPU times: user 30 µs, sys: 2 µs, total: 32 µs\n",
      "Wall time: 36.2 µs\n"
     ]
    }
   ],
   "source": [
    "%%time\n",
    "from tqdm import tqdm\n",
    "from pathlib import Path\n",
    "\n",
    "def getMasterArimaGarch(data, last_hours=336):\n",
    "        '''\n",
    "        Loop getVolatility function over the rows and produce df with predictions\n",
    "        Create dataframe and file with the all prediction and create a file\n",
    "        '''\n",
    "               \n",
    "        ### Split only to limit nr of rows output and time of processing\n",
    "        split = 2160 # 3 months\n",
    "        #### Define i for window function and increasing number of rows\n",
    "        volatilities = {}\n",
    "        for i in tqdm(range(last_hours)):\n",
    "            train_df = data[-split-i:-last_hours-i]\n",
    "            ### Optional training subset for the getVolatility Arima+Garch model. Train on smaller portion\n",
    "            # train_df = train_df[-4320:]\n",
    "            ### Get output for the each row with GetVolatility() using ARIMA+GARCH\n",
    "            vol_row_df = getArimaGarch(train_df)\n",
    "            volatilities[i] = vol_row_df.values.flatten().tolist()\n",
    "            ### Increase i for next window for the trainset\n",
    "\n",
    "        volatilities_df = pd.DataFrame(volatilities).T\n",
    "        volatilities_df.columns = vol_row_df.columns\n",
    "\n",
    "        print(\"\\n### CREATING arimagarch.csv ###\")\n",
    "        file_path = os.path.join(DATA_PATH, \"arimagarch\")\n",
    "        Path(file_path).mkdir(parents=True, exist_ok=True)\n",
    "        data.to_csv(os.path.join(file_path, \"arimagarch.csv\"))\n",
    "\n",
    "        return volatilities_df"
   ]
  },
  {
   "cell_type": "code",
   "execution_count": null,
   "metadata": {},
   "outputs": [],
   "source": [
    "%%time\n",
    "results_df = getMasterArimaGarch(df, 336)\n",
    "results_df"
   ]
  },
  {
   "cell_type": "code",
   "execution_count": 39,
   "metadata": {},
   "outputs": [],
   "source": [
    "from tqdm import tqdm\n",
    "from pathlib import Path\n",
    "\n",
    "def getMasterArimaGarch(self, data):\n",
    "        '''\n",
    "        Loop getVolatility function over the rows and produce df with predictions\n",
    "        Create dataframe and file with the all prediction and create a file\n",
    "        '''\n",
    "        \n",
    "        ### Split only to limit nr of rows output and time of processing\n",
    "        split = 4320\n",
    "        test_df = data[-split:]\n",
    "        #### Define i for window function and increasing number of rows\n",
    "        i=0\n",
    "        volatilities = {}\n",
    "        for row in tqdm(list(test_df.index)):\n",
    "            train_df = data[-2*split+i:-split+i]\n",
    "            ### Optional training subset for the getVolatility Arima+Garch model. Train on smaller portion\n",
    "            # train_df = train_df[-4320:]\n",
    "            ### Get output for the each row with GetVolatility() using ARIMA+GARCH\n",
    "            vol_row_df = self.getArimaGarch(train_df)\n",
    "            volatilities[row] = vol_row_df.values.flatten().tolist()\n",
    "            ### Increase i for next window for the trainset\n",
    "            i = i+1\n",
    "\n",
    "        volatilities_df = pd.DataFrame(volatilities).T\n",
    "        volatilities_df.columns = vol_row_df.columns\n",
    "\n",
    "        print(\"\\n### CREATING arimagarch.csv ###\")\n",
    "        file_path = os.path.join(DATA_PATH, \"arimagarch\")\n",
    "        Path(file_path).mkdir(parents=True, exist_ok=True)\n",
    "        data.to_csv(os.path.join(file_path, \"arimagarch.csv\"))\n",
    "\n",
    "        return volatilities_df"
   ]
  },
  {
   "cell_type": "code",
   "execution_count": 252,
   "metadata": {},
   "outputs": [
    {
     "data": {
      "text/html": [
       "<div>\n",
       "<style scoped>\n",
       "    .dataframe tbody tr th:only-of-type {\n",
       "        vertical-align: middle;\n",
       "    }\n",
       "\n",
       "    .dataframe tbody tr th {\n",
       "        vertical-align: top;\n",
       "    }\n",
       "\n",
       "    .dataframe thead th {\n",
       "        text-align: right;\n",
       "    }\n",
       "</style>\n",
       "<table border=\"1\" class=\"dataframe\">\n",
       "  <thead>\n",
       "    <tr style=\"text-align: right;\">\n",
       "      <th></th>\n",
       "      <th>AUD</th>\n",
       "      <th>CAD</th>\n",
       "      <th>CHF</th>\n",
       "      <th>EUR</th>\n",
       "      <th>GBP</th>\n",
       "      <th>JPY</th>\n",
       "      <th>NZD</th>\n",
       "      <th>USD</th>\n",
       "    </tr>\n",
       "  </thead>\n",
       "  <tbody>\n",
       "    <tr>\n",
       "      <th>2022-07-29 07:00:00+00:00</th>\n",
       "      <td>-6.540205e-06</td>\n",
       "      <td>0.000028</td>\n",
       "      <td>-0.000082</td>\n",
       "      <td>-0.000260</td>\n",
       "      <td>-0.000713</td>\n",
       "      <td>-0.002137</td>\n",
       "      <td>-0.002900</td>\n",
       "      <td>-0.005990</td>\n",
       "    </tr>\n",
       "    <tr>\n",
       "      <th>2022-07-29 08:00:00+00:00</th>\n",
       "      <td>3.548562e-06</td>\n",
       "      <td>0.000017</td>\n",
       "      <td>0.000006</td>\n",
       "      <td>-0.000002</td>\n",
       "      <td>-0.000117</td>\n",
       "      <td>-0.000440</td>\n",
       "      <td>-0.001049</td>\n",
       "      <td>-0.001857</td>\n",
       "    </tr>\n",
       "    <tr>\n",
       "      <th>2022-07-29 09:00:00+00:00</th>\n",
       "      <td>-3.516150e-07</td>\n",
       "      <td>-0.000014</td>\n",
       "      <td>-0.000080</td>\n",
       "      <td>-0.000298</td>\n",
       "      <td>-0.000796</td>\n",
       "      <td>-0.001676</td>\n",
       "      <td>-0.000515</td>\n",
       "      <td>-0.002041</td>\n",
       "    </tr>\n",
       "    <tr>\n",
       "      <th>2022-07-29 10:00:00+00:00</th>\n",
       "      <td>-1.161071e-05</td>\n",
       "      <td>0.000037</td>\n",
       "      <td>0.000188</td>\n",
       "      <td>0.000486</td>\n",
       "      <td>0.000700</td>\n",
       "      <td>0.000347</td>\n",
       "      <td>0.000249</td>\n",
       "      <td>-0.000665</td>\n",
       "    </tr>\n",
       "    <tr>\n",
       "      <th>2022-07-29 11:00:00+00:00</th>\n",
       "      <td>-1.120008e-05</td>\n",
       "      <td>-0.000032</td>\n",
       "      <td>-0.000126</td>\n",
       "      <td>-0.000617</td>\n",
       "      <td>-0.002158</td>\n",
       "      <td>-0.005259</td>\n",
       "      <td>-0.009179</td>\n",
       "      <td>-0.009749</td>\n",
       "    </tr>\n",
       "    <tr>\n",
       "      <th>2022-07-29 12:00:00+00:00</th>\n",
       "      <td>-9.895858e-06</td>\n",
       "      <td>-0.000023</td>\n",
       "      <td>-0.000077</td>\n",
       "      <td>-0.000197</td>\n",
       "      <td>-0.000238</td>\n",
       "      <td>-0.002613</td>\n",
       "      <td>-0.003476</td>\n",
       "      <td>0.000904</td>\n",
       "    </tr>\n",
       "    <tr>\n",
       "      <th>2022-07-29 13:00:00+00:00</th>\n",
       "      <td>-1.200998e-05</td>\n",
       "      <td>-0.000029</td>\n",
       "      <td>-0.000175</td>\n",
       "      <td>-0.000791</td>\n",
       "      <td>-0.002628</td>\n",
       "      <td>-0.006549</td>\n",
       "      <td>-0.013112</td>\n",
       "      <td>-0.018245</td>\n",
       "    </tr>\n",
       "    <tr>\n",
       "      <th>2022-07-29 14:00:00+00:00</th>\n",
       "      <td>-8.506998e-06</td>\n",
       "      <td>0.000030</td>\n",
       "      <td>0.000124</td>\n",
       "      <td>0.000458</td>\n",
       "      <td>0.000904</td>\n",
       "      <td>0.000626</td>\n",
       "      <td>-0.001325</td>\n",
       "      <td>-0.004629</td>\n",
       "    </tr>\n",
       "    <tr>\n",
       "      <th>2022-07-29 15:00:00+00:00</th>\n",
       "      <td>-2.767775e-05</td>\n",
       "      <td>-0.000195</td>\n",
       "      <td>-0.000946</td>\n",
       "      <td>-0.002883</td>\n",
       "      <td>-0.006285</td>\n",
       "      <td>-0.012426</td>\n",
       "      <td>-0.015304</td>\n",
       "      <td>-0.020481</td>\n",
       "    </tr>\n",
       "    <tr>\n",
       "      <th>2022-07-29 16:00:00+00:00</th>\n",
       "      <td>-8.760380e-06</td>\n",
       "      <td>-0.000064</td>\n",
       "      <td>-0.000206</td>\n",
       "      <td>-0.000389</td>\n",
       "      <td>-0.003349</td>\n",
       "      <td>0.000646</td>\n",
       "      <td>0.002323</td>\n",
       "      <td>0.008482</td>\n",
       "    </tr>\n",
       "    <tr>\n",
       "      <th>2022-07-29 17:00:00+00:00</th>\n",
       "      <td>-9.529074e-06</td>\n",
       "      <td>-0.000012</td>\n",
       "      <td>-0.000094</td>\n",
       "      <td>-0.000115</td>\n",
       "      <td>-0.000125</td>\n",
       "      <td>-0.000103</td>\n",
       "      <td>0.000850</td>\n",
       "      <td>0.002483</td>\n",
       "    </tr>\n",
       "    <tr>\n",
       "      <th>2022-07-29 18:00:00+00:00</th>\n",
       "      <td>-1.258172e-05</td>\n",
       "      <td>-0.000038</td>\n",
       "      <td>-0.000118</td>\n",
       "      <td>-0.000343</td>\n",
       "      <td>-0.000729</td>\n",
       "      <td>0.000444</td>\n",
       "      <td>0.000476</td>\n",
       "      <td>0.001044</td>\n",
       "    </tr>\n",
       "    <tr>\n",
       "      <th>2022-07-29 19:00:00+00:00</th>\n",
       "      <td>-1.010474e-05</td>\n",
       "      <td>-0.000003</td>\n",
       "      <td>0.000005</td>\n",
       "      <td>0.000044</td>\n",
       "      <td>0.000143</td>\n",
       "      <td>-0.003624</td>\n",
       "      <td>-0.005282</td>\n",
       "      <td>-0.005153</td>\n",
       "    </tr>\n",
       "    <tr>\n",
       "      <th>2022-07-29 20:00:00+00:00</th>\n",
       "      <td>-6.117091e-06</td>\n",
       "      <td>-0.000016</td>\n",
       "      <td>-0.000023</td>\n",
       "      <td>-0.000042</td>\n",
       "      <td>-0.000034</td>\n",
       "      <td>0.002159</td>\n",
       "      <td>0.004741</td>\n",
       "      <td>0.006695</td>\n",
       "    </tr>\n",
       "    <tr>\n",
       "      <th>2022-07-29 21:00:00+00:00</th>\n",
       "      <td>-8.494415e-06</td>\n",
       "      <td>-0.000013</td>\n",
       "      <td>-0.000010</td>\n",
       "      <td>0.000017</td>\n",
       "      <td>0.001665</td>\n",
       "      <td>0.002630</td>\n",
       "      <td>0.003620</td>\n",
       "      <td>0.003257</td>\n",
       "    </tr>\n",
       "    <tr>\n",
       "      <th>2022-07-29 22:00:00+00:00</th>\n",
       "      <td>-7.406064e-06</td>\n",
       "      <td>0.000014</td>\n",
       "      <td>0.000071</td>\n",
       "      <td>0.000110</td>\n",
       "      <td>0.000438</td>\n",
       "      <td>0.000732</td>\n",
       "      <td>0.000898</td>\n",
       "      <td>0.001344</td>\n",
       "    </tr>\n",
       "    <tr>\n",
       "      <th>2022-07-29 23:00:00+00:00</th>\n",
       "      <td>-6.569038e-06</td>\n",
       "      <td>-0.000002</td>\n",
       "      <td>0.000018</td>\n",
       "      <td>0.000245</td>\n",
       "      <td>0.000493</td>\n",
       "      <td>0.000533</td>\n",
       "      <td>-0.002047</td>\n",
       "      <td>-0.003528</td>\n",
       "    </tr>\n",
       "    <tr>\n",
       "      <th>2022-07-31 21:00:00+00:00</th>\n",
       "      <td>-6.741360e-06</td>\n",
       "      <td>0.000009</td>\n",
       "      <td>0.000110</td>\n",
       "      <td>0.000234</td>\n",
       "      <td>0.000742</td>\n",
       "      <td>0.001389</td>\n",
       "      <td>-0.002839</td>\n",
       "      <td>-0.003389</td>\n",
       "    </tr>\n",
       "    <tr>\n",
       "      <th>2022-07-31 22:00:00+00:00</th>\n",
       "      <td>-6.902246e-06</td>\n",
       "      <td>0.000021</td>\n",
       "      <td>0.000165</td>\n",
       "      <td>0.000513</td>\n",
       "      <td>-0.000233</td>\n",
       "      <td>-0.001015</td>\n",
       "      <td>0.004216</td>\n",
       "      <td>0.004709</td>\n",
       "    </tr>\n",
       "    <tr>\n",
       "      <th>2022-07-31 23:00:00+00:00</th>\n",
       "      <td>-1.071045e-05</td>\n",
       "      <td>0.000024</td>\n",
       "      <td>0.000123</td>\n",
       "      <td>0.000377</td>\n",
       "      <td>0.000661</td>\n",
       "      <td>0.000667</td>\n",
       "      <td>-0.000099</td>\n",
       "      <td>-0.001230</td>\n",
       "    </tr>\n",
       "  </tbody>\n",
       "</table>\n",
       "</div>"
      ],
      "text/plain": [
       "                                    AUD       CAD       CHF       EUR  \\\n",
       "2022-07-29 07:00:00+00:00 -6.540205e-06  0.000028 -0.000082 -0.000260   \n",
       "2022-07-29 08:00:00+00:00  3.548562e-06  0.000017  0.000006 -0.000002   \n",
       "2022-07-29 09:00:00+00:00 -3.516150e-07 -0.000014 -0.000080 -0.000298   \n",
       "2022-07-29 10:00:00+00:00 -1.161071e-05  0.000037  0.000188  0.000486   \n",
       "2022-07-29 11:00:00+00:00 -1.120008e-05 -0.000032 -0.000126 -0.000617   \n",
       "2022-07-29 12:00:00+00:00 -9.895858e-06 -0.000023 -0.000077 -0.000197   \n",
       "2022-07-29 13:00:00+00:00 -1.200998e-05 -0.000029 -0.000175 -0.000791   \n",
       "2022-07-29 14:00:00+00:00 -8.506998e-06  0.000030  0.000124  0.000458   \n",
       "2022-07-29 15:00:00+00:00 -2.767775e-05 -0.000195 -0.000946 -0.002883   \n",
       "2022-07-29 16:00:00+00:00 -8.760380e-06 -0.000064 -0.000206 -0.000389   \n",
       "2022-07-29 17:00:00+00:00 -9.529074e-06 -0.000012 -0.000094 -0.000115   \n",
       "2022-07-29 18:00:00+00:00 -1.258172e-05 -0.000038 -0.000118 -0.000343   \n",
       "2022-07-29 19:00:00+00:00 -1.010474e-05 -0.000003  0.000005  0.000044   \n",
       "2022-07-29 20:00:00+00:00 -6.117091e-06 -0.000016 -0.000023 -0.000042   \n",
       "2022-07-29 21:00:00+00:00 -8.494415e-06 -0.000013 -0.000010  0.000017   \n",
       "2022-07-29 22:00:00+00:00 -7.406064e-06  0.000014  0.000071  0.000110   \n",
       "2022-07-29 23:00:00+00:00 -6.569038e-06 -0.000002  0.000018  0.000245   \n",
       "2022-07-31 21:00:00+00:00 -6.741360e-06  0.000009  0.000110  0.000234   \n",
       "2022-07-31 22:00:00+00:00 -6.902246e-06  0.000021  0.000165  0.000513   \n",
       "2022-07-31 23:00:00+00:00 -1.071045e-05  0.000024  0.000123  0.000377   \n",
       "\n",
       "                                GBP       JPY       NZD       USD  \n",
       "2022-07-29 07:00:00+00:00 -0.000713 -0.002137 -0.002900 -0.005990  \n",
       "2022-07-29 08:00:00+00:00 -0.000117 -0.000440 -0.001049 -0.001857  \n",
       "2022-07-29 09:00:00+00:00 -0.000796 -0.001676 -0.000515 -0.002041  \n",
       "2022-07-29 10:00:00+00:00  0.000700  0.000347  0.000249 -0.000665  \n",
       "2022-07-29 11:00:00+00:00 -0.002158 -0.005259 -0.009179 -0.009749  \n",
       "2022-07-29 12:00:00+00:00 -0.000238 -0.002613 -0.003476  0.000904  \n",
       "2022-07-29 13:00:00+00:00 -0.002628 -0.006549 -0.013112 -0.018245  \n",
       "2022-07-29 14:00:00+00:00  0.000904  0.000626 -0.001325 -0.004629  \n",
       "2022-07-29 15:00:00+00:00 -0.006285 -0.012426 -0.015304 -0.020481  \n",
       "2022-07-29 16:00:00+00:00 -0.003349  0.000646  0.002323  0.008482  \n",
       "2022-07-29 17:00:00+00:00 -0.000125 -0.000103  0.000850  0.002483  \n",
       "2022-07-29 18:00:00+00:00 -0.000729  0.000444  0.000476  0.001044  \n",
       "2022-07-29 19:00:00+00:00  0.000143 -0.003624 -0.005282 -0.005153  \n",
       "2022-07-29 20:00:00+00:00 -0.000034  0.002159  0.004741  0.006695  \n",
       "2022-07-29 21:00:00+00:00  0.001665  0.002630  0.003620  0.003257  \n",
       "2022-07-29 22:00:00+00:00  0.000438  0.000732  0.000898  0.001344  \n",
       "2022-07-29 23:00:00+00:00  0.000493  0.000533 -0.002047 -0.003528  \n",
       "2022-07-31 21:00:00+00:00  0.000742  0.001389 -0.002839 -0.003389  \n",
       "2022-07-31 22:00:00+00:00 -0.000233 -0.001015  0.004216  0.004709  \n",
       "2022-07-31 23:00:00+00:00  0.000661  0.000667 -0.000099 -0.001230  "
      ]
     },
     "execution_count": 252,
     "metadata": {},
     "output_type": "execute_result"
    }
   ],
   "source": [
    "volatilities_df"
   ]
  },
  {
   "cell_type": "code",
   "execution_count": 143,
   "metadata": {},
   "outputs": [
    {
     "data": {
      "text/html": [
       "<div>\n",
       "<style scoped>\n",
       "    .dataframe tbody tr th:only-of-type {\n",
       "        vertical-align: middle;\n",
       "    }\n",
       "\n",
       "    .dataframe tbody tr th {\n",
       "        vertical-align: top;\n",
       "    }\n",
       "\n",
       "    .dataframe thead th {\n",
       "        text-align: right;\n",
       "    }\n",
       "</style>\n",
       "<table border=\"1\" class=\"dataframe\">\n",
       "  <thead>\n",
       "    <tr style=\"text-align: right;\">\n",
       "      <th></th>\n",
       "      <th>AUD</th>\n",
       "      <th>CAD</th>\n",
       "      <th>CHF</th>\n",
       "      <th>EUR</th>\n",
       "      <th>GBP</th>\n",
       "      <th>JPY</th>\n",
       "      <th>NZD</th>\n",
       "      <th>USD</th>\n",
       "    </tr>\n",
       "    <tr>\n",
       "      <th>next_hour_index</th>\n",
       "      <th></th>\n",
       "      <th></th>\n",
       "      <th></th>\n",
       "      <th></th>\n",
       "      <th></th>\n",
       "      <th></th>\n",
       "      <th></th>\n",
       "      <th></th>\n",
       "    </tr>\n",
       "  </thead>\n",
       "  <tbody>\n",
       "    <tr>\n",
       "      <th>2021-12-23 20:00:00+00:00</th>\n",
       "      <td>-0.000002</td>\n",
       "      <td>-0.000015</td>\n",
       "      <td>-0.000055</td>\n",
       "      <td>-0.00012</td>\n",
       "      <td>-0.00015</td>\n",
       "      <td>-0.000037</td>\n",
       "      <td>0.000302</td>\n",
       "      <td>0.00086</td>\n",
       "    </tr>\n",
       "  </tbody>\n",
       "</table>\n",
       "</div>"
      ],
      "text/plain": [
       "                                AUD       CAD       CHF      EUR      GBP  \\\n",
       "next_hour_index                                                             \n",
       "2021-12-23 20:00:00+00:00 -0.000002 -0.000015 -0.000055 -0.00012 -0.00015   \n",
       "\n",
       "                                JPY       NZD      USD  \n",
       "next_hour_index                                         \n",
       "2021-12-23 20:00:00+00:00 -0.000037  0.000302  0.00086  "
      ]
     },
     "execution_count": 143,
     "metadata": {},
     "output_type": "execute_result"
    }
   ],
   "source": [
    "### What's the actual value?\n",
    "vol_actual = pd.DataFrame(test.iloc[0] - train_df.iloc[-1]).T\n",
    "vol_actual['next_hour_index'] = test.index[0]\n",
    "vol_actual = vol_actual.set_index('next_hour_index')\n",
    "vol_actual"
   ]
  },
  {
   "cell_type": "code",
   "execution_count": 126,
   "metadata": {},
   "outputs": [
    {
     "data": {
      "text/html": [
       "<div>\n",
       "<style scoped>\n",
       "    .dataframe tbody tr th:only-of-type {\n",
       "        vertical-align: middle;\n",
       "    }\n",
       "\n",
       "    .dataframe tbody tr th {\n",
       "        vertical-align: top;\n",
       "    }\n",
       "\n",
       "    .dataframe thead th {\n",
       "        text-align: right;\n",
       "    }\n",
       "</style>\n",
       "<table border=\"1\" class=\"dataframe\">\n",
       "  <thead>\n",
       "    <tr style=\"text-align: right;\">\n",
       "      <th></th>\n",
       "      <th>AUD</th>\n",
       "      <th>CAD</th>\n",
       "      <th>CHF</th>\n",
       "      <th>EUR</th>\n",
       "      <th>GBP</th>\n",
       "      <th>JPY</th>\n",
       "      <th>NZD</th>\n",
       "      <th>USD</th>\n",
       "    </tr>\n",
       "    <tr>\n",
       "      <th>next_hour_index</th>\n",
       "      <th></th>\n",
       "      <th></th>\n",
       "      <th></th>\n",
       "      <th></th>\n",
       "      <th></th>\n",
       "      <th></th>\n",
       "      <th></th>\n",
       "      <th></th>\n",
       "    </tr>\n",
       "  </thead>\n",
       "  <tbody>\n",
       "    <tr>\n",
       "      <th>2021-12-23 20:00:00+00:00</th>\n",
       "      <td>-0.000008</td>\n",
       "      <td>0.000007</td>\n",
       "      <td>0.000025</td>\n",
       "      <td>0.000021</td>\n",
       "      <td>0.00002</td>\n",
       "      <td>-0.000039</td>\n",
       "      <td>-0.000207</td>\n",
       "      <td>-0.000504</td>\n",
       "    </tr>\n",
       "  </tbody>\n",
       "</table>\n",
       "</div>"
      ],
      "text/plain": [
       "                                AUD       CAD       CHF       EUR      GBP  \\\n",
       "next_hour_index                                                              \n",
       "2021-12-23 20:00:00+00:00 -0.000008  0.000007  0.000025  0.000021  0.00002   \n",
       "\n",
       "                                JPY       NZD       USD  \n",
       "next_hour_index                                          \n",
       "2021-12-23 20:00:00+00:00 -0.000039 -0.000207 -0.000504  "
      ]
     },
     "execution_count": 126,
     "metadata": {},
     "output_type": "execute_result"
    }
   ],
   "source": [
    "### what's the performacne of the prediction in relation to the actual values?\n",
    "# perfomance = vol_predicted - vol_actual\n",
    "perf = pd.DataFrame(vol_df-test.iloc[0]).reset_index(drop=True)   #, columns=vol_df.columns).set_index=test.iloc[0]\n",
    "perf['next_hour_index'] = test.index[0]\n",
    "perf.set_index('next_hour_index')"
   ]
  },
  {
   "cell_type": "markdown",
   "metadata": {},
   "source": [
    "# Test to save one huge dataset"
   ]
  },
  {
   "cell_type": "code",
   "execution_count": null,
   "metadata": {},
   "outputs": [],
   "source": [
    "# Loop over all the test values\n",
    "volatilities = {'next_hour_index': []}\n",
    "\n",
    "with warnings.catch_warnings():\n",
    "    warnings.simplefilter('ignore', category=Warning)\n",
    "    for row in list(test.index): \n",
    "        arima_forc_dict = {'next_hour_index': []}\n",
    "        \n",
    "        volatilities['next_hour_index'] = row\n",
    "        \n",
    "        vol_dict = {'next_hour_index': []}\n",
    "        for column in list(train_for_params.columns):\n",
    "\n",
    "            arima = ARIMA(train_for_params[column], order=params[column])\n",
    "            arima_fit = arima.fit()\n",
    "            forecast_results = arima_fit.get_forecast(1, alpha=0.05) # get_forecast( ) define the length of predictions\n",
    "            \n",
    "            arima_forc_dict['next_hour_index'] = list(forecast_results.predicted_mean.index) # hourly indexes we predict\n",
    "            arima_forc_dict[column] = list(forecast_results.predicted_mean) # forecast values\n",
    "            \n",
    "            # Use residuals in the Garch    \n",
    "            garch = arch.arch_model(arima_forc_dict[column], p=1, q=1)\n",
    "            garch_fitted = garch.fit()\n",
    "            # Use GARCH to predict the residual\n",
    "            garch_forecast = garch_fitted.forecast(horizon=1,reindex=False)\n",
    "            predicted_et = garch_forecast.mean['h.1'].iloc[-1]\n",
    "        \n",
    "            # Combine both models' output: yt = mu + et\n",
    "            volatility = arima_forc_dict[column] + predicted_et\n",
    "            # Put them into dict\n",
    "            vol_dict['next_hour_index'] = list(forecast_results.predicted_mean.index)\n",
    "            vol_dict[column] = volatility\n",
    "            print(colored(f'\\n \\n Predicted volatility for {column} currency is: {volatility}','red'))   \n",
    "            \n",
    "            # One row of prediction in dict format\n",
    "            volatilities[column] = [volatility]"
   ]
  }
 ],
 "metadata": {
  "kernelspec": {
   "display_name": "Python 3 (ipykernel)",
   "language": "python",
   "name": "python3"
  },
  "language_info": {
   "codemirror_mode": {
    "name": "ipython",
    "version": 3
   },
   "file_extension": ".py",
   "mimetype": "text/x-python",
   "name": "python",
   "nbconvert_exporter": "python",
   "pygments_lexer": "ipython3",
   "version": "3.8.12"
  },
  "vscode": {
   "interpreter": {
    "hash": "54e42423db0fb8ea268e34fb706f91ff8ae1327ccc879a5a37f3b129500dd3b6"
   }
  }
 },
 "nbformat": 4,
 "nbformat_minor": 2
}
